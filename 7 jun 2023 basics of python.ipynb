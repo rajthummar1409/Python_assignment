{
 "cells": [
  {
   "cell_type": "code",
   "execution_count": 1,
   "id": "f88fb45c",
   "metadata": {},
   "outputs": [
    {
     "name": "stdout",
     "output_type": "stream",
     "text": [
      "hello word\n"
     ]
    }
   ],
   "source": [
    "#print function\n",
    "print(\"hello word\")"
   ]
  },
  {
   "cell_type": "code",
   "execution_count": 9,
   "id": "12c9d6f0",
   "metadata": {},
   "outputs": [
    {
     "name": "stdout",
     "output_type": "stream",
     "text": [
      "Hello i\"am learning Python\n",
      "i am arpit thummar \n",
      "my name is arpit\n",
      "my\tname\tis\tarpit\tthummar\n",
      "i am arpit\bt thummar\n"
     ]
    }
   ],
   "source": [
    "# Escape Sequence---- \\\n",
    "\n",
    "# \\n --newline character\n",
    "# \\t ---tab space\n",
    "# \\'\n",
    "# \\\" ---double quote\n",
    "# \\b--- backspace\n",
    "\n",
    "# Hello i\"am learning Python\n",
    "print(\"Hello i\\\"am learning Python\")\n",
    "print(\"i am arpit thummar \\nmy name is arpit\")\n",
    "print(\"my\\tname\\tis\\tarpit\\tthummar\")\n",
    "print(\"i am arpit\\bt thummar\")"
   ]
  },
  {
   "cell_type": "code",
   "execution_count": 11,
   "id": "f4b7879b",
   "metadata": {},
   "outputs": [
    {
     "ename": "SyntaxError",
     "evalue": "unterminated string literal (detected at line 8) (1991923533.py, line 8)",
     "output_type": "error",
     "traceback": [
      "\u001b[1;36m  Cell \u001b[1;32mIn[11], line 8\u001b[1;36m\u001b[0m\n\u001b[1;33m    print(\"ergertgrger)\u001b[0m\n\u001b[1;37m          ^\u001b[0m\n\u001b[1;31mSyntaxError\u001b[0m\u001b[1;31m:\u001b[0m unterminated string literal (detected at line 8)\n"
     ]
    }
   ],
   "source": [
    "#type of errer\n",
    "\n",
    "#name errer\n",
    "print(arpit)\n",
    "prin(\"arpit\")\n",
    "\n",
    "#EOL --end of line\n",
    "print(\"ergertgrger)\n",
    "      \n",
    "#Eof--end of file`      \n",
    "print(\"rfgergergergeger\"     \n",
    "      "
   ]
  },
  {
   "cell_type": "code",
   "execution_count": 12,
   "id": "81d828ef",
   "metadata": {},
   "outputs": [
    {
     "ename": "SyntaxError",
     "evalue": "unterminated string literal (detected at line 4) (2640699570.py, line 4)",
     "output_type": "error",
     "traceback": [
      "\u001b[1;36m  Cell \u001b[1;32mIn[12], line 4\u001b[1;36m\u001b[0m\n\u001b[1;33m    '---single quote \" \"\"\"\u001b[0m\n\u001b[1;37m    ^\u001b[0m\n\u001b[1;31mSyntaxError\u001b[0m\u001b[1;31m:\u001b[0m unterminated string literal (detected at line 4)\n"
     ]
    }
   ],
   "source": [
    "#SIMBOLS\n",
    "\n",
    ",---comma\n",
    "'---single quote \" \"\"\"\n",
    ": ---colon\n",
    ";--semi colon\n",
    "( ---round bracktes\n",
    "{ --curly bracktes\n",
    "[---square bracktes\n",
    "-   hyphen\n",
    "_ underscore\n",
    "` --backtick\n",
    "~ tilde\n",
    "\\  backslash\n",
    "/ forward slash "
   ]
  },
  {
   "cell_type": "code",
   "execution_count": 13,
   "id": "abd51744",
   "metadata": {},
   "outputs": [
    {
     "ename": "SyntaxError",
     "evalue": "invalid syntax. Perhaps you forgot a comma? (687447395.py, line 8)",
     "output_type": "error",
     "traceback": [
      "\u001b[1;36m  Cell \u001b[1;32mIn[13], line 8\u001b[1;36m\u001b[0m\n\u001b[1;33m    1---    a-z(lowercase letters) A-Z(Uppercase letters) _(Unserscore)\u001b[0m\n\u001b[1;37m                ^\u001b[0m\n\u001b[1;31mSyntaxError\u001b[0m\u001b[1;31m:\u001b[0m invalid syntax. Perhaps you forgot a comma?\n"
     ]
    }
   ],
   "source": [
    "# Variables\n",
    "\n",
    "# variable declaration\n",
    "# variablename= value\n",
    "\n",
    "# variblename is of your choice\n",
    "\n",
    "1---    a-z(lowercase letters) A-Z(Uppercase letters) _(Unserscore)\n",
    "2--     a-z  A-Z  _ 0-9\n",
    "\n",
    "suugestion---\n",
    "1----do not exceed lenght greater than 255 character\n",
    "2---never use space\n",
    "3--- never use keyword as a name"
   ]
  },
  {
   "cell_type": "code",
   "execution_count": 14,
   "id": "1a55ab4b",
   "metadata": {},
   "outputs": [
    {
     "ename": "SyntaxError",
     "evalue": "invalid syntax (988655571.py, line 3)",
     "output_type": "error",
     "traceback": [
      "\u001b[1;36m  Cell \u001b[1;32mIn[14], line 3\u001b[1;36m\u001b[0m\n\u001b[1;33m    int ---  58 12 54 56 89 -96 -65 -75\u001b[0m\n\u001b[1;37m                ^\u001b[0m\n\u001b[1;31mSyntaxError\u001b[0m\u001b[1;31m:\u001b[0m invalid syntax\n"
     ]
    }
   ],
   "source": [
    "# datatypes\n",
    "\n",
    "int ---  58 12 54 56 89 -96 -65 -75 \n",
    "float --- 58.36 23 -36.23 -89.23\n",
    "boolean---True False \"True\"\n",
    "string --- 'rcsv erfdverv sdvefvbf'  \"\" \"\"\" \"\"\"  '''  '''\n",
    "\n",
    "list\n",
    "tuple\n",
    "set\n",
    "dictionary"
   ]
  },
  {
   "cell_type": "code",
   "execution_count": 1,
   "id": "14b141a7",
   "metadata": {},
   "outputs": [
    {
     "name": "stdout",
     "output_type": "stream",
     "text": [
      "Ram is a Ram 48 Good RamBoy25.36\n",
      "Ram  is a good boy\n"
     ]
    }
   ],
   "source": [
    "# formatted string --- f\n",
    "\n",
    "name=\"Ram\"\n",
    "age=48\n",
    "weight=25.36\n",
    "print(f\"{name} is a {name} {age} Good {name}Boy{weight}\")\n",
    "print(name,\" is a good boy\")\n"
   ]
  },
  {
   "cell_type": "code",
   "execution_count": 16,
   "id": "91579408",
   "metadata": {},
   "outputs": [
    {
     "data": {
      "text/plain": [
       "float"
      ]
     },
     "execution_count": 16,
     "metadata": {},
     "output_type": "execute_result"
    }
   ],
   "source": [
    "# typecasting\n",
    "\n",
    "# float(age)\n",
    "age=18\n",
    "age=float(age)\n",
    "type(age)"
   ]
  },
  {
   "cell_type": "code",
   "execution_count": 17,
   "id": "979a30d5",
   "metadata": {},
   "outputs": [
    {
     "name": "stdout",
     "output_type": "stream",
     "text": [
      "Enter NAme: arpit\n",
      "enter Age: 24\n",
      "Enter Emailarpitthummarat@gmail.com\n",
      "name\t:\tarpit\n",
      "age\t:\t24\n",
      "email\t:\tarpitthummarat@gmail.com\n"
     ]
    }
   ],
   "source": [
    "#first\n",
    "\n",
    "name=input(\"Enter NAme: \")\n",
    "age=int(input(\"enter Age: \"))\n",
    "email=input(\"Enter Email\")\n",
    "print(f\"name\\t:\\t{name}\\nage\\t:\\t{age}\\nemail\\t:\\t{email}\")"
   ]
  },
  {
   "cell_type": "code",
   "execution_count": null,
   "id": "a3cfc79e",
   "metadata": {},
   "outputs": [],
   "source": []
  }
 ],
 "metadata": {
  "kernelspec": {
   "display_name": "Python 3 (ipykernel)",
   "language": "python",
   "name": "python3"
  },
  "language_info": {
   "codemirror_mode": {
    "name": "ipython",
    "version": 3
   },
   "file_extension": ".py",
   "mimetype": "text/x-python",
   "name": "python",
   "nbconvert_exporter": "python",
   "pygments_lexer": "ipython3",
   "version": "3.12.2"
  }
 },
 "nbformat": 4,
 "nbformat_minor": 5
}
