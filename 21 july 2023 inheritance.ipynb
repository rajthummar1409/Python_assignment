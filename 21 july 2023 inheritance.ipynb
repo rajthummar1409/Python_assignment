{
 "cells": [
  {
   "cell_type": "code",
   "execution_count": null,
   "id": "e50d8494",
   "metadata": {},
   "outputs": [],
   "source": [
    "# inheritance"
   ]
  },
  {
   "cell_type": "code",
   "execution_count": null,
   "id": "dbbba4cb",
   "metadata": {},
   "outputs": [],
   "source": [
    "# inheritance---virasat \n",
    "\n",
    "super class---base class---parent class\n",
    "\n",
    "sub class----derived class---child class\n",
    "\n",
    "\n",
    "# types of inheritance\n",
    "\n",
    "1---Single Inheritance\n",
    "2---multilevel Inheritance\n",
    "3---Multiple Inheritance\n",
    "4---Hierarchical Inherirtance\n",
    "5---Hybrid Inheritance"
   ]
  },
  {
   "cell_type": "code",
   "execution_count": null,
   "id": "4491fae9",
   "metadata": {},
   "outputs": [],
   "source": [
    "# Single Inheritance\n",
    "\n",
    "class A:\n",
    "    def __init__(self):\n",
    "        self.x=None\n",
    "        self.y=None\n",
    "        \n",
    "    def geta(self):\n",
    "        self.x=int(input(\"Enter number: \"))\n",
    "        self.y=int(input(\"Enter number: \"))\n",
    "        \n",
    "    def showa(self):\n",
    "        print(f\"Value of X is {self.x} and Value of Y is {self.y}\")\n",
    "        \n",
    "class B(A):\n",
    "    def __init__(self):\n",
    "        self.m=None\n",
    "        self.n=None\n",
    "        super().__init__() #calling parent class constructor\n",
    "        \n",
    "    def getb(self):\n",
    "        self.m=int(input(\"Enter number: \"))\n",
    "        self.n=int(input(\"Enter number: \"))\n",
    "        \n",
    "    def showb(self):\n",
    "        print(f\"Value of M is {self.m} and Value of N is {self.n}\")"
   ]
  },
  {
   "cell_type": "code",
   "execution_count": null,
   "id": "644b6f92",
   "metadata": {},
   "outputs": [],
   "source": [
    "a1=A()\n",
    "b1=B()\n",
    "b1.showb()\n",
    "b1.showa()"
   ]
  },
  {
   "cell_type": "code",
   "execution_count": 2,
   "id": "b0f0f5ce",
   "metadata": {},
   "outputs": [],
   "source": [
    "# multilevel Inheritance\n",
    "\n",
    "class A:\n",
    "    def __init__(self):\n",
    "        self.x=None\n",
    "        self.y=None\n",
    "        \n",
    "    def geta(self):\n",
    "        self.x=int(input(\"Enter number: \"))\n",
    "        self.y=int(input(\"Enter number: \"))\n",
    "        \n",
    "    def showa(self):\n",
    "        print(f\"Value of X is {self.x} and Value of Y is {self.y}\")\n",
    "        \n",
    "class B(A):\n",
    "    def __init__(self):\n",
    "        self.m=None\n",
    "        self.n=None\n",
    "        super().__init__() #calling parent class constructor\n",
    "        \n",
    "    def getb(self):\n",
    "        self.m=int(input(\"Enter number: \"))\n",
    "        self.n=int(input(\"Enter number: \"))\n",
    "        \n",
    "    def showb(self):\n",
    "        print(f\"Value of M is {self.m} and Value of N is {self.n}\")\n",
    "\n",
    "        \n",
    "class C(B):\n",
    "    def __init__(self):\n",
    "        self.a=None\n",
    "        self.b=None\n",
    "        super().__init__() #calling parent class constructor\n",
    "        \n",
    "    def getc(self):\n",
    "        self.a=int(input(\"Enter number: \"))\n",
    "        self.b=int(input(\"Enter number: \"))\n",
    "        \n",
    "    def showc(self):\n",
    "        print(f\"Value of A is {self.a} and Value of B is {self.b}\")    "
   ]
  },
  {
   "cell_type": "code",
   "execution_count": 3,
   "id": "fdd1939a",
   "metadata": {},
   "outputs": [
    {
     "name": "stdout",
     "output_type": "stream",
     "text": [
      "Enter number: 25\n",
      "Enter number: 25\n",
      "Value of A is 25 and Value of B is 25\n"
     ]
    }
   ],
   "source": [
    "c1=C()\n",
    "c1.getc()\n",
    "c1.showc()\n",
    "\n"
   ]
  },
  {
   "cell_type": "code",
   "execution_count": 4,
   "id": "0c13fd0e",
   "metadata": {},
   "outputs": [],
   "source": [
    "# Multiple Inheritance\n",
    "\n",
    "class A:\n",
    "    def __init__(self):\n",
    "        self.x=None\n",
    "        self.y=None\n",
    "        \n",
    "    def geta(self):\n",
    "        self.x=int(input(\"Enter number: \"))\n",
    "        self.y=int(input(\"Enter number: \"))\n",
    "        \n",
    "    def showa(self):\n",
    "        print(f\"Value of X is {self.x} and Value of Y is {self.y}\")\n",
    "        \n",
    "class B:\n",
    "    def __init__(self):\n",
    "        self.m=None\n",
    "        self.n=None\n",
    "        super().__init__() #calling parent class constructor\n",
    "        \n",
    "    def getb(self):\n",
    "        self.m=int(input(\"Enter number: \"))\n",
    "        self.n=int(input(\"Enter number: \"))\n",
    "        \n",
    "    def showb(self):\n",
    "        print(f\"Value of M is {self.m} and Value of N is {self.n}\")    \n",
    "        \n",
    "        \n",
    "class C(A,B):\n",
    "    def __init__(self):\n",
    "        self.a=None\n",
    "        self.b=None\n",
    "        super().__init__() #calling parent class constructor\n",
    "        \n",
    "    def getc(self):\n",
    "        self.a=int(input(\"Enter number: \"))\n",
    "        self.b=int(input(\"Enter number: \"))\n",
    "        \n",
    "    def showc(self):\n",
    "        print(f\"Value of A is {self.a} and Value of B is {self.b}\")         "
   ]
  },
  {
   "cell_type": "code",
   "execution_count": 5,
   "id": "7efc361c",
   "metadata": {},
   "outputs": [
    {
     "name": "stdout",
     "output_type": "stream",
     "text": [
      "Enter number: 25\n",
      "Enter number: 25\n",
      "Enter number: 25\n",
      "Enter number: 25\n",
      "Value of X is 25 and Value of Y is 25\n",
      "Value of m is 25 and Value of N is 25\n"
     ]
    }
   ],
   "source": [
    "c1=C()\n",
    "c1.geta()\n",
    "c1.getb()\n",
    "c1.showa()\n",
    "c1.showb()"
   ]
  },
  {
   "cell_type": "code",
   "execution_count": 6,
   "id": "3d9c1e5a",
   "metadata": {},
   "outputs": [],
   "source": [
    "# Hierarchical Inherirtance\n",
    "\n",
    "class A:\n",
    "    def __init__(self):\n",
    "        self.x=None\n",
    "        self.y=None\n",
    "        \n",
    "    def geta(self):\n",
    "        self.x=int(input(\"Enter number: \"))\n",
    "        self.y=int(input(\"Enter number: \"))\n",
    "        \n",
    "    def showa(self):\n",
    "        print(f\"Value of X is {self.x} and Value of Y is {self.y}\")\n",
    "        \n",
    "class B(A):\n",
    "    def __init__(self):\n",
    "        self.m=None\n",
    "        self.n=None\n",
    "        super().__init__() #calling parent class constructor\n",
    "        \n",
    "    def getb(self):\n",
    "        self.m=int(input(\"Enter number: \"))\n",
    "        self.n=int(input(\"Enter number: \"))\n",
    "        \n",
    "    def showb(self):\n",
    "        print(f\"Value of M is {self.m} and Value of N is {self.n}\")    \n",
    "        \n",
    "        \n",
    "class C(A):\n",
    "    def __init__(self):\n",
    "        self.a=None\n",
    "        self.b=None\n",
    "        super().__init__() #calling parent class constructor\n",
    "        \n",
    "    def getc(self):\n",
    "        self.a=int(input(\"Enter number: \"))\n",
    "        self.b=int(input(\"Enter number: \"))\n",
    "        \n",
    "    def showc(self):\n",
    "        print(f\"Value of A is {self.a} and Value of B is {self.b}\")"
   ]
  },
  {
   "cell_type": "code",
   "execution_count": null,
   "id": "956f057d",
   "metadata": {},
   "outputs": [
    {
     "name": "stdout",
     "output_type": "stream",
     "text": [
      "Enter number: 25\n"
     ]
    }
   ],
   "source": [
    "c1=C()\n",
    "c1.geta()\n",
    "c1.getb()\n",
    "c1.showa()\n",
    "c1.showb()\n",
    "b1=B()\n",
    "b1.geta()\n",
    "b1.getb()\n",
    "b1.showa()\n",
    "b1.showb()"
   ]
  }
 ],
 "metadata": {
  "kernelspec": {
   "display_name": "Python 3 (ipykernel)",
   "language": "python",
   "name": "python3"
  },
  "language_info": {
   "codemirror_mode": {
    "name": "ipython",
    "version": 3
   },
   "file_extension": ".py",
   "mimetype": "text/x-python",
   "name": "python",
   "nbconvert_exporter": "python",
   "pygments_lexer": "ipython3",
   "version": "3.10.9"
  }
 },
 "nbformat": 4,
 "nbformat_minor": 5
}
