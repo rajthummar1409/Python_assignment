{
 "cells": [
  {
   "cell_type": "code",
   "execution_count": null,
   "id": "0ab02596",
   "metadata": {},
   "outputs": [],
   "source": [
    "# ATM Function"
   ]
  },
  {
   "cell_type": "code",
   "execution_count": 30,
   "id": "42e09356",
   "metadata": {},
   "outputs": [],
   "source": [
    "class customer_data:\n",
    "    \n",
    "    def __init__(self): #constructor\n",
    "        self.name=None\n",
    "        self.age=None\n",
    "        self.number=None\n",
    "        self.check_belance=None\n",
    "        self.add_money=None\n",
    "        self.widr_money=None\n",
    "        self.customer_data={}\n",
    "     \n",
    "    def getData(self):\n",
    "        self.name = input(\"Enter customer name: \")\n",
    "        self.age = int(input(\"Enter customer age: \"))\n",
    "        self.number = input(\"Enter customer phone number: \")\n",
    "        self.check_balance = float(input(\"Enter customer balance: \"))\n",
    "        self.add_money = float(input(\"Enter amount to add: \"))\n",
    "        self.withdraw_money = float(input(\"Enter amount to withdraw: \"))\n",
    "     \n",
    "    def showData(self):\n",
    "            \n",
    "    \n",
    "    "
   ]
  },
  {
   "cell_type": "code",
   "execution_count": 31,
   "id": "98a7389e",
   "metadata": {},
   "outputs": [
    {
     "name": "stdout",
     "output_type": "stream",
     "text": [
      "Enter customer name: arpit\n",
      "Enter customer age: 25\n",
      "Enter customer phone number: 654789123\n",
      "Enter customer balance: 254126\n",
      "Enter amount to add: 458756\n",
      "Enter amount to withdraw: 154256\n",
      "\n",
      "Customer Data:\n"
     ]
    }
   ],
   "source": [
    "s1 = customer_data()\n",
    "s1.getData()\n",
    "s1.showData()"
   ]
  }
 ],
 "metadata": {
  "kernelspec": {
   "display_name": "Python 3 (ipykernel)",
   "language": "python",
   "name": "python3"
  },
  "language_info": {
   "codemirror_mode": {
    "name": "ipython",
    "version": 3
   },
   "file_extension": ".py",
   "mimetype": "text/x-python",
   "name": "python",
   "nbconvert_exporter": "python",
   "pygments_lexer": "ipython3",
   "version": "3.10.9"
  }
 },
 "nbformat": 4,
 "nbformat_minor": 5
}
