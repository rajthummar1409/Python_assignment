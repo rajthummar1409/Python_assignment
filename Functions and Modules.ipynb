{
 "cells": [
  {
   "cell_type": "code",
   "execution_count": 70,
   "id": "457db964",
   "metadata": {},
   "outputs": [
    {
     "name": "stdout",
     "output_type": "stream",
     "text": [
      "39233162\n"
     ]
    }
   ],
   "source": [
    "# Function"
   ]
  },
  {
   "cell_type": "code",
   "execution_count": null,
   "id": "864f5fec",
   "metadata": {},
   "outputs": [],
   "source": [
    "def functionname([parameters]):\n",
    "    body of the function\n",
    "    return value\n",
    "    rfer\n",
    "    erger\n",
    "\n"
   ]
  },
  {
   "cell_type": "code",
   "execution_count": null,
   "id": "368e98a0",
   "metadata": {},
   "outputs": [],
   "source": [
    "def greet(n):\n",
    "    print(n)\n",
    "    print(\"HGello World\")\n",
    "    return \"wonderful\""
   ]
  },
  {
   "cell_type": "code",
   "execution_count": null,
   "id": "4861af91",
   "metadata": {},
   "outputs": [],
   "source": [
    "# parameters\n",
    "a=10\n",
    "greet(a)\n",
    "print(greet(\"wow\"))"
   ]
  },
  {
   "cell_type": "code",
   "execution_count": null,
   "id": "4ee73d95",
   "metadata": {},
   "outputs": [],
   "source": [
    "def addition(a,b): #parameters\n",
    "    return a*b"
   ]
  },
  {
   "cell_type": "code",
   "execution_count": null,
   "id": "5a23cf56",
   "metadata": {},
   "outputs": [],
   "source": [
    "ans=addition(45,65)\n",
    "print(ans)\n",
    "ans=addition(101,25) #arguments\n",
    "print(ans)\n",
    "# add=addition(45,25,101)\n",
    "# print(add)\n",
    "ans=addition(\"hello\",\"world\")\n",
    "print(ans)"
   ]
  },
  {
   "cell_type": "code",
   "execution_count": null,
   "id": "e360f3b2",
   "metadata": {},
   "outputs": [],
   "source": [
    "# Types of parameters \n",
    "# 1---positional parameters\n",
    "def showvalue(a,b,c):\n",
    "    print(a,b,c)"
   ]
  },
  {
   "cell_type": "code",
   "execution_count": null,
   "id": "b2fc00c8",
   "metadata": {},
   "outputs": [],
   "source": [
    "showvalue(45,25,25)"
   ]
  },
  {
   "cell_type": "code",
   "execution_count": null,
   "id": "c55477f8",
   "metadata": {},
   "outputs": [],
   "source": [
    "# keyword argument\n",
    "def showvalue(a,b,c):\n",
    "    print(a,b,c)"
   ]
  },
  {
   "cell_type": "code",
   "execution_count": null,
   "id": "7c70eed3",
   "metadata": {},
   "outputs": [],
   "source": [
    "# 3-deafult argument\n",
    "def showdata(a=0,b=2):\n",
    "    print(a*b)"
   ]
  },
  {
   "cell_type": "code",
   "execution_count": null,
   "id": "55bf6044",
   "metadata": {},
   "outputs": [],
   "source": [
    "showdata(45)"
   ]
  },
  {
   "cell_type": "code",
   "execution_count": null,
   "id": "e7bf46f6",
   "metadata": {},
   "outputs": [],
   "source": [
    "# a--arbitrary positional argument  * --tuple\n",
    "def addition(a,d,*b):\n",
    "    print(a+b)\n",
    "addition(87,12,54,78,596,585,69) "
   ]
  },
  {
   "cell_type": "code",
   "execution_count": null,
   "id": "1ae9a468",
   "metadata": {},
   "outputs": [],
   "source": [
    "# arbitrary keyword argument ** --dictionary\n",
    "def addition(a,**b):\n",
    "    print(a,b)\n",
    "addition(b=40,a=60,c=70,d=90,e=50)"
   ]
  },
  {
   "cell_type": "code",
   "execution_count": null,
   "id": "b0663c39",
   "metadata": {},
   "outputs": [],
   "source": [
    "5-5*4*3*2*1=120\n",
    "\n",
    "factorial(5)\n",
    "factorila(8)---"
   ]
  },
  {
   "cell_type": "code",
   "execution_count": null,
   "id": "acb5f3bd",
   "metadata": {},
   "outputs": [],
   "source": [
    "[{'item': 'item1', 'amount': 400},\n",
    " {'item': 'item2', 'amount':300}, \n",
    " {'item': 'item2', 'amount': 750},\n",
    " {'item': 'item1', 'amount': 400},\n",
    " {'item': 'item3', 'amount':300},\n",
    " {'item': 'item3', 'amount': 400},\n",
    " {'item': 'item2', 'amount':300}]\n",
    "\n",
    "\n",
    "{\"item1\":800,\"item2\":1350,\"item3\":700}"
   ]
  },
  {
   "cell_type": "code",
   "execution_count": null,
   "id": "6a7a0a91",
   "metadata": {},
   "outputs": [],
   "source": [
    "list1=[{'item': 'item1', 'amount': 400},\n",
    " {'item': 'item2', 'amount':300}, \n",
    " {'item': 'item2', 'amount': 750},\n",
    " {'item': 'item1', 'amount': 400},]\n",
    "dict1={}\n",
    "for i in list1:\n",
    "    if i[\"item\"]not in dict1.keys():\n",
    "        dict1.update({i[\"item\"]:i[\"amount\"]})\n",
    "    else:\n",
    "        dict1[i[\"item\"]]=dict1[i[\"item\"]]+i[\"amount\"]\n",
    "print(dict1)"
   ]
  },
  {
   "cell_type": "code",
   "execution_count": null,
   "id": "e973ded0",
   "metadata": {},
   "outputs": [],
   "source": [
    "# Modules"
   ]
  },
  {
   "cell_type": "code",
   "execution_count": null,
   "id": "a445c993",
   "metadata": {},
   "outputs": [],
   "source": [
    "# pip install modulename"
   ]
  },
  {
   "cell_type": "code",
   "execution_count": null,
   "id": "97e00d5d",
   "metadata": {},
   "outputs": [],
   "source": [
    "# pip install seaborn\n",
    "import seaborn"
   ]
  },
  {
   "cell_type": "code",
   "execution_count": null,
   "id": "85abce14",
   "metadata": {},
   "outputs": [],
   "source": [
    "import scrapy"
   ]
  },
  {
   "cell_type": "code",
   "execution_count": null,
   "id": "aef5f161",
   "metadata": {},
   "outputs": [],
   "source": [
    "# random\n",
    "import random as r\n",
    "# random.randint(455,987)\n",
    "r.randint(488,521)"
   ]
  },
  {
   "cell_type": "code",
   "execution_count": null,
   "id": "cb440cdd",
   "metadata": {},
   "outputs": [],
   "source": [
    "from random import randint as rit,randrange as rra  #alias\n",
    "rit(455,987)"
   ]
  },
  {
   "cell_type": "code",
   "execution_count": null,
   "id": "bfe641de",
   "metadata": {},
   "outputs": [],
   "source": [
    "import random \n",
    "print(random.randint(455,8587))\n",
    "print(random.randrange(455,8574,9))\n",
    "print(random.random())\n",
    "itr=[45,25,47,\"Hello\",\"wow\",True]\n",
    "print(random.choice(itr))\n",
    "print(random.choices(itr,k=9))"
   ]
  },
  {
   "cell_type": "code",
   "execution_count": null,
   "id": "03e763ac",
   "metadata": {},
   "outputs": [],
   "source": [
    "import random\n",
    "l1=['o','p','z','k','4','8','5']\n",
    "ans=random.choices(l1,k=8)\n",
    "otp=\"\".join(ans)\n",
    "print(otp)"
   ]
  },
  {
   "cell_type": "code",
   "execution_count": null,
   "id": "39f780b2",
   "metadata": {},
   "outputs": [],
   "source": [
    "import math\n",
    "math.factorial(5)\n",
    "math.floor(45.32)\n",
    "math.ceil(45.32)\n",
    "math.sqrt(121)\n",
    "# math."
   ]
  },
  {
   "cell_type": "code",
   "execution_count": null,
   "id": "b8109a92",
   "metadata": {},
   "outputs": [],
   "source": [
    "import os\n",
    "os.getcwd()\n",
    "os.listdir()"
   ]
  },
  {
   "cell_type": "code",
   "execution_count": null,
   "id": "54f90af2",
   "metadata": {},
   "outputs": [],
   "source": [
    "from datetime import date\n",
    "date.resolution"
   ]
  }
 ],
 "metadata": {
  "kernelspec": {
   "display_name": "Python 3 (ipykernel)",
   "language": "python",
   "name": "python3"
  },
  "language_info": {
   "codemirror_mode": {
    "name": "ipython",
    "version": 3
   },
   "file_extension": ".py",
   "mimetype": "text/x-python",
   "name": "python",
   "nbconvert_exporter": "python",
   "pygments_lexer": "ipython3",
   "version": "3.10.9"
  }
 },
 "nbformat": 4,
 "nbformat_minor": 5
}
