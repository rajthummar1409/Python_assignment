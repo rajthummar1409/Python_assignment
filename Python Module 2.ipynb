{
 "cells": [
  {
   "cell_type": "code",
   "execution_count": 1,
   "id": "bc160df6",
   "metadata": {},
   "outputs": [
    {
     "name": "stderr",
     "output_type": "stream",
     "text": [
      "\n",
      "KeyboardInterrupt\n",
      "\n"
     ]
    }
   ],
   "source": [
    "#1# NUMBER IS Positive Negative OR ZERO\n",
    "num = int(input(\"Enter number :\"))\n",
    "\n",
    "if num>0:\n",
    "    print(f\"Your number {num} is Positive\")\n",
    "elif num==0:\n",
    "    print(f\"Your number is {num} is Zero\")\n",
    "else:\n",
    "    print(f\"Your number is {num} is Negative\")\n"
   ]
  },
  {
   "cell_type": "code",
   "execution_count": 1,
   "id": "02b9a78d",
   "metadata": {},
   "outputs": [
    {
     "name": "stdout",
     "output_type": "stream",
     "text": [
      "Enter number :6\n",
      "Factorial of 6 is 720\n"
     ]
    }
   ],
   "source": [
    "#2# FIND Factorial OF Number\n",
    "\n",
    "num = int(input(\"Enter number :\"))\n",
    "fact = 1\n",
    "for i in range(fact,num + 1):\n",
    "    fact=fact*i\n",
    "    \n",
    "print(f\"Factorial of {num} is {fact}\")"
   ]
  },
  {
   "cell_type": "code",
   "execution_count": null,
   "id": "88ce60ad",
   "metadata": {},
   "outputs": [],
   "source": [
    "#3# Fibonacci series \n",
    "\n",
    "num = 10\n",
    "n1, n2 = 0, 1\n",
    "print(\"Fibonacci Series:\", n1, n2, end=\" \")\n",
    "for i in range(2, num):\n",
    "    n3 = n1 + n2\n",
    "    n1 = n2\n",
    "    n2 = n3\n",
    "    print(n3, end=\" \")\n",
    "\n",
    "print()\n",
    "    \n",
    "    \n",
    "    \n",
    "    \n",
    "  "
   ]
  },
  {
   "cell_type": "code",
   "execution_count": null,
   "id": "0532a618",
   "metadata": {},
   "outputs": [],
   "source": [
    "#6# swap two number\n",
    "\n",
    "num1=5\n",
    "num2=6\n",
    "\n",
    "num=num1\n",
    "num1=num2\n",
    "num2=num\n",
    "\n",
    "print(num1)"
   ]
  },
  {
   "cell_type": "code",
   "execution_count": null,
   "id": "fb5a9549",
   "metadata": {},
   "outputs": [],
   "source": [
    "#7# given number is even or odd,\n",
    "\n",
    "num = int(input(\"Enter number : \"))\n",
    "\n",
    "if num%2==0:\n",
    "    print(f\"Your number {num} is even number\")\n",
    "else : \n",
    "    print(f\"Your number {num} is odd number\")"
   ]
  },
  {
   "cell_type": "code",
   "execution_count": null,
   "id": "882ac807",
   "metadata": {},
   "outputs": [],
   "source": [
    "#8# letter is a vowel or not.\n",
    "\n",
    "\n",
    "a = input(\"Enter char : \")\n",
    "\n",
    "if (a=='a'or a=='e'or a=='i'or a=='o'or a=='u'or a=='A'or a=='I'or a=='O'or a=='E'or a=='U'):\n",
    "    print(a,\"is vowel\")\n",
    "else : \n",
    "    print(a,\" is not vowel\")"
   ]
  },
  {
   "cell_type": "code",
   "execution_count": null,
   "id": "087cfeba",
   "metadata": {},
   "outputs": [],
   "source": [
    "#9# sum of three number if tow number is sam then print 0\n",
    "\n",
    "num1 = int(input(\"Enter number 1 : \"))\n",
    "num2 = int(input(\"Enter number 2 : \"))\n",
    "num3 = int(input(\"Enter number 3 : \"))\n",
    "\n",
    "\n",
    "if num1==num2 or num2==num3 or num1==num3:\n",
    "    sum = 0\n",
    "    print(sum)\n",
    "else:\n",
    "    sum = num1+num2+num3\n",
    "    print(sum)"
   ]
  },
  {
   "cell_type": "code",
   "execution_count": null,
   "id": "d468fb1d",
   "metadata": {},
   "outputs": [],
   "source": [
    "#10# two given integer values are equal or their sum or difference is 5\n",
    "\n",
    "def number():\n",
    "    num1 = int(input(\"Enter number one: \"))\n",
    "    num2 = int(input(\"Enter number two : \"))\n",
    "\n",
    "    if num1==num2 or num1-num2 or num1+num2:\n",
    "        return True\n",
    "    else:\n",
    "        return False\n",
    "    \n",
    "print(number())    "
   ]
  },
  {
   "cell_type": "code",
   "execution_count": null,
   "id": "044fda18",
   "metadata": {},
   "outputs": [],
   "source": [
    "#11# Write a python program to sum of the first n positive integers\n",
    "\n",
    "n = int(input(\"Enter number : \"))\n",
    "\n",
    "sum_num = n*(n+1)/2\n",
    "\n",
    "print(f\"Sum of the first {n} positiv integer {sum_num}\")"
   ]
  },
  {
   "cell_type": "code",
   "execution_count": null,
   "id": "d918dff0",
   "metadata": {},
   "outputs": [],
   "source": [
    "#12# Write a Python program to calculate the length of a string\n",
    "\n",
    "str = \"My name is Thummar arpit niteshbhai\"\n",
    "\n",
    "print(len(str))"
   ]
  },
  {
   "cell_type": "code",
   "execution_count": null,
   "id": "f79dbc5a",
   "metadata": {},
   "outputs": [],
   "source": [
    "#13# Write a Python program to count the number of characters (character frequency) in a string\n",
    "\n",
    "n = input(\"Enter the string\").lower()\n",
    "\n",
    "s={}\n",
    "\n",
    "for i in n:\n",
    "    if i is s:\n",
    "        s[i]+=1\n",
    "    else:\n",
    "        s[i]=1\n",
    "print(s)        \n",
    "        \n",
    "\n"
   ]
  },
  {
   "cell_type": "code",
   "execution_count": null,
   "id": "f6e3e45b",
   "metadata": {},
   "outputs": [],
   "source": [
    "#14# What are negative indexes and why are they used?"
   ]
  },
  {
   "cell_type": "code",
   "execution_count": null,
   "id": "90dfa142",
   "metadata": {},
   "outputs": [],
   "source": [
    "#15# Write a Python program to count occurrences of a substring in a string\n",
    "\n",
    "str = \"Hollo world, My name is thummar arpit, I have to learn python for backebd developer, i want to become a full-stack developer\"\n",
    "print(str.count(\"to\"))"
   ]
  },
  {
   "cell_type": "code",
   "execution_count": null,
   "id": "eaa28463",
   "metadata": {},
   "outputs": [],
   "source": [
    "#16# Write a Python program to count the occurrences of each word in a given sentence\n",
    "\n",
    "string = \"Hollo world, My name is thummar arpit, I have to learn python for backebd developer, i want to become a full-stack developer\"\n",
    "\n",
    "substring = input(\"Enter the string : \")\n",
    "\n",
    "count = string.count(substring,0,)\n",
    "\n",
    "print(f\"substring is  : {count}\")"
   ]
  },
  {
   "cell_type": "code",
   "execution_count": null,
   "id": "35ba575e",
   "metadata": {},
   "outputs": [],
   "source": [
    "#17# Write a Python program to get a single string from two given strings,\n",
    "   #separated by a space and swap the first two characters of each string\n",
    "    \n",
    "str1 = \"abc\"\n",
    "str2 = \"efg\"\n",
    "\n",
    "print(f\"Befor swape {str1} and {str2}\")\n",
    "\n",
    "\n",
    "str1 = str2[:1]+str1[1:]\n",
    "str2 = str1[:1]+str2[1:]\n",
    "\n",
    "print(f\"after swape {str1} and {str2}\")\n"
   ]
  },
  {
   "cell_type": "code",
   "execution_count": null,
   "id": "67b13179",
   "metadata": {},
   "outputs": [],
   "source": [
    "#18# Write a Python program to add 'ing' at the end of a given string (length\n",
    "# should be at least 3). If the given string already ends with 'ing' then add\n",
    "# 'ly' instead if the string length of the given string is less than 3, leave it\n",
    "# unchanged.\n",
    "\n",
    "\n",
    "str1 = input(\"Enter the string : \")\n",
    "\n",
    "if len(str1)>2:\n",
    "    if str1.endswith(\"ing\"):\n",
    "        print(f\"{str1}ly\")\n",
    "    else :\n",
    "        print(f\"{str1}ing\")\n",
    "else :\n",
    "    print(str1)\n",
    "        \n"
   ]
  },
  {
   "cell_type": "code",
   "execution_count": null,
   "id": "4114a983",
   "metadata": {},
   "outputs": [],
   "source": [
    "#19# Write a Python program to find the first appearance of the substring\n",
    "# 'not' and 'poor' from a given string, if 'not' follows the 'poor', replace the\n",
    "# whole 'not'...'poor' substring with 'good'. Return the resulting string.\n",
    "\n",
    "str1 = input(\"Enter your sagetion : \")\n",
    "\n",
    "snot = str1.find(\"not\")\n",
    "spoor = str1.find(\"poor\")\n",
    "\n",
    "if spoor > snot and snot>0 and spoor>0 :\n",
    "    print(str1.replace(str1[snot:spoor+4],\"good\"))\n",
    "else:\n",
    "    print(str1)"
   ]
  },
  {
   "cell_type": "code",
   "execution_count": 35,
   "id": "07e10410",
   "metadata": {},
   "outputs": [
    {
     "name": "stdout",
     "output_type": "stream",
     "text": [
      "Longest words in List is : sevene\n"
     ]
    }
   ],
   "source": [
    "#20# Write a Python function that takes a list of words and returns the length of the longest one\n",
    "\n",
    "list1 = [\"one\",\"two\",\"three\",\"four\",\"sevene\"]\n",
    "\n",
    "list2 = []\n",
    "\n",
    "for n in list1:\n",
    "    list2.append((len(n),n))\n",
    "\n",
    "list2.sort()\n",
    "\n",
    "print(f\"Longest words in List is : {list2[-1][1]}\")\n",
    "     \n",
    " "
   ]
  },
  {
   "cell_type": "code",
   "execution_count": 17,
   "id": "10a38878",
   "metadata": {},
   "outputs": [
    {
     "name": "stdout",
     "output_type": "stream",
     "text": [
      "Enter the string : lkjhgfds\n",
      "sdfghjkl\n"
     ]
    }
   ],
   "source": [
    "#21# Write a Python function to reverses a string if its length is a multiple of 4.\n",
    "str1 =  input(\"Enter the string : \")\n",
    "str2 = \"\"\n",
    "if len(str1) % 4 == 0:\n",
    "    print(str2.join(reversed(str1)))\n",
    "    \n",
    "\n",
    "\n",
    "\n",
    "        "
   ]
  },
  {
   "cell_type": "code",
   "execution_count": 29,
   "id": "7085993a",
   "metadata": {},
   "outputs": [
    {
     "name": "stdout",
     "output_type": "stream",
     "text": [
      "Enter the string : arpitthummar\n",
      "arar\n"
     ]
    }
   ],
   "source": [
    "#22# Write a Python program to get a string made of the first 2 and the last\n",
    "# 2 chars from a given a string. If the string length is less than 2, return\n",
    "# instead of the empty string.\n",
    "\n",
    "str1 = input(\"Enter the string : \")\n",
    "\n",
    "if len(str1) < 2 :\n",
    "    print(\"\")\n",
    "else:    \n",
    "    print(str1[0:2]+str1[-2:])    "
   ]
  },
  {
   "cell_type": "code",
   "execution_count": 2,
   "id": "7cd45f93",
   "metadata": {},
   "outputs": [
    {
     "name": "stdout",
     "output_type": "stream",
     "text": [
      "Enter string : {{}}\n",
      "Enter the word : arpit\n",
      "{{arpit}}\n"
     ]
    }
   ],
   "source": [
    "#23# Write a Python function to insert a string in the middle of a string.\n",
    "\n",
    "str1 = input(\"Enter string : \")\n",
    "word = input(\"Enter the word : \")\n",
    "print(str1[:2] + word + str1[2:]) \n",
    "\n"
   ]
  }
 ],
 "metadata": {
  "kernelspec": {
   "display_name": "Python 3 (ipykernel)",
   "language": "python",
   "name": "python3"
  },
  "language_info": {
   "codemirror_mode": {
    "name": "ipython",
    "version": 3
   },
   "file_extension": ".py",
   "mimetype": "text/x-python",
   "name": "python",
   "nbconvert_exporter": "python",
   "pygments_lexer": "ipython3",
   "version": "3.10.9"
  }
 },
 "nbformat": 4,
 "nbformat_minor": 5
}
