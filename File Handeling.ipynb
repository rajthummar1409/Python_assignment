{
 "cells": [
  {
   "cell_type": "code",
   "execution_count": null,
   "id": "ffc31a6c",
   "metadata": {},
   "outputs": [],
   "source": [
    "# File Open\n",
    "# File task  read write append \n",
    "# file close"
   ]
  },
  {
   "cell_type": "code",
   "execution_count": null,
   "id": "ba9c9f07",
   "metadata": {},
   "outputs": [],
   "source": [
    "# file open\n",
    "# variable=open(\"Filename\",\"mode\")\n",
    "# file pointer vraible\n",
    "file=open(\"demo.txt\",\"w\")\n",
    "# mode\n",
    "\n",
    "read---r---if ifle exist then it open for reading and if file not exist then it will give error\n",
    "write---w---if file exist then it open for writing and all old content is deleted and \n",
    "if file not prsent then it create a new file but not give error\n",
    "append---a---if file exist then it open for append(update) and all old content is not deleted and \n",
    "if file not prsent then it create a new file but not give error\n",
    "create---x----if file exist then it gives error and if file not exist then it creates a file"
   ]
  },
  {
   "cell_type": "code",
   "execution_count": null,
   "id": "699a1413",
   "metadata": {},
   "outputs": [],
   "source": [
    "# file close\n",
    "# varibale.close()\n",
    "file.close()"
   ]
  },
  {
   "cell_type": "code",
   "execution_count": null,
   "id": "df8fc46b",
   "metadata": {},
   "outputs": [],
   "source": [
    "file=open(\"demo.txt\",\"a\")\n",
    "\n",
    "file.close()"
   ]
  },
  {
   "cell_type": "code",
   "execution_count": null,
   "id": "56bd7d87",
   "metadata": {},
   "outputs": [],
   "source": [
    "# file write\n",
    "file=open(\"demo.txt\",\"w\")\n",
    "a=\"wow\"\n",
    "file.write(f\"This is new content {a}\")\n",
    "file.close()"
   ]
  },
  {
   "cell_type": "code",
   "execution_count": null,
   "id": "93e8b0b4",
   "metadata": {},
   "outputs": [],
   "source": [
    "# file append\n",
    "file=open(\"demo.txt\",\"a\")\n",
    "a=\"wow\"\n",
    "file.write(f\"hjkf fdjhvbj jhfdb\")\n",
    "file.close()"
   ]
  },
  {
   "cell_type": "code",
   "execution_count": null,
   "id": "2ddbcfe4",
   "metadata": {},
   "outputs": [],
   "source": [
    "# file readimng\n",
    "file=open(\"demo.txt\",\"r\")\n",
    "# print(file.read())\n",
    "# print(file.read(23))\n",
    "# print(file.readline())\n",
    "print(file.readline())\n",
    "print(file.readline())\n",
    "\n",
    "file.close()"
   ]
  },
  {
   "cell_type": "code",
   "execution_count": null,
   "id": "58c05afe",
   "metadata": {},
   "outputs": [],
   "source": [
    "# file create\n",
    "file=open(\"demo1.txt\",\"x\")"
   ]
  },
  {
   "cell_type": "code",
   "execution_count": null,
   "id": "3eddd7c0",
   "metadata": {},
   "outputs": [],
   "source": [
    "import os\n",
    "file=open(\"demo.txt\",\"a\")\n",
    "a=\"wow\"\n",
    "file.seek(20,os.SEEK_END)\n",
    "# file.write(\"Middle\")\n",
    "print(file.tell())\n",
    "# print(file.read())\n",
    "file.write(\"**********************\")\n",
    "file.close()"
   ]
  },
  {
   "cell_type": "code",
   "execution_count": null,
   "id": "d85dce6f",
   "metadata": {},
   "outputs": [],
   "source": [
    "dict1={\"name\":\"Sugandh\",\"age\": NotRequired[int]}\n",
    "print(dict1)"
   ]
  }
 ],
 "metadata": {
  "kernelspec": {
   "display_name": "Python 3 (ipykernel)",
   "language": "python",
   "name": "python3"
  },
  "language_info": {
   "codemirror_mode": {
    "name": "ipython",
    "version": 3
   },
   "file_extension": ".py",
   "mimetype": "text/x-python",
   "name": "python",
   "nbconvert_exporter": "python",
   "pygments_lexer": "ipython3",
   "version": "3.10.9"
  }
 },
 "nbformat": 4,
 "nbformat_minor": 5
}
