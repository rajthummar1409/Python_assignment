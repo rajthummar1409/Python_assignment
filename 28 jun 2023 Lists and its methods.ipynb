{
 "cells": [
  {
   "cell_type": "code",
   "execution_count": null,
   "id": "77c55834",
   "metadata": {},
   "outputs": [],
   "source": [
    "# List is a callection of similer or different datatype\n",
    "# List is an mutable datatype\n",
    "# List is ordered and allow duplicate\n",
    "# List is defind in square bracket []"
   ]
  },
  {
   "cell_type": "code",
   "execution_count": 2,
   "id": "bc4d24a2",
   "metadata": {},
   "outputs": [
    {
     "name": "stdout",
     "output_type": "stream",
     "text": [
      "[41, 25, 36, 45, 78, 'hellow', (9, 5, 6), [45, 65, 64], {45, 75, 85}, {1: 'hello', 2: 'world'}]\n",
      "<class 'list'>\n"
     ]
    }
   ],
   "source": [
    "list1 = [41,25,36,45,78,\"hellow\",(9,5,6),[45,65,64],{45,85,75},{1:\"hello\",2:\"world\"}]\n",
    "print(list1)\n",
    "print(type(list1))"
   ]
  },
  {
   "cell_type": "code",
   "execution_count": 1,
   "id": "733ec9dc",
   "metadata": {},
   "outputs": [
    {
     "name": "stdout",
     "output_type": "stream",
     "text": [
      "[45, 85, 96, 54, 12, 547]\n"
     ]
    }
   ],
   "source": [
    "list1=[45,85,96,54,12,547]\n",
    "# print(list1[2:5])\n",
    "print(list1)\n"
   ]
  },
  {
   "cell_type": "code",
   "execution_count": null,
   "id": "15fcd761",
   "metadata": {},
   "outputs": [],
   "source": [
    "# list1[2]=[45.98,77,5]\n",
    "list1[2:]=range(1,56,3)\n",
    "print(list1)"
   ]
  },
  {
   "cell_type": "code",
   "execution_count": null,
   "id": "6a388f1c",
   "metadata": {},
   "outputs": [],
   "source": [
    "# list functions\n",
    "len() ,min(),max(),list()"
   ]
  },
  {
   "cell_type": "code",
   "execution_count": null,
   "id": "6c324c60",
   "metadata": {},
   "outputs": [],
   "source": [
    "# len()--string lenght\n",
    "list1=[48,58,74,58,96,5847,45,66,5,86]\n",
    "print(list1)\n",
    "a=len(list1)\n",
    "print(a)"
   ]
  },
  {
   "cell_type": "code",
   "execution_count": null,
   "id": "179f6aea",
   "metadata": {},
   "outputs": [],
   "source": [
    "# min()--minimum value from list\n",
    "list1=[48,58,74,58,96,584,7]\n",
    "print(min(list1))\n",
    "# list2=[\"hello\",\"world\",\"demo\",\"z\",\"a\",\"A\",\"Apple\",\"WOW\",\")\"]\n",
    "list2=[\"hello\",\"help\",\"helawr\"]\n",
    "print(min(list2))\n",
    "list3=[45,65,89,658,\"hello\",\"world\",\"demo\",\"z\",\"a\",\"A\",\"Apple\",\"WOW\",\")\",\"+\",43]\n",
    "print(min(list3))"
   ]
  },
  {
   "cell_type": "code",
   "execution_count": null,
   "id": "f6ecb329",
   "metadata": {},
   "outputs": [],
   "source": [
    "# max()--maximum value from list\n",
    "list1=[48,58,74,58,96,584,7]\n",
    "print(max(list1))\n",
    "list2=[\"hello\",\"world\",\"demo\",\"z\",\"a\",\"A\",\"Apple\",\"WOW\",\")\"]\n",
    "# list2=[\"hello\",\"help\",\"helawr\"]\n",
    "print(max(list2))\n",
    "list3=[45,65,89,658,\"hello\",\"world\",\"demo\",\"z\",\"a\",\"A\",\"Apple\",\"WOW\",\")\",\"+\",43]\n",
    "print(max(list3))"
   ]
  },
  {
   "cell_type": "code",
   "execution_count": null,
   "id": "a3c2ad9b",
   "metadata": {},
   "outputs": [],
   "source": [
    "# list(iterable)---convert any iterable into list\n",
    "l1=list(\"jerk jevberkj jk\")\n",
    "print(l1)\n",
    "l1=list(range(1,50,6))\n",
    "print(l1)\n",
    "l1=list((48,98,54,7))\n",
    "print(l1)\n",
    "l1=list({48,89,78,45,84,7})\n",
    "print(l1)\n",
    "l1=list({2:\"HEllo\",\"wow\":89}) #key will be converted into list\n",
    "print(l1)"
   ]
  },
  {
   "cell_type": "code",
   "execution_count": null,
   "id": "08e67e32",
   "metadata": {},
   "outputs": [],
   "source": [
    "# list methods\n",
    "\n",
    "# list values add\n",
    "append()\n",
    "extend()\n",
    "insert()\n",
    "\n",
    "# list values remove\n",
    "pop()\n",
    "remove()\n",
    "\n",
    "# list other operation\n",
    "index()\n",
    "count()\n",
    "sort()\n",
    "reverse()\n",
    "copy()\n",
    "clear()"
   ]
  },
  {
   "cell_type": "code",
   "execution_count": null,
   "id": "0199cac7",
   "metadata": {},
   "outputs": [],
   "source": [
    "# dir(list)"
   ]
  },
  {
   "cell_type": "code",
   "execution_count": 1,
   "id": "109ecc38",
   "metadata": {},
   "outputs": [
    {
     "name": "stdout",
     "output_type": "stream",
     "text": [
      "[78, 96, 58, 45, 25, 58]\n",
      "[78, 96, 58, 45, 25, 58, 'hello']\n"
     ]
    }
   ],
   "source": [
    "# Values ADD\n",
    "# append(element)--add element at last of list\n",
    "list1=[78,96,58,45,25]\n",
    "list1.append(58)\n",
    "print(list1)\n",
    "list1.append(\"hello\")\n",
    "print(list1)"
   ]
  },
  {
   "cell_type": "code",
   "execution_count": 2,
   "id": "aaaed75e",
   "metadata": {},
   "outputs": [
    {
     "name": "stdout",
     "output_type": "stream",
     "text": [
      "[78, 96, 58, 45, 25]\n",
      "[78, 96, 58, 45, 25, 'H', 'e', 'l', 'l', 'o']\n",
      "[78, 96, 58, 45, 25, 'H', 'e', 'l', 'l', 'o', 78, 82, 86, 90, 94, 98]\n"
     ]
    }
   ],
   "source": [
    "# extend(iterable)--add values at last of list as an individual element\n",
    "list1=[78,96,58,45,25]\n",
    "print(list1)\n",
    "list1.extend(\"Hello\")\n",
    "print(list1)\n",
    "list1.extend(range(78,99,4))\n",
    "print(list1)"
   ]
  },
  {
   "cell_type": "code",
   "execution_count": null,
   "id": "e483e3d4",
   "metadata": {},
   "outputs": [],
   "source": [
    "# insert(index,element)--add element at given index\n",
    "list1=[78,96,54,212,6,58,9,6585,85,65]\n",
    "print(list1)\n",
    "list1.insert(4,\"Great Warrior\")\n",
    "print(list1)"
   ]
  },
  {
   "cell_type": "code",
   "execution_count": null,
   "id": "b00cc606",
   "metadata": {},
   "outputs": [],
   "source": [
    "# pop([index])--remove element at particular index\n",
    "list1=[78,96,58,41,25,47,85,96,58]\n",
    "print(list1)\n",
    "list1.pop(6)\n",
    "print(list1) \n",
    "# list1.pop(60) #IndexError: pop index out of range\n",
    "print(list1)"
   ]
  },
  {
   "cell_type": "code",
   "execution_count": null,
   "id": "f47b0276",
   "metadata": {},
   "outputs": [],
   "source": [
    "list1=[78,85,98,54,74,12,5]\n",
    "print(list1)\n",
    "list1.pop()\n",
    "print(list1)"
   ]
  },
  {
   "cell_type": "code",
   "execution_count": null,
   "id": "b3adcbaa",
   "metadata": {},
   "outputs": [],
   "source": [
    "# remove(element)---remove element from list at its first occurence\n",
    "list1=[78,96,58,78,45,87,84,596,45,87,89,65,45]\n",
    "print(list1)\n",
    "list1.remove(45)\n",
    "print(list1)\n",
    "# list1.remove(4875) ValueError: list.remove(x): x not in list\n",
    "# print(list1)"
   ]
  },
  {
   "cell_type": "code",
   "execution_count": null,
   "id": "b3e90fc6",
   "metadata": {},
   "outputs": [],
   "source": [
    "# index(element)----give indexc of particular element at its first occurence\n",
    "list1=[78,95,63,21,45,86,21,45,896,5,12,21,45,78]\n",
    "print(list1.index(21)) \n",
    "# print(list1.index(789654))ValueError: 789654 is not in list"
   ]
  },
  {
   "cell_type": "code",
   "execution_count": null,
   "id": "567d9536",
   "metadata": {},
   "outputs": [],
   "source": [
    "# count(element)---number of occurences of element in a list\n",
    "list1=[78,95,63,21,45,86,21,45,896,5,12,21,45,78]\n",
    "print(list1.count(21)) \n",
    "print(list1.count(654654))"
   ]
  },
  {
   "cell_type": "code",
   "execution_count": 2,
   "id": "617ec2dd",
   "metadata": {},
   "outputs": [
    {
     "name": "stdout",
     "output_type": "stream",
     "text": [
      "[78, 95, 63, 21, 45, 86, 21, 45, 896, 5, 12, 21, 45, 78]\n",
      "[]\n"
     ]
    }
   ],
   "source": [
    "# clear()---clear whole list\n",
    "list1=[78,95,63,21,45,86,21,45,896,5,12,21,45,78]\n",
    "print(list1)\n",
    "list1.clear()\n",
    "print(list1)\n"
   ]
  },
  {
   "cell_type": "code",
   "execution_count": 1,
   "id": "97cbcd1d",
   "metadata": {},
   "outputs": [
    {
     "name": "stdout",
     "output_type": "stream",
     "text": [
      "[896, 95, 86, 78, 78, 63, 45, 45, 45, 21, 21, 21, 12, 5]\n",
      "['yuyrt', 'uop', 'hello', 'gfer', 'Apple']\n"
     ]
    },
    {
     "ename": "TypeError",
     "evalue": "'<' not supported between instances of 'int' and 'str'",
     "output_type": "error",
     "traceback": [
      "\u001b[1;31m---------------------------------------------------------------------------\u001b[0m",
      "\u001b[1;31mTypeError\u001b[0m                                 Traceback (most recent call last)",
      "Cell \u001b[1;32mIn[1], line 10\u001b[0m\n\u001b[0;32m      8\u001b[0m \u001b[38;5;28mprint\u001b[39m(list1)\n\u001b[0;32m      9\u001b[0m list1\u001b[38;5;241m=\u001b[39m[\u001b[38;5;124m\"\u001b[39m\u001b[38;5;124mgfer\u001b[39m\u001b[38;5;124m\"\u001b[39m,\u001b[38;5;241m85\u001b[39m,\u001b[38;5;124m\"\u001b[39m\u001b[38;5;124muop\u001b[39m\u001b[38;5;124m\"\u001b[39m,\u001b[38;5;124m\"\u001b[39m\u001b[38;5;124mhello\u001b[39m\u001b[38;5;124m\"\u001b[39m,\u001b[38;5;124m\"\u001b[39m\u001b[38;5;124mApple\u001b[39m\u001b[38;5;124m\"\u001b[39m]\n\u001b[1;32m---> 10\u001b[0m \u001b[43mlist1\u001b[49m\u001b[38;5;241;43m.\u001b[39;49m\u001b[43msort\u001b[49m\u001b[43m(\u001b[49m\u001b[43mreverse\u001b[49m\u001b[38;5;241;43m=\u001b[39;49m\u001b[38;5;28;43;01mTrue\u001b[39;49;00m\u001b[43m)\u001b[49m\n\u001b[0;32m     11\u001b[0m \u001b[38;5;28mprint\u001b[39m(list1)\n",
      "\u001b[1;31mTypeError\u001b[0m: '<' not supported between instances of 'int' and 'str'"
     ]
    }
   ],
   "source": [
    "# sort()---sort the list in ascending order by deafult if we have to sort in descending order\n",
    "# make reverse=True\n",
    "list1=[78,95,63,21,45,86,21,45,896,5,12,21,45,78]\n",
    "list1.sort(reverse=True)\n",
    "print(list1)\n",
    "list1=[\"gfer\",\"yuyrt\",\"uop\",\"hello\",\"Apple\"]\n",
    "list1.sort(reverse=True)\n",
    "print(list1)\n",
    "list1=[\"gfer\",85,\"uop\",\"hello\",\"Apple\"]\n",
    "list1.sort(reverse=True)\n",
    "print(list1)"
   ]
  },
  {
   "cell_type": "code",
   "execution_count": null,
   "id": "25a9904a",
   "metadata": {},
   "outputs": [],
   "source": [
    "# reverse()---reverse whole list\n",
    "list1=[78,95,63,21,45,86,21,45,896,5,12,21,45]\n",
    "list1.reverse()\n",
    "print(list1)"
   ]
  },
  {
   "cell_type": "code",
   "execution_count": null,
   "id": "0067a222",
   "metadata": {},
   "outputs": [],
   "source": []
  }
 ],
 "metadata": {
  "kernelspec": {
   "display_name": "Python 3 (ipykernel)",
   "language": "python",
   "name": "python3"
  },
  "language_info": {
   "codemirror_mode": {
    "name": "ipython",
    "version": 3
   },
   "file_extension": ".py",
   "mimetype": "text/x-python",
   "name": "python",
   "nbconvert_exporter": "python",
   "pygments_lexer": "ipython3",
   "version": "3.10.9"
  }
 },
 "nbformat": 4,
 "nbformat_minor": 5
}
