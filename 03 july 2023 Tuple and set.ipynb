{
 "cells": [
  {
   "cell_type": "code",
   "execution_count": null,
   "id": "5e53ab33",
   "metadata": {},
   "outputs": [],
   "source": [
    "# Tuple is an immutable datatype\n",
    "# changes not allowed\n",
    "# tuple is a collection of similar or different datatype\n",
    "# tuple is ordered and allow duplicates \n",
    "# tuple is defined in round brackets()"
   ]
  },
  {
   "cell_type": "code",
   "execution_count": 8,
   "id": "e5cf63c5",
   "metadata": {},
   "outputs": [
    {
     "name": "stdout",
     "output_type": "stream",
     "text": [
      "(478, 12.36, 'hello', [48, 6578], (45, 32), {36, 45}, {1: 'Hello', 2: 'World'})\n"
     ]
    }
   ],
   "source": [
    "tup1=(478,12.36,\"hello\",[48,6578],(45,32),{45,36},{1:\"Hello\",2:\"World\"})\n",
    "print(tup1)"
   ]
  },
  {
   "cell_type": "code",
   "execution_count": 4,
   "id": "8532fcc4",
   "metadata": {},
   "outputs": [
    {
     "ename": "TypeError",
     "evalue": "'tuple' object does not support item assignment",
     "output_type": "error",
     "traceback": [
      "\u001b[1;31m---------------------------------------------------------------------------\u001b[0m",
      "\u001b[1;31mTypeError\u001b[0m                                 Traceback (most recent call last)",
      "Cell \u001b[1;32mIn[4], line 2\u001b[0m\n\u001b[0;32m      1\u001b[0m tup1\u001b[38;5;241m=\u001b[39m(\u001b[38;5;241m478\u001b[39m,\u001b[38;5;241m12.36\u001b[39m,\u001b[38;5;124m\"\u001b[39m\u001b[38;5;124mhello\u001b[39m\u001b[38;5;124m\"\u001b[39m,[\u001b[38;5;241m48\u001b[39m,\u001b[38;5;241m6578\u001b[39m],(\u001b[38;5;241m45\u001b[39m,\u001b[38;5;241m32\u001b[39m),{\u001b[38;5;241m45\u001b[39m,\u001b[38;5;241m36\u001b[39m},{\u001b[38;5;241m1\u001b[39m:\u001b[38;5;124m\"\u001b[39m\u001b[38;5;124mHello\u001b[39m\u001b[38;5;124m\"\u001b[39m,\u001b[38;5;241m2\u001b[39m:\u001b[38;5;124m\"\u001b[39m\u001b[38;5;124mWorld\u001b[39m\u001b[38;5;124m\"\u001b[39m})\n\u001b[1;32m----> 2\u001b[0m \u001b[43mtup1\u001b[49m\u001b[43m[\u001b[49m\u001b[38;5;241;43m2\u001b[39;49m\u001b[43m]\u001b[49m\u001b[38;5;241m=\u001b[39m\u001b[38;5;124m\"\u001b[39m\u001b[38;5;124mdemo\u001b[39m\u001b[38;5;124m\"\u001b[39m\n\u001b[0;32m      3\u001b[0m \u001b[38;5;28mprint\u001b[39m(tup1)\n",
      "\u001b[1;31mTypeError\u001b[0m: 'tuple' object does not support item assignment"
     ]
    }
   ],
   "source": [
    "tup1=(478,12.36,\"hello\",[48,6578],(45,32),{45,36},{1:\"Hello\",2:\"World\"})\n",
    "tup1[2]=\"demo\"\n",
    "print(tup1)"
   ]
  },
  {
   "cell_type": "code",
   "execution_count": 1,
   "id": "6248611f",
   "metadata": {},
   "outputs": [
    {
     "name": "stdout",
     "output_type": "stream",
     "text": [
      "(1, 2, [45, 'hello'])\n"
     ]
    }
   ],
   "source": [
    "tup1=(1,2,[45,36])\n",
    "tup1[2][1]=\"hello\"\n",
    "print(tup1)"
   ]
  },
  {
   "cell_type": "code",
   "execution_count": 1,
   "id": "afc699bc",
   "metadata": {},
   "outputs": [
    {
     "name": "stdout",
     "output_type": "stream",
     "text": [
      "(65, 41, 23, 65)\n",
      "(89, 65, 89, 65, 45)\n"
     ]
    }
   ],
   "source": [
    "tup1=(45,65,89,65,41,23,65,47,45,65,89,65,89)\n",
    "print(tup1[3:7])\n",
    "print(tup1[-1:-6:-1])"
   ]
  },
  {
   "cell_type": "code",
   "execution_count": null,
   "id": "924cd837",
   "metadata": {},
   "outputs": [],
   "source": [
    "# function in tuple\n",
    "len()\n",
    "min()\n",
    "max()\n",
    "tuple()"
   ]
  },
  {
   "cell_type": "code",
   "execution_count": 3,
   "id": "8fcba020",
   "metadata": {},
   "outputs": [
    {
     "name": "stdout",
     "output_type": "stream",
     "text": [
      "8\n"
     ]
    }
   ],
   "source": [
    "# len()----gives lenght of tuple\n",
    "tup1=(45,32,56,578,96,58,6965,85)\n",
    "a=len(tup1)\n",
    "print(a)"
   ]
  },
  {
   "cell_type": "code",
   "execution_count": 4,
   "id": "6e07ab4e",
   "metadata": {},
   "outputs": [
    {
     "name": "stdout",
     "output_type": "stream",
     "text": [
      "32\n"
     ]
    }
   ],
   "source": [
    "# min()---gives minimum value of a tuple\n",
    "tup1=(45,32,56,578,96,58,6965,85)\n",
    "a=min(tup1)\n",
    "print(a)"
   ]
  },
  {
   "cell_type": "code",
   "execution_count": 2,
   "id": "1bcd4b56",
   "metadata": {},
   "outputs": [
    {
     "name": "stdout",
     "output_type": "stream",
     "text": [
      "Dict\n"
     ]
    }
   ],
   "source": [
    "tup1=(\"Hello\",\"Dict\",\"appkle\",\"world\")\n",
    "a=min(tup1)\n",
    "print(a)"
   ]
  },
  {
   "cell_type": "code",
   "execution_count": 5,
   "id": "df7d2c1c",
   "metadata": {},
   "outputs": [
    {
     "ename": "TypeError",
     "evalue": "'<' not supported between instances of 'str' and 'int'",
     "output_type": "error",
     "traceback": [
      "\u001b[1;31m---------------------------------------------------------------------------\u001b[0m",
      "\u001b[1;31mTypeError\u001b[0m                                 Traceback (most recent call last)",
      "Cell \u001b[1;32mIn[5], line 2\u001b[0m\n\u001b[0;32m      1\u001b[0m tup1\u001b[38;5;241m=\u001b[39m(\u001b[38;5;241m45\u001b[39m,\u001b[38;5;241m32\u001b[39m,\u001b[38;5;124m\"\u001b[39m\u001b[38;5;124mhello\u001b[39m\u001b[38;5;124m\"\u001b[39m,\u001b[38;5;124m\"\u001b[39m\u001b[38;5;124mdemo\u001b[39m\u001b[38;5;124m\"\u001b[39m)\n\u001b[1;32m----> 2\u001b[0m a\u001b[38;5;241m=\u001b[39m\u001b[38;5;28;43mmin\u001b[39;49m\u001b[43m(\u001b[49m\u001b[43mtup1\u001b[49m\u001b[43m)\u001b[49m\n\u001b[0;32m      3\u001b[0m \u001b[38;5;28mprint\u001b[39m(a)\n",
      "\u001b[1;31mTypeError\u001b[0m: '<' not supported between instances of 'str' and 'int'"
     ]
    }
   ],
   "source": [
    "tup1=(45,32,\"hello\",\"demo\")\n",
    "a=min(tup1)\n",
    "print(a)"
   ]
  },
  {
   "cell_type": "code",
   "execution_count": 6,
   "id": "67a36be2",
   "metadata": {},
   "outputs": [
    {
     "name": "stdout",
     "output_type": "stream",
     "text": [
      "6965\n"
     ]
    }
   ],
   "source": [
    "# max()---gives maximum value of a tuple\n",
    "tup1=(45,32,56,578,96,58,6965,85)\n",
    "a=max(tup1)\n",
    "print(a)"
   ]
  },
  {
   "cell_type": "code",
   "execution_count": 7,
   "id": "d14366d8",
   "metadata": {},
   "outputs": [
    {
     "name": "stdout",
     "output_type": "stream",
     "text": [
      "world\n"
     ]
    }
   ],
   "source": [
    "tup1=(\"Hello\",\"Dict\",\"appkle\",\"world\")\n",
    "a=max(tup1)\n",
    "print(a)"
   ]
  },
  {
   "cell_type": "code",
   "execution_count": 8,
   "id": "2c937a8c",
   "metadata": {},
   "outputs": [
    {
     "ename": "TypeError",
     "evalue": "'>' not supported between instances of 'str' and 'int'",
     "output_type": "error",
     "traceback": [
      "\u001b[1;31m---------------------------------------------------------------------------\u001b[0m",
      "\u001b[1;31mTypeError\u001b[0m                                 Traceback (most recent call last)",
      "Cell \u001b[1;32mIn[8], line 2\u001b[0m\n\u001b[0;32m      1\u001b[0m tup1\u001b[38;5;241m=\u001b[39m(\u001b[38;5;241m45\u001b[39m,\u001b[38;5;241m32\u001b[39m,\u001b[38;5;124m\"\u001b[39m\u001b[38;5;124mhello\u001b[39m\u001b[38;5;124m\"\u001b[39m,\u001b[38;5;124m\"\u001b[39m\u001b[38;5;124mdemo\u001b[39m\u001b[38;5;124m\"\u001b[39m)\n\u001b[1;32m----> 2\u001b[0m a\u001b[38;5;241m=\u001b[39m\u001b[38;5;28;43mmax\u001b[39;49m\u001b[43m(\u001b[49m\u001b[43mtup1\u001b[49m\u001b[43m)\u001b[49m\n\u001b[0;32m      3\u001b[0m \u001b[38;5;28mprint\u001b[39m(a)\n",
      "\u001b[1;31mTypeError\u001b[0m: '>' not supported between instances of 'str' and 'int'"
     ]
    }
   ],
   "source": [
    "tup1=(45,32,\"hello\",\"demo\")\n",
    "a=max(tup1)\n",
    "print(a)"
   ]
  },
  {
   "cell_type": "code",
   "execution_count": 14,
   "id": "9a5615a8",
   "metadata": {},
   "outputs": [
    {
     "name": "stdout",
     "output_type": "stream",
     "text": [
      "(45, 25, 36, 58)\n"
     ]
    }
   ],
   "source": [
    "# tuple(iterable)\n",
    "tup1=tuple({1:\"Hello\",\"wow\":\"great\"})\n",
    "tup1=tuple(\"hrjkiuf jhr\")\n",
    "tup1=tuple(range(100,125,4))\n",
    "tup1=tuple({45,58,96,58,74,5})\n",
    "tup1=tuple([45,25,36,58])\n",
    "print(tup1)"
   ]
  },
  {
   "cell_type": "code",
   "execution_count": null,
   "id": "2878c2c0",
   "metadata": {},
   "outputs": [],
   "source": [
    "# methods in tuple\n",
    "# index()\n",
    "# count()"
   ]
  },
  {
   "cell_type": "code",
   "execution_count": 16,
   "id": "4c4576c1",
   "metadata": {},
   "outputs": [
    {
     "data": {
      "text/plain": [
       "2"
      ]
     },
     "execution_count": 16,
     "metadata": {},
     "output_type": "execute_result"
    }
   ],
   "source": [
    "# index(element)---gives index of first occurence of element\n",
    "tup1=(45,87,96,58,41,23,45,65,25,63)\n",
    "tup1.index(96)\n",
    "# tup1.index(45874)"
   ]
  },
  {
   "cell_type": "code",
   "execution_count": 21,
   "id": "6ebe804c",
   "metadata": {},
   "outputs": [
    {
     "data": {
      "text/plain": [
       "4"
      ]
     },
     "execution_count": 21,
     "metadata": {},
     "output_type": "execute_result"
    }
   ],
   "source": [
    "# count(element)---gives how many times element in tupal \n",
    "tup1=(45,87,96,58,41,23,45,65,25,63,87,87,87)\n",
    "tup1.count(87)"
   ]
  },
  {
   "cell_type": "code",
   "execution_count": 22,
   "id": "6b549078",
   "metadata": {},
   "outputs": [
    {
     "name": "stdout",
     "output_type": "stream",
     "text": [
      "(1, 2, 3)\n",
      "(1, 2, 3)\n"
     ]
    }
   ],
   "source": [
    "# copy()---why it is not in tuple\n",
    "# beacuse tuple is immutable changes not allowed after definition \n",
    "tup1=(1,2,3)\n",
    "tup2=tup1\n",
    "print(tup1)\n",
    "print(tup2)"
   ]
  },
  {
   "cell_type": "code",
   "execution_count": 23,
   "id": "f3a39a95",
   "metadata": {},
   "outputs": [
    {
     "name": "stdout",
     "output_type": "stream",
     "text": [
      "<class 'tuple'>\n"
     ]
    }
   ],
   "source": [
    "# tuple with a single element\n",
    "tup1=(\"thyrthr\",)\n",
    "print(type(tup1))"
   ]
  },
  {
   "cell_type": "code",
   "execution_count": null,
   "id": "d733e01c",
   "metadata": {},
   "outputs": [],
   "source": [
    "# SET"
   ]
  },
  {
   "cell_type": "code",
   "execution_count": null,
   "id": "b08d164a",
   "metadata": {},
   "outputs": [],
   "source": [
    "# set is a collection of element of similar or different datatype \n",
    "# set is unordered datatype its doesn't have index value\n",
    "# set not allows duplicates\n",
    "# set is defined in {}"
   ]
  },
  {
   "cell_type": "code",
   "execution_count": 30,
   "id": "d02b9625",
   "metadata": {},
   "outputs": [
    {
     "name": "stdout",
     "output_type": "stream",
     "text": [
      "{65, 21, 87, 23, 89, 45}\n"
     ]
    }
   ],
   "source": [
    "set1={45,23,65,45,65,21,45,65,87,45,89}\n",
    "print(set1)"
   ]
  },
  {
   "cell_type": "code",
   "execution_count": null,
   "id": "3b936c71",
   "metadata": {},
   "outputs": [],
   "source": [
    "# list(dir(set))"
   ]
  },
  {
   "cell_type": "code",
   "execution_count": 34,
   "id": "92bf7f31",
   "metadata": {},
   "outputs": [
    {
     "name": "stdout",
     "output_type": "stream",
     "text": [
      "{25, 'Fwerfwe', 45, 63}\n"
     ]
    }
   ],
   "source": [
    "set1={45,25,63,25}\n",
    "set1.add(\"Fwerfwe\")\n",
    "print(set1)"
   ]
  },
  {
   "cell_type": "code",
   "execution_count": 35,
   "id": "f0ba19e3",
   "metadata": {},
   "outputs": [
    {
     "name": "stdout",
     "output_type": "stream",
     "text": [
      "set()\n"
     ]
    }
   ],
   "source": [
    "set1={45,65,87,45,8}\n",
    "set1.clear()\n",
    "print(set1)"
   ]
  },
  {
   "cell_type": "code",
   "execution_count": 40,
   "id": "daf49c64",
   "metadata": {},
   "outputs": [
    {
     "name": "stdout",
     "output_type": "stream",
     "text": [
      "{87, 8, 25, 10, 45}\n"
     ]
    }
   ],
   "source": [
    "set1={45,25,65,87,45,8,10}\n",
    "set1.pop()\n",
    "print(set1)"
   ]
  },
  {
   "cell_type": "code",
   "execution_count": 41,
   "id": "a6f9b77a",
   "metadata": {},
   "outputs": [
    {
     "name": "stdout",
     "output_type": "stream",
     "text": [
      "{65, 98, 36, 458, 45, 54, 87, 56}\n",
      "{65, 98, 36, 458, 54, 87, 56}\n"
     ]
    }
   ],
   "source": [
    "set1={45,65,87,458,45,87,45,98,54,56,36}\n",
    "print(set1)\n",
    "set1.remove(45)\n",
    "print(set1)"
   ]
  },
  {
   "cell_type": "code",
   "execution_count": 44,
   "id": "5e2ff93e",
   "metadata": {},
   "outputs": [
    {
     "name": "stdout",
     "output_type": "stream",
     "text": [
      "{96, 48, 8, 41, 75, 45, 25}\n",
      "{'world', 'hello'}\n",
      "{96, 8, 41, 75, 45, 48, 'world', 25, 'hello'}\n"
     ]
    }
   ],
   "source": [
    "set1={45,25,41,25,48,75,96,8}\n",
    "set2={\"hello\",\"world\"}\n",
    "set3=set1.union(set2)\n",
    "print(set1)\n",
    "print(set2)\n",
    "print(set3)"
   ]
  },
  {
   "cell_type": "code",
   "execution_count": 46,
   "id": "6910731c",
   "metadata": {},
   "outputs": [
    {
     "name": "stdout",
     "output_type": "stream",
     "text": [
      "{58, 45}\n"
     ]
    }
   ],
   "source": [
    "set1={45,25,45,65,25,58}\n",
    "set2={45,36,58,978}\n",
    "print(set1.intersection(set2))  #common"
   ]
  },
  {
   "cell_type": "code",
   "execution_count": 50,
   "id": "8291e4a4",
   "metadata": {},
   "outputs": [
    {
     "name": "stdout",
     "output_type": "stream",
     "text": [
      "{65, 45, 25}\n",
      "{45}\n"
     ]
    }
   ],
   "source": [
    "set1={45,25,45,65,25}\n",
    "set2={45,36,58,978}\n",
    "# set1.intersection_update(set2)\n",
    "set2.intersection_update(set1)\n",
    "\n",
    "print(set1)\n",
    "print(set2)"
   ]
  },
  {
   "cell_type": "code",
   "execution_count": 58,
   "id": "728138bd",
   "metadata": {},
   "outputs": [
    {
     "name": "stdout",
     "output_type": "stream",
     "text": [
      "None\n"
     ]
    }
   ],
   "source": [
    "# difference\n",
    "a={45,12,36,98}\n",
    "b={78,21,12,69}\n",
    "print(a.difference_update(b))"
   ]
  },
  {
   "cell_type": "code",
   "execution_count": 66,
   "id": "1dca9c81",
   "metadata": {},
   "outputs": [
    {
     "name": "stdout",
     "output_type": "stream",
     "text": [
      "{48, 55, 25, 45}\n"
     ]
    }
   ],
   "source": [
    "a={45,25,55,869,48}\n",
    "# a.discard(25)\n",
    "a.discard(869)\n",
    "print(a)"
   ]
  },
  {
   "cell_type": "code",
   "execution_count": 68,
   "id": "433d2490",
   "metadata": {},
   "outputs": [
    {
     "name": "stdout",
     "output_type": "stream",
     "text": [
      "{25, 45}\n"
     ]
    }
   ],
   "source": [
    "a={45,25,45,869,45}\n",
    "# a.remove(25)\n",
    "a.remove(869)\n",
    "print(a)"
   ]
  },
  {
   "cell_type": "code",
   "execution_count": 70,
   "id": "73f3244f",
   "metadata": {},
   "outputs": [
    {
     "data": {
      "text/plain": [
       "False"
      ]
     },
     "execution_count": 70,
     "metadata": {},
     "output_type": "execute_result"
    }
   ],
   "source": [
    "a={1,2,3,4,5}\n",
    "b={6,7,8,9,4}\n",
    "a.isdisjoint(b) #when no common then true if atleast one element is common then return False\n"
   ]
  },
  {
   "cell_type": "code",
   "execution_count": 71,
   "id": "f3a5da24",
   "metadata": {},
   "outputs": [
    {
     "name": "stdout",
     "output_type": "stream",
     "text": [
      "{4, 36, 5, 6, 7, 8, 9, 45, 25, 58}\n"
     ]
    }
   ],
   "source": [
    "a={45,25,36,58}\n",
    "a.update(range(4,10))\n",
    "print(a)"
   ]
  },
  {
   "cell_type": "code",
   "execution_count": 75,
   "id": "eee33dc8",
   "metadata": {},
   "outputs": [
    {
     "name": "stdout",
     "output_type": "stream",
     "text": [
      "{65, 78, 87, 45, 54, 63}\n"
     ]
    }
   ],
   "source": [
    "a={45,25,63,54,78,458,101}\n",
    "b={87,101,25,65,458}\n",
    "a.symmetric_difference_update(b)# union-intersction\n",
    "print(a)"
   ]
  },
  {
   "cell_type": "code",
   "execution_count": 76,
   "id": "bc92006f",
   "metadata": {},
   "outputs": [
    {
     "data": {
      "text/plain": [
       "({}, {45}, {21}, {25}, {21, 45}, {21, 25}, {25, 45}, {21, 25, 45})"
      ]
     },
     "execution_count": 76,
     "metadata": {},
     "output_type": "execute_result"
    }
   ],
   "source": [
    "a={45,21,25}\n",
    "{},{45},{21},{25},{45,21},{21,25},{45,25},{45,21,25}"
   ]
  },
  {
   "cell_type": "code",
   "execution_count": 77,
   "id": "8b407941",
   "metadata": {},
   "outputs": [
    {
     "data": {
      "text/plain": [
       "True"
      ]
     },
     "execution_count": 77,
     "metadata": {},
     "output_type": "execute_result"
    }
   ],
   "source": [
    "a={1,2,3,4,5}\n",
    "b={1,2}\n",
    "b.issubset(a)"
   ]
  },
  {
   "cell_type": "code",
   "execution_count": 80,
   "id": "878d1a1a",
   "metadata": {},
   "outputs": [
    {
     "data": {
      "text/plain": [
       "True"
      ]
     },
     "execution_count": 80,
     "metadata": {},
     "output_type": "execute_result"
    }
   ],
   "source": [
    "a={1,2,3,4,5}\n",
    "b={1,2}\n",
    "\n",
    "a.issuperset(b)"
   ]
  }
 ],
 "metadata": {
  "kernelspec": {
   "display_name": "Python 3 (ipykernel)",
   "language": "python",
   "name": "python3"
  },
  "language_info": {
   "codemirror_mode": {
    "name": "ipython",
    "version": 3
   },
   "file_extension": ".py",
   "mimetype": "text/x-python",
   "name": "python",
   "nbconvert_exporter": "python",
   "pygments_lexer": "ipython3",
   "version": "3.12.2"
  }
 },
 "nbformat": 4,
 "nbformat_minor": 5
}
