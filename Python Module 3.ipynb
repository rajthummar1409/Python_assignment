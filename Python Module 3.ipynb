{
 "cells": [
  {
   "cell_type": "code",
   "execution_count": null,
   "id": "7116de44",
   "metadata": {},
   "outputs": [],
   "source": [
    "#1# What is List? How will you reverse a list? \n",
    "\n",
    "list1 = ['A' ,'list' ,'is' ,'a' ,'data' ,'structure' ,'in' ,'Python' ,'that' ,'is' ,'a' ,'mutable', 'or' ,'changeable', 'ordered' ,'sequence' ,'of' ,'elements' ]\n",
    "\n",
    "list1.reverse()\n",
    "\n",
    "print(list1)"
   ]
  },
  {
   "cell_type": "code",
   "execution_count": null,
   "id": "e829cedd",
   "metadata": {},
   "outputs": [],
   "source": [
    "#2#How will you remove last object from a list?\n",
    "# Suppose list1 is [2, 33, 222, 14, and 25], what is list1 [-1]? \n",
    "\n",
    "list1 = [2, 33, 222, 14, 25]\n",
    "\n",
    "list1 = list1[-1]\n",
    "\n",
    "print(list1)\n"
   ]
  },
  {
   "cell_type": "code",
   "execution_count": null,
   "id": "8d917d3b",
   "metadata": {},
   "outputs": [],
   "source": [
    "#3# Differentiate between append () and extend () methods? \n",
    "\n",
    "list1 = [2, 33, 222, 14, 25]\n",
    "list1.append('hello')\n",
    "print(list1)\n",
    "\n",
    "list2 = [2,33,222,14,25]\n",
    "list2.extend('hello')\n",
    "print(list2)"
   ]
  },
  {
   "cell_type": "code",
   "execution_count": null,
   "id": "1afbb8a1",
   "metadata": {},
   "outputs": [],
   "source": [
    "#4# Write a Python function to get the largest number, smallest num and sum\n",
    "# of all from a list.\n",
    "\n",
    "#small number\n",
    "list1 = [2, 33, 222, 14, 25]\n",
    "\n",
    "list1 = min(list1)\n",
    "\n",
    "print(list1)\n",
    "\n",
    "#Large number\n",
    "list2 = [2,33,222,14,25]\n",
    "\n",
    "list2 = max(list2)\n",
    "\n",
    "print(list2)\n",
    "\n",
    "#sum of list\n",
    "list1 = [2, 33, 222, 14, 25]\n",
    "list2 = [2,33,222,14,25]\n",
    "list3 = []\n",
    "for i in range(0,len(list1)):\n",
    "    list3.append(list1[i] + list2[i])\n",
    "\n",
    "print(list3)    "
   ]
  },
  {
   "cell_type": "code",
   "execution_count": null,
   "id": "51ee9aed",
   "metadata": {},
   "outputs": [],
   "source": [
    "#5# How will you compare two lists?\n",
    "\n",
    "list1 = [1,2,3,4,5,6,7,8,9]\n",
    "\n",
    "list2 = [9,8,7,6,5,4,3,2,1]\n",
    "\n",
    "list2.reverse()\n",
    "\n",
    "if list1 == list2:\n",
    "    print('list is equal')\n",
    "else :\n",
    "    print('list is not equal')"
   ]
  },
  {
   "cell_type": "code",
   "execution_count": null,
   "id": "1e2be2bd",
   "metadata": {},
   "outputs": [],
   "source": [
    "#6# Write a Python program to count the number of strings where the string\n",
    "# length is 2 or more and the first and last character are same from a given\n",
    "# list of strings. \n",
    "\n",
    "\n",
    "list1 = ['abc', 'xyz', 'aba', '1221','22452']\n",
    "new1 = 0\n",
    "for i in list1:\n",
    "    if len(i) > 1 and i[0] == i[-1]:\n",
    "        new1 += 1\n",
    "\n",
    "print(new1)        \n",
    "        "
   ]
  },
  {
   "cell_type": "code",
   "execution_count": null,
   "id": "79e848ba",
   "metadata": {},
   "outputs": [],
   "source": [
    "#7# Write a Python program to remove duplicates from a list.\n",
    "\n",
    "list1 = [1,2,3,4,5,2,1,5,2,4,6,6,2,8,7]\n",
    "\n",
    "list1 = list(set(list1))\n",
    "\n",
    "print(list1)\n",
    "\n",
    "\n"
   ]
  },
  {
   "cell_type": "code",
   "execution_count": null,
   "id": "1a873a23",
   "metadata": {},
   "outputs": [],
   "source": [
    "#8# Write a Python program to check a list is empty or not. \n",
    "\n",
    "list1 = []\n",
    "\n",
    "if list1 == []:\n",
    "    print(\"List is empty\")\n",
    "else:\n",
    "    print(\"List is not empty\")\n",
    "    "
   ]
  },
  {
   "cell_type": "code",
   "execution_count": null,
   "id": "94f604fe",
   "metadata": {},
   "outputs": [],
   "source": [
    "#9# Write a Python function that takes two lists and returns true if they have\n",
    "# at least one common member. \n",
    "list1 = [1,2,3,4,5,6,7,8,9]\n",
    "list2 = [\"arpit\",\"thummar\",\"arkskc\"]\n",
    "\n",
    "def commen_data(list1,list2):\n",
    "  \n",
    "    for x in list1:\n",
    "        for y in list2:\n",
    "            if x==y:\n",
    "                result = True\n",
    "            else:\n",
    "                result = False\n",
    "                return result\n",
    "print(commen_data(list1,list2))            \n",
    "            "
   ]
  },
  {
   "cell_type": "code",
   "execution_count": null,
   "id": "9078ebd5",
   "metadata": {},
   "outputs": [],
   "source": [
    "#10# Write a Python program to generate and print a list of first and last 5\n",
    "# elements where the values are square of numbers between 1 and 30. \n",
    "\n",
    "\n",
    "def print_value():\n",
    "    list1 = list()\n",
    "    for i in range(1,31):\n",
    "        list1.append(i**2)\n",
    "    print(list1[:5])\n",
    "    print(list1[-5:])\n",
    "    \n",
    "print_value()    "
   ]
  },
  {
   "cell_type": "code",
   "execution_count": null,
   "id": "7dbaf845",
   "metadata": {},
   "outputs": [],
   "source": [
    "#11# Write a Python function that takes a list and returns a new list with unique\n",
    "# elements of the first list. \n",
    "\n",
    "list1 = [1,2,3,4,5,6,2,1,4,5,8,7,1,5,2]\n",
    "\n",
    "def unique_list(list1):\n",
    "    list2 = []\n",
    "    for i in list1:\n",
    "        if i not in list2:\n",
    "            list2.append(i)\n",
    "    return list2\n",
    "    \n",
    "    \n",
    "unique_list(list1)    "
   ]
  },
  {
   "cell_type": "code",
   "execution_count": null,
   "id": "aff3e8ce",
   "metadata": {},
   "outputs": [],
   "source": [
    "#12# Write a Python program to convert a list of characters into a string\n",
    "list1 = [\"A\",\"r\",\"p\",\"i\",\"t\"]\n",
    "def convert_char(list1):\n",
    "    list1 = \"\".join(list1)\n",
    "    return list1\n",
    "\n",
    "convert_char(list1)"
   ]
  },
  {
   "cell_type": "code",
   "execution_count": null,
   "id": "1b099fa8",
   "metadata": {},
   "outputs": [],
   "source": [
    "#13# Write a Python program to select an item randomly from a list.\n",
    "import random\n",
    "\n",
    "list1 = [1,23,5,6,2,8,5,7,5,8,5,8,5,8]\n",
    "\n",
    "def select_rendom(list1):\n",
    "    list1 = random.choice(list1)\n",
    "    return list1\n",
    "\n",
    "select_rendom(list1)"
   ]
  },
  {
   "cell_type": "code",
   "execution_count": null,
   "id": "a5c304db",
   "metadata": {},
   "outputs": [],
   "source": [
    "#14# Write a Python program to find the second smallest number in a list. \n",
    "list1 = [1,3,5,4,8,7,9,5,6,5,4,5,8,9,10,11]\n",
    "def second_small(list1):\n",
    "    length = len(list1)\n",
    "    list1.sort()\n",
    "    print(\"Second Largest element is:\", list1[length-2])\n",
    "#     \n",
    "\n",
    "secondlarge = second_small(list1)"
   ]
  },
  {
   "cell_type": "code",
   "execution_count": null,
   "id": "8ffde36d",
   "metadata": {},
   "outputs": [],
   "source": [
    "#15# Write a Python program to get unique values from a list \n",
    "\n",
    "list1 = [1,2,5,4,8,7,5,9,5,8,7,4,5,8,7,5,6,98,78,5,2,2,8,5,2,]\n",
    "\n",
    "def unique_value(list1):\n",
    "    newlist = []\n",
    "    for i in list1:\n",
    "        if i not in newlist:\n",
    "            newlist.append(i)\n",
    "    return newlist\n",
    "    \n",
    "unique_value(list1)"
   ]
  },
  {
   "cell_type": "code",
   "execution_count": null,
   "id": "92eb3c94",
   "metadata": {},
   "outputs": [],
   "source": [
    "#16# Write a Python program to check whether a list contains a sub list \n",
    "\n",
    "def Sublist(list1, sub_list):\n",
    "    sub_set = False\n",
    "    if sub_list == []:\n",
    "        sub_set = True\n",
    "    elif sub_list == list1:\n",
    "        sub_set = True\n",
    "    elif len(sub_list) > len(list1):\n",
    "        sub_set = False\n",
    "\n",
    "    else:\n",
    "        for i in range(len(list1)):\n",
    "            if list1[i] == sub_list[0]:\n",
    "                n = 1\n",
    "                while (n < len(sub_list)) and (list1[i+n] == sub_list[n]):\n",
    "                    n += 1\n",
    "\n",
    "                if n == len(sub_list):\n",
    "                    sub_set = True\n",
    "\n",
    "    return sub_set\n",
    "\n",
    "a = [2,4,3,5,7]\n",
    "b = [4,3]\n",
    "c = [3,7]\n",
    "print(Sublist(a, b))\n",
    "print(Sublist(a, c))\n",
    "        "
   ]
  },
  {
   "cell_type": "code",
   "execution_count": null,
   "id": "310b7d1e",
   "metadata": {},
   "outputs": [],
   "source": [
    "#17# Write a Python program to split a list into different variables. \n",
    "\n",
    "list1 = [(\"std\" , \"1\"),(\"std\",\"2\"),(\"std\",\"3\")]\n",
    "var1,var2,var3 = list1\n",
    "\n",
    "print(var1)"
   ]
  },
  {
   "cell_type": "code",
   "execution_count": null,
   "id": "1f92d53f",
   "metadata": {},
   "outputs": [],
   "source": [
    "#18# What is tuple? Difference between list and tuple.\n",
    "\n",
    "# Tuple\n",
    "# Tuples are used to store multiple items in a single variable.\n",
    "# Tuple is one of 4 built-in data types in Python used to store collections of data, the other 3 are List, Set, and Dictionary, all with different qualities and usage.\n",
    "# A tuple is a collection which is ordered and unchangeable.\n",
    "# Tuples are written with round brackets.\n",
    "\n",
    "# ex\n",
    "thistuple = (\"apple\", \"banana\", \"cherry\")\n",
    "print(thistuple)\n",
    "\n",
    "# List\n",
    "# Lists are used to store multiple items in a single variable.\n",
    "# Lists are one of 4 built-in data types in Python used to store collections of data, the other 3 are Tuple, Set, and Dictionary, all with different qualities and usage.\n",
    "\n",
    "# ex\n",
    "thislist = [\"apple\", \"banana\", \"cherry\"]\n",
    "print(thislist)"
   ]
  },
  {
   "cell_type": "code",
   "execution_count": null,
   "id": "c5cda877",
   "metadata": {},
   "outputs": [],
   "source": [
    "#19# Write a Python program to create a tuple with different data types\n",
    "\n",
    "tap1 = (1,\"arpit\",23.20,True,{1,2,3},(\"arpit\",1,2,2.3),{\"Name\":\"arpit\"})\n",
    "\n",
    "print(tap1)"
   ]
  },
  {
   "cell_type": "code",
   "execution_count": null,
   "id": "9da432ec",
   "metadata": {},
   "outputs": [],
   "source": [
    "#20# Write a Python program to create a tuple with numbers. \n",
    "\n",
    "\n",
    "tupl1 = 5, 10, 15, 20, 25\n",
    "print(tupl1)\n",
    "tupl2 = 5,\n",
    "print(tupl2)"
   ]
  },
  {
   "cell_type": "code",
   "execution_count": null,
   "id": "5d1c931f",
   "metadata": {},
   "outputs": [],
   "source": [
    "#21# Write a Python program to convert a tuple to a string. \n",
    "\n",
    "tupl1 = (\"A\",\"r\",\"p\",\"i\",\"t\")\n",
    "\n",
    "tupl1 = \"\".join(tupl1)\n",
    "\n",
    "print(tupl1)"
   ]
  },
  {
   "cell_type": "code",
   "execution_count": 5,
   "id": "a5ca4e0a",
   "metadata": {},
   "outputs": [
    {
     "name": "stdout",
     "output_type": "stream",
     "text": [
      "Enter Value:5\n",
      "Yes!\n"
     ]
    }
   ],
   "source": [
    "#22# Write a Python program to check whether an element exists within a\n",
    "# tuple. \n",
    "tupl1 = (1,2,3,4,5,6,7,8,9)\n",
    "\n",
    "\n",
    "ele1 = int(input(\"Enter Value:\")) \n",
    "\n",
    "if ele1 in tupl1:\n",
    "    print(\"Yes!\") \n",
    "else: \n",
    "    print(\"Nope.\")  \n"
   ]
  },
  {
   "cell_type": "code",
   "execution_count": 1,
   "id": "badc12eb",
   "metadata": {},
   "outputs": [
    {
     "name": "stdout",
     "output_type": "stream",
     "text": [
      "14\n"
     ]
    }
   ],
   "source": [
    "#23# Write a Python program to find the length of a tuple.\n",
    "\n",
    "tup1 = (1,2,3,4,5,6,7,9,5,4,6,8,7,9)\n",
    "\n",
    "tup1 = len(tup1)\n",
    "\n",
    "print(tup1)"
   ]
  },
  {
   "cell_type": "code",
   "execution_count": 3,
   "id": "07e56a8a",
   "metadata": {},
   "outputs": [
    {
     "name": "stdout",
     "output_type": "stream",
     "text": [
      "(1, 2, 5, 4, 6, 8, 7, 9, 5, 4, 6, 5, 2)\n",
      "<class 'tuple'>\n"
     ]
    }
   ],
   "source": [
    "#24# Write a Python program to convert a list to a tuple.\n",
    "\n",
    "list1 = [1,2,5,4,6,8,7,9,5,4,6,5,2]\n",
    "\n",
    "convert = tuple(list1)\n",
    "\n",
    "print(convert)\n",
    "\n",
    "print(type(convert))"
   ]
  },
  {
   "cell_type": "code",
   "execution_count": 4,
   "id": "da3ddfa2",
   "metadata": {},
   "outputs": [
    {
     "name": "stdout",
     "output_type": "stream",
     "text": [
      "(9, 7, 8, 6, 4, 5, 9, 7, 6, 5, 4, 3, 2, 1)\n"
     ]
    }
   ],
   "source": [
    "#25# Write a Python program to reverse a tuple.\n",
    "\n",
    "tup1 = (1,2,3,4,5,6,7,9,5,4,6,8,7,9)\n",
    "\n",
    "tup1 = tup1[::-1]\n",
    "\n",
    "print(tup1)"
   ]
  },
  {
   "cell_type": "code",
   "execution_count": 7,
   "id": "3bce95a5",
   "metadata": {},
   "outputs": [
    {
     "name": "stdout",
     "output_type": "stream",
     "text": [
      "[(1, 2, 10), (4, 5, 10), (7, 8, 10)]\n"
     ]
    }
   ],
   "source": [
    "#26#  Write a Python program to replace last value of tuples in a list. \n",
    "\n",
    "list1 = [(1,2,3),(4,5,6),(7,8,9)]\n",
    "\n",
    "list1 = [l[:-1] + (10,) for l in list1]\n",
    "\n",
    "print(list1)"
   ]
  },
  {
   "cell_type": "code",
   "execution_count": 8,
   "id": "3f041fce",
   "metadata": {},
   "outputs": [
    {
     "name": "stdout",
     "output_type": "stream",
     "text": [
      "Enter the value you have to found in tuple: 5\n",
      "4\n"
     ]
    }
   ],
   "source": [
    "#27# Write a Python program to find the repeated items of a tuple. \n",
    "\n",
    "tup1 = (1,2,3,4,5,8,7,5,8,7,4,5,6,3,2,1,5,8,9,7)\n",
    "num = int(input(\"Enter the value you have to found in tuple: \"))\n",
    "repeated = tup1.count(num) \n",
    "print(repeated)"
   ]
  },
  {
   "cell_type": "code",
   "execution_count": 17,
   "id": "81062b92",
   "metadata": {},
   "outputs": [
    {
     "name": "stdout",
     "output_type": "stream",
     "text": [
      "[(1, 1), (5, 4), (8, 9)]\n"
     ]
    }
   ],
   "source": [
    "#28# Write a Python program to remove an empty tuple(s) from a list of tuples. \n",
    "\n",
    "list1 = [(1,1),(5,4),(),(8,9)]\n",
    "\n",
    "list1 = [list1 for list1 in list1 if list1]\n",
    "\n",
    "print(list1)"
   ]
  },
  {
   "cell_type": "code",
   "execution_count": 13,
   "id": "542d1272",
   "metadata": {},
   "outputs": [
    {
     "name": "stdout",
     "output_type": "stream",
     "text": [
      "[(1, 3, 5, 7), (2, 4, 6, 8)]\n"
     ]
    }
   ],
   "source": [
    "#29# Write a Python program to unzip a list of tuples into individual lists. \n",
    "\n",
    "list1 = [(1,2),(3,4),(5,6),(7,8)]\n",
    "\n",
    "\n",
    "print(list(zip(*list1)))\n",
    "\n",
    "\n",
    "\n"
   ]
  },
  {
   "cell_type": "code",
   "execution_count": 18,
   "id": "1513b02e",
   "metadata": {},
   "outputs": [
    {
     "name": "stdout",
     "output_type": "stream",
     "text": [
      "{'a': 2, 'b': 3, 'c': 4, 'd': 5, 'e': 6}\n"
     ]
    }
   ],
   "source": [
    "#30# Write a Python program to convert a list of tuples into a dictionary\n",
    "\n",
    "list1 = [(\"a\",2),(\"b\",3),(\"c\",4),(\"d\",5),(\"e\",6)]\n",
    "\n",
    "def tTOd(lot):\n",
    "    result = {key:value for key , value in lot}\n",
    "    return result\n",
    "\n",
    "\n",
    "result = tTOd(list1)\n",
    "\n",
    "print(result)"
   ]
  },
  {
   "cell_type": "code",
   "execution_count": 21,
   "id": "5da3cf72",
   "metadata": {},
   "outputs": [
    {
     "name": "stdout",
     "output_type": "stream",
     "text": [
      "{'a': 1, 'b': 2, 'c': 3}\n"
     ]
    }
   ],
   "source": [
    "#31# How will you create a dictionary using tuples in python? \n",
    "\n",
    "\n",
    "list_tuples = [(\"a\", 1), (\"b\", 2), (\"c\", 3)]\n",
    "\n",
    "# Creating a dictionary using dictionary comprehension\n",
    "result = {key: value for key, value in list_tuples}\n",
    "\n",
    "print(result)"
   ]
  },
  {
   "cell_type": "code",
   "execution_count": 25,
   "id": "bb44dd85",
   "metadata": {},
   "outputs": [
    {
     "name": "stdout",
     "output_type": "stream",
     "text": [
      "Ascending Order: {'banana': 2, 'grapes': 3, 'apple': 5, 'orange': 8}\n",
      "Descending Order: {'orange': 8, 'apple': 5, 'grapes': 3, 'banana': 2}\n"
     ]
    }
   ],
   "source": [
    "#32# Write a Python script to sort (ascending and descending) a dictionary by\n",
    "# value. \n",
    "\n",
    "def sort_dict_by_value(dictionary, ascending=True):\n",
    "    # Sort the dictionary by its values in ascending or descending order\n",
    "    sorted_items = sorted(dictionary.items(), key=lambda x: x[1], reverse=not ascending)\n",
    "    \n",
    "    # Create a new dictionary from the sorted items\n",
    "    sorted_dict = {key: value for key, value in sorted_items}\n",
    "    \n",
    "    return sorted_dict\n",
    "\n",
    "# Example usage\n",
    "sample_dict = {\"apple\": 5, \"banana\": 2, \"orange\": 8, \"grapes\": 3}\n",
    "\n",
    "# Sort in ascending order\n",
    "sorted_ascending = sort_dict_by_value(sample_dict, ascending=True)\n",
    "print(\"Ascending Order:\", sorted_ascending)\n",
    "\n",
    "# Sort in descending order\n",
    "sorted_descending = sort_dict_by_value(sample_dict, ascending=False)\n",
    "print(\"Descending Order:\", sorted_descending)\n"
   ]
  },
  {
   "cell_type": "code",
   "execution_count": 28,
   "id": "1df7dba5",
   "metadata": {},
   "outputs": [
    {
     "name": "stdout",
     "output_type": "stream",
     "text": [
      "{'a': 1, 'b': 2, 'c': 3, 'd': 4, 'e': 5, 'f': 6}\n"
     ]
    }
   ],
   "source": [
    "#33# Write a Python script to concatenate following dictionaries to create a\n",
    "# new one. \n",
    "\n",
    "a = {\"a\":1,\"b\":2}\n",
    "b = {\"c\":3,\"d\":4}\n",
    "c = {\"e\":5,\"f\":6}\n",
    "\n",
    "def dictonarys(*dics):\n",
    "    new_dict = {}\n",
    "    \n",
    "    for dictionary in dics:\n",
    "        new_dict.update(dictionary)\n",
    "    return new_dict\n",
    "\n",
    "concatenate = dictonarys(a,b,c)\n",
    "\n",
    "print(concatenate)"
   ]
  },
  {
   "cell_type": "code",
   "execution_count": 9,
   "id": "b728d6a6",
   "metadata": {},
   "outputs": [
    {
     "name": "stdout",
     "output_type": "stream",
     "text": [
      "Enter the key : arpt\n",
      "Not present\n"
     ]
    }
   ],
   "source": [
    "#34# Write a Python script to check if a given key already exists in a\n",
    "# dictionary.\n",
    "\n",
    "def chekey(dic,key):\n",
    "    \n",
    "    if key in dic.keys():\n",
    "        print(f\"present, value = {dic[key]}\")\n",
    "    else:\n",
    "        print(\"Not present\")\n",
    "\n",
    "dic = {\"arpit\":2,\"raj\":3,\"viraj\":4,\"man\":5}\n",
    "key = input(\"Enter the key : \")\n",
    "\n",
    "chakekey = chekey(dic,key)"
   ]
  },
  {
   "cell_type": "code",
   "execution_count": 12,
   "id": "ee23ab27",
   "metadata": {},
   "outputs": [
    {
     "name": "stdout",
     "output_type": "stream",
     "text": [
      "apple 1\n",
      "banana 2\n",
      "orange 3\n",
      "1\n",
      "2\n",
      "3\n",
      "apple 1\n",
      "banana 2\n",
      "orange 3\n",
      "apple 1\n",
      "banana 2\n",
      "orange 3\n"
     ]
    }
   ],
   "source": [
    "#35# How Do You Traverse Through A Dictionary Object In Python? \n",
    "\n",
    "\n",
    "#1 Using a for loop with keys():\n",
    "\n",
    "my_dict = {'apple': 1, 'banana': 2, 'orange': 3}\n",
    "\n",
    "for key in my_dict.keys():\n",
    "    print(key, my_dict[key])\n",
    "    \n",
    "    \n",
    "\n",
    "    \n",
    "    \n",
    "#2 Using a for loop with values():\n",
    "\n",
    "for value in my_dict.values():\n",
    "    print(value)\n",
    "\n",
    "    \n",
    "\n",
    "    \n",
    "#3 Using a for loop with items():\n",
    "\n",
    "for key, value in my_dict.items():\n",
    "    print(key, value)\n",
    "\n",
    "    \n",
    "\n",
    "    \n",
    "    \n",
    "#4 Using list comprehension:\n",
    "\n",
    "# Accessing keys\n",
    "keys = [key for key in my_dict.keys()]\n",
    "\n",
    "# Accessing values\n",
    "values = [value for value in my_dict.values()]\n",
    "\n",
    "# Accessing key-value pairs\n",
    "items = [(key, value) for key, value in my_dict.items()]\n",
    "\n",
    "\n",
    "\n",
    "\n",
    "\n",
    "#5 Using the dictionary's get() method:\n",
    "\n",
    "for key in my_dict:\n",
    "    value = my_dict.get(key)\n",
    "    print(key, value)\n"
   ]
  },
  {
   "cell_type": "code",
   "execution_count": 13,
   "id": "58475b77",
   "metadata": {},
   "outputs": [
    {
     "name": "stdout",
     "output_type": "stream",
     "text": [
      "Enter the key : arpit\n",
      "present, value = 2\n"
     ]
    }
   ],
   "source": [
    "#36# How Do You Check The Presence Of A Key In A Dictionary? \n",
    "\n",
    "\n",
    "def chekey(dic,key):\n",
    "    \n",
    "    if key in dic.keys():\n",
    "        print(f\"present, value = {dic[key]}\")\n",
    "    else:\n",
    "        print(\"Not present\")\n",
    "\n",
    "dic = {\"arpit\":2,\"raj\":3,\"viraj\":4,\"man\":5}\n",
    "key = input(\"Enter the key : \")\n",
    "\n",
    "chakekey = chekey(dic,key)\n"
   ]
  },
  {
   "cell_type": "code",
   "execution_count": 21,
   "id": "c2104705",
   "metadata": {},
   "outputs": [
    {
     "name": "stdout",
     "output_type": "stream",
     "text": [
      "{1: 1, 2: 2, 3: 3, 4: 4, 5: 5, 6: 6, 7: 7, 8: 8, 9: 9, 10: 10, 11: 11, 12: 12, 13: 13, 14: 14, 15: 15}\n"
     ]
    }
   ],
   "source": [
    "#37# Write a Python script to print a dictionary where the keys are numbers\n",
    "# between 1 and 15. \n",
    "\n",
    "dic = {}\n",
    "\n",
    "for i in range(1,16):\n",
    "    dic[i]=i\n",
    "\n",
    "print(dic)    \n",
    "    "
   ]
  },
  {
   "cell_type": "code",
   "execution_count": 43,
   "id": "934cce54",
   "metadata": {},
   "outputs": [
    {
     "name": "stdout",
     "output_type": "stream",
     "text": [
      "False Missing keys: ['kiwi']\n"
     ]
    }
   ],
   "source": [
    "#38# Write a Python program to check multiple keys exists in a dictionary\n",
    "\n",
    "def chek_key_exist(dictionary, keys_to_check):\n",
    "    for key in keys_to_check:\n",
    "        if key not in dictionary:\n",
    "            return False\n",
    "    return True\n",
    "\n",
    "def find_missing_keys(dictionary, keys_to_check):\n",
    "    missing_keys = []\n",
    "    for key in keys_to_check:\n",
    "        if key not in dictionary:\n",
    "            missing_keys.append(key)\n",
    "    return missing_keys\n",
    "\n",
    "my_dict = {'apple': 1, 'banana': 2, 'orange': 3}\n",
    "keys_to_check = [\"apple\", \"banana\", \"orange\",\"kiwi\"]\n",
    "result = chek_key_exist(my_dict, keys_to_check)\n",
    "missing_keys = find_missing_keys(my_dict, keys_to_check)\n",
    "print(f\"{result} Missing keys: {missing_keys}\")\n",
    "\n"
   ]
  },
  {
   "cell_type": "code",
   "execution_count": 49,
   "id": "1ef1f136",
   "metadata": {},
   "outputs": [
    {
     "name": "stdout",
     "output_type": "stream",
     "text": [
      "{'apple': 65, 'banana': 20, 'kiwi': 100, 'dragon': 100, 'mango': 400, 'pinapple': 100}\n"
     ]
    }
   ],
   "source": [
    "#39# Write a Python script to merge two Python dictionaries\n",
    "\n",
    "d1 = {\"apple\":65,\"banana\":20}\n",
    "d2 = {\"kiwi\":100,\"dragon\":100}\n",
    "d3 = {\"mango\":400,\"pinapple\":100}\n",
    "def mearg_dic(d1,d2,d3):\n",
    "    return {**d1,**d2,**d3}\n",
    "\n",
    "merge = mearg_dic(d1,d2,d3)\n",
    "\n",
    "print(merge)"
   ]
  },
  {
   "cell_type": "code",
   "execution_count": 58,
   "id": "57bcd58d",
   "metadata": {},
   "outputs": [
    {
     "name": "stdout",
     "output_type": "stream",
     "text": [
      "{'Name': 'Arpit', 'Age': 24, 'City': 'Surat'}\n"
     ]
    }
   ],
   "source": [
    "#40# Write a Python program to map two lists into a dictionary \n",
    "\n",
    "def map_list(keys,values):\n",
    "    map1 = zip(keys,values)\n",
    "    map1_dic = dict(map1)\n",
    "    return map1_dic\n",
    "\n",
    "keys = ['Name', 'Age', 'City']\n",
    "values = ['Arpit', 24, 'Surat']\n",
    "\n",
    "result_dict = map_list(keys, values)\n",
    "print(result_dict)"
   ]
  },
  {
   "cell_type": "code",
   "execution_count": 3,
   "id": "37a9ce06",
   "metadata": {},
   "outputs": [
    {
     "name": "stdout",
     "output_type": "stream",
     "text": [
      "{'a': 400, 'b': 400, 'c': 300, 'd': 400}\n"
     ]
    }
   ],
   "source": [
    "#41# Write a Python program to combine two dictionary adding values for common keys.\n",
    "#d1 = {'a': 100, 'b': 200, 'c':300} o d2 = {'a': 300, 'b': 200,’d’:400}\n",
    "#Sample output: Counter ({'a': 400, 'b': 400,’d’: 400, 'c': 300}). \n",
    "\n",
    "\n",
    "d1 = {'a': 100, 'b': 200, 'c':300}\n",
    "d2 = {'a': 300, 'b': 200,'d':400}\n",
    "\n",
    "\n",
    "def combine_and_sum_dicts(d1, d2):\n",
    "    result = {}\n",
    "\n",
    "    # Combine and sum values from both dictionaries\n",
    "    for key, value in d1.items():\n",
    "        result[key] = result.get(key, 0) + value\n",
    "\n",
    "    for key, value in d2.items():\n",
    "        result[key] = result.get(key, 0) + value\n",
    "\n",
    "    return result\n",
    "\n",
    "\n",
    "\n",
    "# Combine and sum dictionaries\n",
    "result_dict = combine_and_sum_dicts(d1, d2)\n",
    "\n",
    "# Print the result\n",
    "print(result_dict)\n",
    "    "
   ]
  },
  {
   "cell_type": "code",
   "execution_count": 6,
   "id": "2ece3b9b",
   "metadata": {},
   "outputs": [
    {
     "name": "stdout",
     "output_type": "stream",
     "text": [
      "Unique values in the dictionary: [1, 2, 3, 4]\n"
     ]
    }
   ],
   "source": [
    "#42# Write a Python program to print all unique values in a dictionary. \n",
    "\n",
    "my_dict = {'a': 1, 'b': 2, 'c': 1, 'd': 3, 'e': 2, 'f': 4}\n",
    "\n",
    "def unique_values(dictionary):\n",
    "    return list(set(dictionary.values()))\n",
    "\n",
    "# Example usage:\n",
    "\n",
    "unique_values_list = unique_values(my_dict)\n",
    "\n",
    "print(\"Unique values in the dictionary:\", unique_values_list)\n"
   ]
  },
  {
   "cell_type": "code",
   "execution_count": 9,
   "id": "b69acdaf",
   "metadata": {},
   "outputs": [
    {
     "name": "stdout",
     "output_type": "stream",
     "text": [
      "1 a\n",
      "2 b\n",
      "3 c\n",
      "{'name': 'Alice', 'age': 25, 'city': 'New York'}\n",
      "[5, 7, 9]\n"
     ]
    }
   ],
   "source": [
    "#43# Why Do You Use the Zip () Method in Python? \n",
    "\n",
    "# 1\n",
    "\n",
    "list1 = [1, 2, 3]\n",
    "list2 = ['a', 'b', 'c']\n",
    "\n",
    "for item1, item2 in zip(list1, list2):\n",
    "    print(item1, item2)\n",
    "\n",
    "# 2    \n",
    "keys = ['name', 'age', 'city']\n",
    "values = ['Alice', 25, 'New York']\n",
    "\n",
    "my_dict = dict(zip(keys, values))\n",
    "print(my_dict)\n",
    "\n",
    "# 3\n",
    "list1 = [1, 2, 3]\n",
    "list2 = [4, 5, 6]\n",
    "\n",
    "sum_list = [a + b for a, b in zip(list1, list2)]\n",
    "print(sum_list)\n"
   ]
  },
  {
   "cell_type": "code",
   "execution_count": 10,
   "id": "013d297b",
   "metadata": {},
   "outputs": [
    {
     "name": "stdout",
     "output_type": "stream",
     "text": [
      "ac ad bc bd\n"
     ]
    }
   ],
   "source": [
    "#44#Write a Python program to create and display all combinations of letters,\n",
    "#selecting each letter from a different key in a dictionary.\n",
    "#Sample data: {'1': ['a','b'], '2': ['c','d']}\n",
    "#Expected Output:\n",
    "#ac ad bc bd \n",
    "\n",
    "from itertools import product\n",
    "\n",
    "def generate_combinations(dictionary):\n",
    "    keys = list(dictionary.keys())\n",
    "    values = [dictionary[key] for key in keys]\n",
    "\n",
    "    combinations = product(*values)\n",
    "\n",
    "    return [''.join(combination) for combination in combinations]\n",
    "\n",
    "# Sample data\n",
    "my_dict = {'1': ['a', 'b'], '2': ['c', 'd']}\n",
    "\n",
    "# Generate and display combinations\n",
    "result = generate_combinations(my_dict)\n",
    "print(' '.join(result))\n"
   ]
  },
  {
   "cell_type": "code",
   "execution_count": null,
   "id": "fedf61fa",
   "metadata": {},
   "outputs": [],
   "source": [
    "#45# Write a Python program to find the highest 3 values in a dictionary\n",
    "\n",
    "def highest_values(dictionary, n=3):\n",
    "    sorted_items = sorted(dictionary.items(), key=lambda x: x[1], reverse=True)\n",
    "    highest_values_list = sorted_items[:n]\n",
    "\n",
    "    return highest_values_list\n",
    "\n",
    "# Sample data\n",
    "my_dict = {'a': 10, 'b': 8, 'c': 12, 'd': 5, 'e': 15}\n",
    "\n",
    "# Find and display the highest 3 values\n",
    "result = highest_values(my_dict, 3)\n",
    "print(\"Highest 3 values in the dictionary:\")\n",
    "for key, value in result:\n",
    "    print(f\"{key}: {value}\")\n"
   ]
  },
  {
   "cell_type": "code",
   "execution_count": 12,
   "id": "2896af50",
   "metadata": {},
   "outputs": [
    {
     "name": "stdout",
     "output_type": "stream",
     "text": [
      "Combined values in the list of dictionaries:\n",
      "Counter({'item1': 1150, 'item2': 300})\n"
     ]
    }
   ],
   "source": [
    "#46# Write a Python program to combine values in python list of dictionaries.\n",
    "#Sample data: [{'item': 'item1', 'amount': 400}, {'item': 'item2', 'amount':\n",
    "#300}, o {'item': 'item1', 'amount': 750}]\n",
    "#Expected Output:\n",
    "#Counter ({'item1': 1150, 'item2': 300}) \n",
    "\n",
    "from collections import Counter\n",
    "\n",
    "def combine_values(list_of_dicts):\n",
    "    result_counter = Counter()\n",
    "\n",
    "    for d in list_of_dicts:\n",
    "        result_counter[d['item']] += d['amount']\n",
    "\n",
    "    return result_counter\n",
    "\n",
    "# Sample data\n",
    "data = [{'item': 'item1', 'amount': 400},\n",
    "        {'item': 'item2', 'amount': 300},\n",
    "        {'item': 'item1', 'amount': 750}]\n",
    "\n",
    "# Combine values and display the result\n",
    "result = combine_values(data)\n",
    "print(\"Combined values in the list of dictionaries:\")\n",
    "print(result)\n"
   ]
  },
  {
   "cell_type": "code",
   "execution_count": 11,
   "id": "e36a6f5e",
   "metadata": {},
   "outputs": [
    {
     "name": "stdout",
     "output_type": "stream",
     "text": [
      "Dictionary from the string:\n",
      "{'w': 1, '3': 1, 'r': 2, 'e': 2, 's': 1, 'o': 1, 'u': 1, 'c': 1}\n"
     ]
    }
   ],
   "source": [
    "#47# Write a Python program to create a dictionary from a string.\n",
    "#Note: Track the count of the letters from the string.\n",
    "#Sample string: 'w3resource'\n",
    "#Expected output:\n",
    "#{'3': 1,’s’: 1, 'r': 2, 'u': 1, 'w': 1, 'c': 1, 'e': 2, 'o': 1} \n",
    "\n",
    "def create_dict_from_string(input_string):\n",
    "    result_dict = {}\n",
    "\n",
    "    for char in input_string:\n",
    "        result_dict[char] = result_dict.get(char, 0) + 1\n",
    "\n",
    "    return result_dict\n",
    "\n",
    "# Sample string\n",
    "input_string = 'w3resource'\n",
    "\n",
    "# Create dictionary and display the result\n",
    "result = create_dict_from_string(input_string)\n",
    "print(\"Dictionary from the string:\")\n",
    "print(result)\n"
   ]
  },
  {
   "cell_type": "code",
   "execution_count": 13,
   "id": "fe7a9102",
   "metadata": {},
   "outputs": [
    {
     "name": "stdout",
     "output_type": "stream",
     "text": [
      "The factorial of 5 is: 120\n"
     ]
    }
   ],
   "source": [
    "#48# Write a Python function to calculate the factorial of a number (a\n",
    "#nonnegative integer)\n",
    "\n",
    "def factorial(n):\n",
    "    if n == 0 or n == 1:\n",
    "        return 1\n",
    "    else:\n",
    "        return n * factorial(n - 1)\n",
    "\n",
    "# Example usage:\n",
    "number = 5\n",
    "result = factorial(number)\n",
    "print(f\"The factorial of {number} is: {result}\")\n"
   ]
  },
  {
   "cell_type": "code",
   "execution_count": 14,
   "id": "d2cc3552",
   "metadata": {},
   "outputs": [
    {
     "name": "stdout",
     "output_type": "stream",
     "text": [
      "7 is in the range [5, 10]\n"
     ]
    }
   ],
   "source": [
    "#49# Write a Python function to check whether a number is in a given range\n",
    "\n",
    "def is_in_range(number, lower, upper):\n",
    "    return lower <= number <= upper\n",
    "\n",
    "# Example usage:\n",
    "num_to_check = 7\n",
    "lower_limit = 5\n",
    "upper_limit = 10\n",
    "\n",
    "if is_in_range(num_to_check, lower_limit, upper_limit):\n",
    "    print(f\"{num_to_check} is in the range [{lower_limit}, {upper_limit}]\")\n",
    "else:\n",
    "    print(f\"{num_to_check} is outside the range [{lower_limit}, {upper_limit}]\")\n"
   ]
  },
  {
   "cell_type": "code",
   "execution_count": 15,
   "id": "79b6a38e",
   "metadata": {},
   "outputs": [
    {
     "name": "stdout",
     "output_type": "stream",
     "text": [
      "28 is a perfect number.\n"
     ]
    }
   ],
   "source": [
    "#50# Write a Python function to check whether a number is perfect or not.\n",
    "\n",
    "def is_perfect_number(number):\n",
    "    if number <= 0:\n",
    "        return False\n",
    "\n",
    "    divisors_sum = 0\n",
    "    for i in range(1, number):\n",
    "        if number % i == 0:\n",
    "            divisors_sum += i\n",
    "\n",
    "    return divisors_sum == number\n",
    "\n",
    "# Example usage:\n",
    "num_to_check = 28\n",
    "\n",
    "if is_perfect_number(num_to_check):\n",
    "    print(f\"{num_to_check} is a perfect number.\")\n",
    "else:\n",
    "    print(f\"{num_to_check} is not a perfect number.\")\n"
   ]
  },
  {
   "cell_type": "code",
   "execution_count": 16,
   "id": "bb9560b1",
   "metadata": {},
   "outputs": [
    {
     "name": "stdout",
     "output_type": "stream",
     "text": [
      "radar is a palindrome.\n"
     ]
    }
   ],
   "source": [
    "#51# Write a Python function that checks whether a passed string is\n",
    "#palindrome or not\n",
    "\n",
    "def is_palindrome(s):\n",
    "    # Remove spaces and convert to lowercase for case-insensitive comparison\n",
    "    s = s.replace(\" \", \"\").lower()\n",
    "    \n",
    "    # Check if the string is equal to its reverse\n",
    "    return s == s[::-1]\n",
    "\n",
    "# Example usage:\n",
    "word_to_check = \"radar\"\n",
    "\n",
    "if is_palindrome(word_to_check):\n",
    "    print(f\"{word_to_check} is a palindrome.\")\n",
    "else:\n",
    "    print(f\"{word_to_check} is not a palindrome.\")\n"
   ]
  },
  {
   "cell_type": "code",
   "execution_count": null,
   "id": "a749a352",
   "metadata": {},
   "outputs": [],
   "source": [
    "#52# How Many Basic Types Of Functions Are Available In Python?\n",
    "\n",
    "# 1\n",
    "\n",
    "#Built-in Functions:\n",
    "#These are functions that are part of the Python standard library and are available for use without the need for additional imports. Examples include print(), len(), max(), min(), etc.\n",
    "\n",
    "\n",
    "# 2\n",
    "\n",
    "#User-Defined Functions:\n",
    "#These are functions created by the Python programmer to perform a specific task. You define them using the def keyword.\n",
    "\n",
    "#def my_function(parameter1, parameter2):\n",
    "    # Function body\n",
    "    # ...\n",
    "\n",
    "\n",
    "# 3\n",
    "\n",
    "#Anonymous Functions (Lambda Functions):\n",
    "#Lambda functions are small, anonymous functions defined using the lambda keyword. They are often used for short-term operations.\n",
    "\n",
    "\n",
    "#add = lambda x, y: x + y\n",
    "\n",
    "\n",
    "\n",
    "# 4\n",
    "\n",
    "#Recursive Functions:\n",
    "#Recursive functions are functions that call themselves during their execution. They are useful for solving problems that can be broken down into smaller instances of the same problem.\n",
    "\n",
    "#def factorial(n):\n",
    "#   if n == 0 or n == 1:\n",
    "#        return 1\n",
    "#   else:\n",
    "#        return n * factorial(n - 1)\n",
    "\n",
    "\n",
    "\n",
    "# 5\n",
    "\n",
    "#Higher-Order Functions:\n",
    "#hese are functions that take other functions as arguments or return functions as results. Examples include map(), filter(), and sorted().\n",
    "\n",
    "#numbers = [1, 2, 3, 4, 5]\n",
    "#squared = map(lambda x: x**2, numbers)\n",
    "\n",
    "\n",
    "# 6\n",
    "\n",
    "#Generator Functions:\n",
    "#Generator functions use the yield keyword to produce a sequence of values over time. They are memory-efficient and are often used with the next() function.\n",
    "\n",
    "#def count_up_to(limit):\n",
    "#    current = 1\n",
    "#    while current <= limit:\n",
    "#        yield current\n",
    "#        current += 1\n",
    "\n",
    "\n",
    "\n"
   ]
  },
  {
   "cell_type": "code",
   "execution_count": 17,
   "id": "0f2a1806",
   "metadata": {},
   "outputs": [
    {
     "name": "stdout",
     "output_type": "stream",
     "text": [
      "Random item: 4\n"
     ]
    }
   ],
   "source": [
    "#53#  How can you pick a random item from a list or tuple? \n",
    "\n",
    "import random\n",
    "\n",
    "my_list = [1, 2, 3, 4, 5]\n",
    "random_item = random.choice(my_list)\n",
    "\n",
    "print(\"Random item:\", random_item)\n"
   ]
  },
  {
   "cell_type": "code",
   "execution_count": 18,
   "id": "fc6eb42d",
   "metadata": {},
   "outputs": [
    {
     "name": "stdout",
     "output_type": "stream",
     "text": [
      "Random item from the range: 8\n"
     ]
    }
   ],
   "source": [
    "#54# How can you pick a random item from a range?\n",
    "\n",
    "import random\n",
    "\n",
    "# Define a range (e.g., 1 to 10)\n",
    "my_range = range(1, 11)\n",
    "\n",
    "# Pick a random item from the range\n",
    "random_item = random.choice(my_range)\n",
    "\n",
    "print(\"Random item from the range:\", random_item)\n"
   ]
  },
  {
   "cell_type": "code",
   "execution_count": 20,
   "id": "499ff16d",
   "metadata": {},
   "outputs": [
    {
     "name": "stdout",
     "output_type": "stream",
     "text": [
      "Random integer between 1 and 10: 2\n"
     ]
    }
   ],
   "source": [
    "#55# How can you get a random number in python? \n",
    "\n",
    "import random\n",
    "\n",
    "random_integer = random.randint(1, 10)\n",
    "print(\"Random integer between 1 and 10:\", random_integer)\n"
   ]
  },
  {
   "cell_type": "code",
   "execution_count": 25,
   "id": "2b78556e",
   "metadata": {},
   "outputs": [
    {
     "name": "stdout",
     "output_type": "stream",
     "text": [
      "Random number 1: 0.6394267984578837\n",
      "Random number 2: 1\n"
     ]
    }
   ],
   "source": [
    "#56# How will you set the starting value in generating random numbers?\n",
    "\n",
    "import random\n",
    "\n",
    "# Set the seed value\n",
    "seed_value = 42\n",
    "random.seed(seed_value)\n",
    "\n",
    "# Generate random numbers\n",
    "random_number1 = random.random()\n",
    "random_number2 = random.randint(1, 10)\n",
    "\n",
    "print(\"Random number 1:\", random_number1)\n",
    "print(\"Random number 2:\", random_number2)\n"
   ]
  },
  {
   "cell_type": "code",
   "execution_count": 27,
   "id": "af3c4984",
   "metadata": {},
   "outputs": [
    {
     "name": "stdout",
     "output_type": "stream",
     "text": [
      "Shuffled list: [4, 2, 3, 5, 1]\n"
     ]
    }
   ],
   "source": [
    "#57# How will you randomizes the items of a list in place?\n",
    "\n",
    "import random\n",
    "\n",
    "my_list = [1, 2, 3, 4, 5]\n",
    "\n",
    "# Shuffle the list in place\n",
    "random.shuffle(my_list)\n",
    "\n",
    "print(\"Shuffled list:\", my_list)\n"
   ]
  },
  {
   "cell_type": "code",
   "execution_count": 52,
   "id": "48dc74b8",
   "metadata": {},
   "outputs": [
    {
     "name": "stdout",
     "output_type": "stream",
     "text": [
      "Random line from the file:\n",
      "thummar arpit\n"
     ]
    }
   ],
   "source": [
    "#58# Write a Python program to read a random line from a file.\n",
    "\n",
    "import random\n",
    "\n",
    "file_path = './your_file.txt'  # Replace with the actual file path\n",
    "\n",
    "def read_random_line(file_path):\n",
    "    try:\n",
    "        with open(file_path, 'r') as file:\n",
    "            lines = file.readlines()\n",
    "            if lines:\n",
    "                random_line = random.choice(lines)\n",
    "                return random_line.strip()  # Remove leading/trailing whitespaces\n",
    "            else:\n",
    "                return \"File is empty\"\n",
    "    except FileNotFoundError:\n",
    "        return f\"File not found: {file_path}\"\n",
    "\n",
    "random_line = read_random_line(file_path)\n",
    "print(\"Random line from the file:\")\n",
    "print(random_line)\n",
    "\n"
   ]
  },
  {
   "cell_type": "code",
   "execution_count": 56,
   "id": "7a70d164",
   "metadata": {},
   "outputs": [
    {
     "name": "stdout",
     "output_type": "stream",
     "text": [
      "45 degrees is equal to 0.79 radians.\n"
     ]
    }
   ],
   "source": [
    "#59# Write a Python program to convert degree to radian\n",
    "\n",
    "import math\n",
    "\n",
    "def degrees_to_radians(degrees):\n",
    "    radians = degrees * (math.pi / 180)\n",
    "    return radians\n",
    "\n",
    "# Example usage:\n",
    "degrees_value = 45\n",
    "radians_value = degrees_to_radians(degrees_value)\n",
    "\n",
    "print(f\"{degrees_value} degrees is equal to {radians_value:.2f} radians.\")\n"
   ]
  },
  {
   "cell_type": "code",
   "execution_count": 57,
   "id": "afcb67d3",
   "metadata": {},
   "outputs": [
    {
     "name": "stdout",
     "output_type": "stream",
     "text": [
      "The area of the trapezoid is: 24.0\n"
     ]
    }
   ],
   "source": [
    "#60# Write a Python program to calculate the area of a trapezoid\n",
    "\n",
    "def trapezoid_area(base1, base2, height):\n",
    "    area = (base1 + base2) * height / 2\n",
    "    return area\n",
    "\n",
    "# Example usage:\n",
    "base1_length = 5\n",
    "base2_length = 7\n",
    "height_value = 4\n",
    "\n",
    "area_result = trapezoid_area(base1_length, base2_length, height_value)\n",
    "print(f\"The area of the trapezoid is: {area_result}\")\n"
   ]
  },
  {
   "cell_type": "code",
   "execution_count": 59,
   "id": "aa7aef80",
   "metadata": {},
   "outputs": [
    {
     "name": "stdout",
     "output_type": "stream",
     "text": [
      "The area of the parallelogram is: 48\n"
     ]
    }
   ],
   "source": [
    "#61# Write a Python program to calculate the area of a parallelogram\n",
    "\n",
    "def parallelogram_area(base, height):\n",
    "    area = base * height\n",
    "    return area\n",
    "\n",
    "# Example usage:\n",
    "base_length = 8\n",
    "height_value = 6\n",
    "\n",
    "area_result = parallelogram_area(base_length, height_value)\n",
    "print(f\"The area of the parallelogram is: {area_result}\")\n",
    "\n"
   ]
  },
  {
   "cell_type": "code",
   "execution_count": 60,
   "id": "b75daf3a",
   "metadata": {},
   "outputs": [
    {
     "name": "stdout",
     "output_type": "stream",
     "text": [
      "The surface area of the cylinder is: 150.80\n",
      "The volume of the cylinder is: 141.37\n"
     ]
    }
   ],
   "source": [
    "#62# Write a Python program to calculate surface volume and area of a\n",
    "#cylinder\n",
    "\n",
    "import math\n",
    "\n",
    "def cylinder_surface_area(radius, height):\n",
    "    area = 2 * math.pi * radius**2 + 2 * math.pi * radius * height\n",
    "    return area\n",
    "\n",
    "def cylinder_volume(radius, height):\n",
    "    volume = math.pi * radius**2 * height\n",
    "    return volume\n",
    "\n",
    "# Example usage:\n",
    "cylinder_radius = 3\n",
    "cylinder_height = 5\n",
    "\n",
    "surface_area_result = cylinder_surface_area(cylinder_radius, cylinder_height)\n",
    "volume_result = cylinder_volume(cylinder_radius, cylinder_height)\n",
    "\n",
    "print(f\"The surface area of the cylinder is: {surface_area_result:.2f}\")\n",
    "print(f\"The volume of the cylinder is: {volume_result:.2f}\")\n"
   ]
  },
  {
   "cell_type": "code",
   "execution_count": 61,
   "id": "7ad34276",
   "metadata": {},
   "outputs": [
    {
     "name": "stdout",
     "output_type": "stream",
     "text": [
      "The sum of divisors of 12 is: 28\n"
     ]
    }
   ],
   "source": [
    "#63# Write a Python program to returns sum of all divisors of a number \n",
    "\n",
    "def sum_of_divisors(number):\n",
    "    divisor_sum = 0\n",
    "\n",
    "    for i in range(1, number + 1):\n",
    "        if number % i == 0:\n",
    "            divisor_sum += i\n",
    "\n",
    "    return divisor_sum\n",
    "\n",
    "# Example usage:\n",
    "num = 12\n",
    "\n",
    "result = sum_of_divisors(num)\n",
    "print(f\"The sum of divisors of {num} is: {result}\")\n"
   ]
  },
  {
   "cell_type": "code",
   "execution_count": 62,
   "id": "a73fe15e",
   "metadata": {},
   "outputs": [
    {
     "name": "stdout",
     "output_type": "stream",
     "text": [
      "The maximum value is: 5.67\n",
      "The minimum value is: 1.23\n"
     ]
    }
   ],
   "source": [
    "#64# Write a Python program to find the maximum and minimum numbers\n",
    "#from the specified decimal numbers.\n",
    "\n",
    "def find_max_min(numbers):\n",
    "    if not numbers:\n",
    "        return None, None  # Return None for both max and min if the list is empty\n",
    "\n",
    "    maximum = max(numbers)\n",
    "    minimum = min(numbers)\n",
    "\n",
    "    return maximum, minimum\n",
    "\n",
    "# Example usage:\n",
    "decimal_numbers = [3.14, 2.71, 4.56, 1.23, 5.67]\n",
    "\n",
    "max_value, min_value = find_max_min(decimal_numbers)\n",
    "\n",
    "print(f\"The maximum value is: {max_value}\")\n",
    "print(f\"The minimum value is: {min_value}\")\n"
   ]
  }
 ],
 "metadata": {
  "kernelspec": {
   "display_name": "Python 3 (ipykernel)",
   "language": "python",
   "name": "python3"
  },
  "language_info": {
   "codemirror_mode": {
    "name": "ipython",
    "version": 3
   },
   "file_extension": ".py",
   "mimetype": "text/x-python",
   "name": "python",
   "nbconvert_exporter": "python",
   "pygments_lexer": "ipython3",
   "version": "3.10.9"
  }
 },
 "nbformat": 4,
 "nbformat_minor": 5
}
