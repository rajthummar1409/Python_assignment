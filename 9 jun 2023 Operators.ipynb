{
 "cells": [
  {
   "cell_type": "code",
   "execution_count": 1,
   "id": "4907e666",
   "metadata": {},
   "outputs": [],
   "source": [
    "# types of operators in python\n",
    "\n",
    "\n",
    "# arithmetic operator  :- + - * / **(power) %(modulus) //(floor division)\n",
    "# relational operator  :- > < >= <= == !=\n",
    "# logical operator     :- AND(and) OR(or) NOT(not)\n",
    "# assignement operator :- = += -= *= /= ** =\n",
    "# bitwise Operator     :- bitwise and(&) bitwise or(|) bitwise left shift(<<)\n",
    "#                         bitwise right shift(>>)  bitwise exclusive or XOR (^)\n",
    "# membership operator  :- in       not in\n",
    "# identity operators   :- is    is not\n",
    "# ternary operator     :- ?:"
   ]
  },
  {
   "cell_type": "code",
   "execution_count": 1,
   "id": "2597ead1",
   "metadata": {},
   "outputs": [
    {
     "name": "stdout",
     "output_type": "stream",
     "text": [
      "55\n",
      "35\n",
      "450\n",
      "4.5\n",
      "7.5\n",
      "3\n",
      "64\n",
      "64\n",
      "1\n",
      "4.3076923076923075\n"
     ]
    }
   ],
   "source": [
    "# Arithmetic Operator\n",
    "\n",
    "\n",
    "x=45\n",
    "y=10\n",
    "\n",
    "print(x+y)\n",
    "print(x-y)\n",
    "print(x*y)\n",
    "print(x/y)\n",
    "\n",
    "# % modulus\n",
    "\n",
    "print(45/6)\n",
    "print(45%6)\n",
    "\n",
    "# ** power operator\n",
    "\n",
    "print(2**6)\n",
    "print(4**3)\n",
    "\n",
    "# // floor division\n",
    "\n",
    "print(6//4)\n",
    "a=56\n",
    "b=13\n",
    "c=a/b\n",
    "print(c)"
   ]
  },
  {
   "cell_type": "code",
   "execution_count": 3,
   "id": "4b4a2f02",
   "metadata": {},
   "outputs": [
    {
     "name": "stdout",
     "output_type": "stream",
     "text": [
      "489.327\n",
      "489.3266\n",
      "489.33\n"
     ]
    }
   ],
   "source": [
    "#controll degits after . \n",
    "\n",
    "a=489.3265778\n",
    "\n",
    "print('%.3f'%a)#-----------------#1 \n",
    "\n",
    "print(\"{0:.4f}\".format(a))#------#2\n",
    "\n",
    "print(round(a,2))#---------------#3"
   ]
  },
  {
   "cell_type": "code",
   "execution_count": 7,
   "id": "64d4936c",
   "metadata": {},
   "outputs": [
    {
     "name": "stdout",
     "output_type": "stream",
     "text": [
      "True\n",
      "False\n",
      "False\n",
      "False\n",
      "True\n",
      "False\n"
     ]
    }
   ],
   "source": [
    "# relational Operator\n",
    "\n",
    "# its return True False\n",
    "\n",
    "int(89<52)\n",
    "\n",
    "#ex:-\n",
    "\n",
    "print(89>32) #true\n",
    "print(45<21) #false\n",
    "print(35==21) #false\n",
    "print(45>=121) #false\n",
    "print(48<=254) #true\n",
    "print(45!=45) #false"
   ]
  },
  {
   "cell_type": "code",
   "execution_count": 4,
   "id": "bbc982d9",
   "metadata": {},
   "outputs": [
    {
     "name": "stdout",
     "output_type": "stream",
     "text": [
      "False\n",
      "False\n",
      "False\n"
     ]
    }
   ],
   "source": [
    "#Logical operator\n",
    "\n",
    "print(45>=48 and 25>87 and 45>89)   #one false all false\n",
    "print(45>=48 or 25>87 or 45>89)     #one true all true\n",
    "print(not(87>32))  #revers the result condition is true return false / false return true"
   ]
  },
  {
   "cell_type": "code",
   "execution_count": 5,
   "id": "aa83daef",
   "metadata": {},
   "outputs": [
    {
     "name": "stdout",
     "output_type": "stream",
     "text": [
      "9\n",
      "123\n",
      "11\n",
      "712\n",
      "114\n"
     ]
    }
   ],
   "source": [
    "# bitwise and(&)\n",
    "print(89&43)\n",
    "# bitwise or(|)\n",
    "print(89|43)\n",
    "# bitwise right shift(>>)\n",
    "print(89>>3)\n",
    "# bitwise left shift(<<)\n",
    "print(89<<3)\n",
    "# biwtise exclusive or XOR(^)\n",
    "# same means false and different then  true\n",
    "print(89^43)"
   ]
  },
  {
   "cell_type": "code",
   "execution_count": 8,
   "id": "b23dcf93",
   "metadata": {},
   "outputs": [
    {
     "name": "stdout",
     "output_type": "stream",
     "text": [
      "20\n",
      "30\n"
     ]
    }
   ],
   "source": [
    "# Assignement Operator\n",
    "a=10 #assignement operator=\n",
    "# long hand operation\n",
    "a=a+10\n",
    "print(a)\n",
    "# short hand operation\n",
    "a+=10\n",
    "print(a)"
   ]
  },
  {
   "cell_type": "code",
   "execution_count": 9,
   "id": "ba05d79e",
   "metadata": {},
   "outputs": [
    {
     "ename": "SyntaxError",
     "evalue": "invalid syntax (2988925692.py, line 7)",
     "output_type": "error",
     "traceback": [
      "\u001b[1;36m  Cell \u001b[1;32mIn[9], line 7\u001b[1;36m\u001b[0m\n\u001b[1;33m    += -= /= *=\u001b[0m\n\u001b[1;37m    ^\u001b[0m\n\u001b[1;31mSyntaxError\u001b[0m\u001b[1;31m:\u001b[0m invalid syntax\n"
     ]
    }
   ],
   "source": [
    "c-=15\n",
    "c=c-15\n",
    "\n",
    "# assigenemtn operator\n",
    "n/=69 \n",
    "n=n/69\n",
    "+= -= /= *= \n",
    "a=a+10\n",
    "a+=10\n",
    ">>=\n",
    "<<="
   ]
  }
 ],
 "metadata": {
  "kernelspec": {
   "display_name": "Python 3 (ipykernel)",
   "language": "python",
   "name": "python3"
  },
  "language_info": {
   "codemirror_mode": {
    "name": "ipython",
    "version": 3
   },
   "file_extension": ".py",
   "mimetype": "text/x-python",
   "name": "python",
   "nbconvert_exporter": "python",
   "pygments_lexer": "ipython3",
   "version": "3.12.2"
  }
 },
 "nbformat": 4,
 "nbformat_minor": 5
}
