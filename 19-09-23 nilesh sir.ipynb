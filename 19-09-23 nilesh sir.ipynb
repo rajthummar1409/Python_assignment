{
 "cells": [
  {
   "cell_type": "code",
   "execution_count": 4,
   "id": "31de39b0",
   "metadata": {},
   "outputs": [
    {
     "name": "stdout",
     "output_type": "stream",
     "text": [
      "Enter student number : 2\n",
      "Enter student roll number : 1\n",
      "Enter student name : Arpit Thummar\n",
      "Enter student class : 10\n",
      "Enter subject number : 2\n",
      "Enter subject name : Hindi\n",
      "Enter subject marks : 95\n",
      "Enter subject name : Eng\n",
      "Enter subject marks : 85\n",
      "Enter student roll number : 2\n",
      "Enter student name : Raj\n",
      "Enter student class : 3\n",
      "Enter subject number : 2\n",
      "Enter subject name : Hindi\n",
      "Enter subject marks : 75\n",
      "Enter subject name : Eng\n",
      "Enter subject marks : 65\n",
      "Result Format:\n",
      "===============================\n",
      "\t\t\t\tTerm-1 Report Card\n",
      "\t\t\t\tAcademic Year 2022-23\n",
      "\n",
      "\tRoll No : 1\t\tclass : 10 \t\tAttendence : 70%\n",
      "\tStubent Name : Arpit Thummar\t\t\t\tGR no : 2556\n",
      "\n",
      "\n",
      "\tSubject\t\tTotalmarks\tMarksobtain\tSubjectgrade\tRemarks\n",
      "\n",
      "\n",
      "1\tHindi\t\t100\t\t95\t\tFirst Class with Distinction\t\tExcellent\n",
      "2\tEng\t\t100\t\t85\t\t\tFirst Class\t\tVery good\n",
      "\t\tTotal Marks : 100\t\t85\n",
      "Percentage: 4250.00%\n",
      "===============================\n",
      "\t\t\t\tTerm-1 Report Card\n",
      "\t\t\t\tAcademic Year 2022-23\n",
      "\n",
      "\tRoll No : 2\t\tclass : 3 \t\tAttendence : 70%\n",
      "\tStubent Name : Raj\t\t\t\tGR no : 2556\n",
      "\n",
      "\n",
      "\tSubject\t\tTotalmarks\tMarksobtain\tSubjectgrade\tRemarks\n",
      "\n",
      "\n",
      "1\tHindi\t\t100\t\t75\t\t\tSecond Class\t\tGood\n",
      "2\tEng\t\t100\t\t65\t\tThird Class\t\tGood\n",
      "\t\tTotal Marks : 100\t\t65\n",
      "Percentage: 3250.00%\n",
      "===============================\n"
     ]
    }
   ],
   "source": [
    "# Student Marksheet\n",
    "\n",
    "student_data = {}\n",
    "total_marks = 100\n",
    "\n",
    "\n",
    "student_num = int(input(\"Enter student number : \"))\n",
    "\n",
    "for i in range(student_num):\n",
    "    student_roll = int(input(\"Enter student roll number : \"))\n",
    "    student_name = input(\"Enter student name : \")\n",
    "    student_class = int(input(\"Enter student class : \"))\n",
    "    sub_num = int(input(\"Enter subject number : \"))\n",
    "    student_data.update({student_roll:{\"Name\":student_name , \"class_name\":student_class}})\n",
    "    for j in range(sub_num):\n",
    "        sub_name = input(\"Enter subject name : \")\n",
    "        sub_marks = int(input(\"Enter subject marks : \"))\n",
    "        student_data[student_roll].update({sub_name:sub_marks})\n",
    "        \n",
    "        \n",
    "print(\"Result Format:\")\n",
    "print(\"===============================\")\n",
    "\n",
    "for roll, student_info in student_data.items():\n",
    "    print(f\"\"\"\\t\\t\\t\\tTerm-1 Report Card\\n\\t\\t\\t\\tAcademic Year 2022-23\\n\\n\\tRoll No : {roll}\\t\\tclass : {student_info['class_name']} \\t\\tAttendence : 70%\\n\\tStubent Name : {student_info['Name']}\\t\\t\\t\\tGR no : 2556\\n\\n\\n\\tSubject\\t\\tTotalmarks\\tMarksobtain\\tSubjectgrade\\tRemarks\\n\\n\"\"\")\n",
    "   \n",
    "    \n",
    "    total_obtained_marks = 0\n",
    "    m=1\n",
    "    for subject, marks in student_info.items():\n",
    "        if subject not in ['Name', 'class_name']:\n",
    "            if marks>100:\n",
    "                print(\"Enter valid Marks of subject\")\n",
    "            elif marks>90 and marks<=100:\n",
    "                grd='Distinction'\n",
    "                remarks=\"Excellent\"\n",
    "            elif marks>80 and marks<=90:\n",
    "                grd='\tFirst Class'\n",
    "                remarks=\"Very good\"\n",
    "            elif marks>70 and marks<=80:\n",
    "                grd='\tSecond Class'\n",
    "                remarks=\"Good\"\n",
    "            elif marks>60 and marks<=70:\n",
    "                grd='Third Class'\n",
    "                remarks=\"Good\"\n",
    "            elif marks>50 and marks<=60:\n",
    "                grd='Conceded Pass'\n",
    "                remarks=\"Batter\"\n",
    "            elif marks>33 and marks<=50:\n",
    "                grd='Pass'\n",
    "                remarks=\"Try batter\"\n",
    "            else:\n",
    "                grd='Fail'\n",
    "                remarks=\"Poor\" \n",
    "            \n",
    "            print(f\"{m}\\t{subject}\\t\\t{total_marks}\\t\\t{marks}\\t\\t{grd}\\t\\t{remarks}\")\n",
    "            m+=1\n",
    "            \n",
    "            \n",
    "        \n",
    "    total_obtained_marks += marks   \n",
    "    percentage = (total_obtained_marks / (len(student_info) - 2)) * 100\n",
    "    print(f\"\\t\\tTotal Marks : {total_marks}\\t\\t{total_obtained_marks}\")\n",
    "    print(f\"Percentage: {percentage:.2f}%\")\n",
    "    print(\"===============================\")\n",
    "        "
   ]
  },
  {
   "cell_type": "code",
   "execution_count": 2,
   "id": "d468b5ca",
   "metadata": {},
   "outputs": [
    {
     "name": "stdout",
     "output_type": "stream",
     "text": [
      "Enter number : 7\n",
      "Your number 7 is odd number\n"
     ]
    }
   ],
   "source": [
    "# Odd Even\n",
    "\n",
    "num = int(input(\"Enter number : \"))\n",
    "\n",
    "if num%2==0:\n",
    "    print(f\"Your number {num} is even number\")\n",
    "else : \n",
    "    print(f\"Your number {num} is odd number\")"
   ]
  },
  {
   "cell_type": "code",
   "execution_count": 4,
   "id": "50a8b4da",
   "metadata": {},
   "outputs": [
    {
     "name": "stdout",
     "output_type": "stream",
     "text": [
      "Enter the Year : 2000\n",
      "2000 is Leap Year\n"
     ]
    }
   ],
   "source": [
    "#Leap Year\n",
    "\n",
    "year = int(input(\"Enter the Year : \"))\n",
    "\n",
    "if(year % 400 == 0) or (year % 100 != 0) and (year % 4 == 0):\n",
    "    print(f\"{year} is Leap Year\")\n",
    "else:\n",
    "    print(f\"{year} is not Leap Year\")\n",
    "\n"
   ]
  },
  {
   "cell_type": "code",
   "execution_count": 21,
   "id": "7cc62f26",
   "metadata": {},
   "outputs": [
    {
     "name": "stdout",
     "output_type": "stream",
     "text": [
      "6\n"
     ]
    }
   ],
   "source": [
    "# Swaping without third variable\n",
    "\n",
    "num1=5\n",
    "num2=6\n",
    "\n",
    "# num1,num2 = num2,num1\n",
    "\n",
    "num1 = num1 + num2\n",
    "num2 = num1 - num2\n",
    "num1 = num1 - num2\n",
    "\n",
    "print(num1)"
   ]
  },
  {
   "cell_type": "code",
   "execution_count": 12,
   "id": "ad10614e",
   "metadata": {},
   "outputs": [
    {
     "name": "stdout",
     "output_type": "stream",
     "text": [
      "Enter char : b\n",
      "b  is not vowel\n"
     ]
    }
   ],
   "source": [
    "# Find a vovel or Consonant Character\n",
    "\n",
    "a = input(\"Enter char : \")\n",
    "\n",
    "if (a=='a'or a=='e'or a=='i'or a=='o'or a=='u'or a=='A'or a=='I'or a=='O'or a=='E'or a=='U'):\n",
    "    print(a,\"is vowel\")\n",
    "else : \n",
    "    print(a,\" is not vowel\")"
   ]
  },
  {
   "cell_type": "code",
   "execution_count": 13,
   "id": "1d8b8d7c",
   "metadata": {},
   "outputs": [
    {
     "name": "stdout",
     "output_type": "stream",
     "text": [
      "Enter number :6\n",
      "factorial of 6 is 720\n"
     ]
    }
   ],
   "source": [
    "# Find fectorial\n",
    "\n",
    "num = int(input(\"Enter number :\"))\n",
    "fact = 1\n",
    "for i in range(fact,num + 1):\n",
    "    fact=fact*i\n",
    "    \n",
    "print(f\"Factorial of {num} is {fact}\")"
   ]
  },
  {
   "cell_type": "code",
   "execution_count": 24,
   "id": "1090a9b0",
   "metadata": {},
   "outputs": [
    {
     "name": "stdout",
     "output_type": "stream",
     "text": [
      "Enter A value :3\n",
      "Enter B value :2\n",
      "Enter C value :1\n",
      "A is grater 3\n"
     ]
    }
   ],
   "source": [
    "# Find Max number\n",
    "\n",
    "A = int(input(\"Enter A value :\"))\n",
    "B = int(input(\"Enter B value :\"))\n",
    "C = int(input(\"Enter C value :\"))\n",
    "\n",
    "if A > B:\n",
    "    if A > C:\n",
    "        print(f\"A is grater {A}\")\n",
    "else:\n",
    "    if B > C:\n",
    "        print(f\"B is grater {B}\")\n",
    "    else :\n",
    "        print(f\"C is grater {C}\")\n",
    "        "
   ]
  },
  {
   "cell_type": "code",
   "execution_count": 31,
   "id": "27457867",
   "metadata": {},
   "outputs": [
    {
     "name": "stdout",
     "output_type": "stream",
     "text": [
      "Enter number for day : 7\n",
      "Sunday\n"
     ]
    }
   ],
   "source": [
    "# week name \n",
    "\n",
    "week = int(input(\"Enter number for day : \"))\n",
    "\n",
    "if week == 1 :\n",
    "    print(\"Monday\")\n",
    "elif week == 2:\n",
    "    print(\"Tuesday\")\n",
    "elif week == 3:\n",
    "    print(\"Wednesday\")\n",
    "elif week == 4:\n",
    "    print(\"Thursday\")\n",
    "elif week == 5:\n",
    "    print(\"Friday\")\n",
    "elif week == 6:\n",
    "    print(\"Saturday\")\n",
    "elif week == 7:\n",
    "    print(\"Sunday\")\n",
    "else:\n",
    "    print(\"Enter beetwn 1 to 7\")"
   ]
  }
 ],
 "metadata": {
  "kernelspec": {
   "display_name": "Python 3 (ipykernel)",
   "language": "python",
   "name": "python3"
  },
  "language_info": {
   "codemirror_mode": {
    "name": "ipython",
    "version": 3
   },
   "file_extension": ".py",
   "mimetype": "text/x-python",
   "name": "python",
   "nbconvert_exporter": "python",
   "pygments_lexer": "ipython3",
   "version": "3.10.9"
  }
 },
 "nbformat": 4,
 "nbformat_minor": 5
}
