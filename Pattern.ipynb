{
 "cells": [
  {
   "cell_type": "code",
   "execution_count": 6,
   "id": "c6437fe6",
   "metadata": {
    "scrolled": true
   },
   "outputs": [
    {
     "name": "stdout",
     "output_type": "stream",
     "text": [
      "        * \n",
      "      * * \n",
      "    * * * \n",
      "  * * * * \n",
      "* * * * * \n"
     ]
    }
   ],
   "source": [
    "for i in range(1,6):\n",
    "    str1=\"* \"*i\n",
    "    print(str1.rjust(10))"
   ]
  },
  {
   "cell_type": "code",
   "execution_count": 7,
   "id": "9ef17c4a",
   "metadata": {
    "scrolled": true
   },
   "outputs": [
    {
     "name": "stdout",
     "output_type": "stream",
     "text": [
      "*         \n",
      "* *       \n",
      "* * *     \n",
      "* * * *   \n",
      "* * * * * \n"
     ]
    }
   ],
   "source": [
    "for i in range(1,6):\n",
    "    str1=\"* \"*i\n",
    "    print(str1.ljust(10))"
   ]
  },
  {
   "cell_type": "code",
   "execution_count": 8,
   "id": "e112e177",
   "metadata": {},
   "outputs": [
    {
     "name": "stdout",
     "output_type": "stream",
     "text": [
      "    *     \n",
      "   * *    \n",
      "  * * *   \n",
      " * * * *  \n",
      "* * * * * \n"
     ]
    }
   ],
   "source": [
    "for i in range(1,6):\n",
    "    str1=\"* \"*i\n",
    "    print(str1.center(10))"
   ]
  },
  {
   "cell_type": "code",
   "execution_count": 9,
   "id": "69328583",
   "metadata": {
    "scrolled": true
   },
   "outputs": [
    {
     "name": "stdout",
     "output_type": "stream",
     "text": [
      "* * * * * \n",
      "* * * *   \n",
      "* * *     \n",
      "* *       \n",
      "*         \n"
     ]
    }
   ],
   "source": [
    "for i in range(5,0,-1):\n",
    "    str1=\"* \"*i\n",
    "    print(str1.ljust(10))"
   ]
  },
  {
   "cell_type": "code",
   "execution_count": 10,
   "id": "6d2d43b2",
   "metadata": {},
   "outputs": [
    {
     "name": "stdout",
     "output_type": "stream",
     "text": [
      "  * * * * \n",
      "    * * * *\n",
      "      * * * *\n",
      "        * * * *\n",
      "          * * * *\n"
     ]
    }
   ],
   "source": [
    "for i in range(1,6):\n",
    "    str1=\"  \"*i+\"* * * *\"\n",
    "    print(str1.ljust(10))"
   ]
  },
  {
   "cell_type": "code",
   "execution_count": 11,
   "id": "dd47e78a",
   "metadata": {},
   "outputs": [
    {
     "name": "stdout",
     "output_type": "stream",
     "text": [
      "               *                \n",
      "              * *               \n",
      "             * * *              \n",
      "            * * * *             \n",
      "           * * * * *            \n",
      "          * * * * * *           \n",
      "         * * * * * * *          \n",
      "        * * * * * * * *         \n",
      "         * * * * * * *          \n",
      "          * * * * * *           \n",
      "           * * * * *            \n",
      "            * * * *             \n",
      "             * * *              \n",
      "              * *               \n",
      "               *                \n"
     ]
    }
   ],
   "source": [
    "for i in range(1,16):\n",
    "    if i<9:\n",
    "        str1=\"* \"*i\n",
    "        print(str1.center(32))\n",
    "    else:\n",
    "        str1=\"* \"*(16-i)\n",
    "        print(str1.center(32))\n",
    "        "
   ]
  },
  {
   "cell_type": "code",
   "execution_count": 24,
   "id": "8794f88d",
   "metadata": {},
   "outputs": [
    {
     "name": "stdout",
     "output_type": "stream",
     "text": [
      "           * * * * *            \n",
      "            * * * *             \n",
      "             * * *              \n",
      "              * *               \n",
      "               *                \n",
      "              * *               \n",
      "             * * *              \n",
      "            * * * *             \n",
      "           * * * * *            \n"
     ]
    }
   ],
   "source": [
    "for i in range(9,0,-1):\n",
    "    if i<6:\n",
    "        str1=\"* \"*(6-i)\n",
    "        print(str1.center(32))\n",
    "        \n",
    "    else:\n",
    "        str1=\"* \"*(i-4)\n",
    "        print(str1.center(32))\n",
    "        "
   ]
  },
  {
   "cell_type": "code",
   "execution_count": 3,
   "id": "c04753d3",
   "metadata": {},
   "outputs": [
    {
     "name": "stdout",
     "output_type": "stream",
     "text": [
      "* \n",
      "* \n",
      "* \n",
      "* \n",
      "* \n",
      "* \n",
      "* \n",
      "* \n",
      "* \n",
      "* \n"
     ]
    }
   ],
   "source": [
    "for i in range(1,11):\n",
    "    str1=\"* \"\n",
    "    print(str1)\n",
    "    "
   ]
  },
  {
   "cell_type": "code",
   "execution_count": 2,
   "id": "dabbe68b",
   "metadata": {},
   "outputs": [
    {
     "ename": "ModuleNotFoundError",
     "evalue": "No module named 'cv2'",
     "output_type": "error",
     "traceback": [
      "\u001b[1;31m---------------------------------------------------------------------------\u001b[0m",
      "\u001b[1;31mModuleNotFoundError\u001b[0m                       Traceback (most recent call last)",
      "Cell \u001b[1;32mIn[2], line 1\u001b[0m\n\u001b[1;32m----> 1\u001b[0m \u001b[38;5;28;01mimport\u001b[39;00m \u001b[38;5;21;01mcv2\u001b[39;00m\n\u001b[0;32m      3\u001b[0m \u001b[38;5;66;03m# Load the pre-trained face detection model\u001b[39;00m\n\u001b[0;32m      4\u001b[0m face_cascade \u001b[38;5;241m=\u001b[39m cv2\u001b[38;5;241m.\u001b[39mCascadeClassifier(cv2\u001b[38;5;241m.\u001b[39mdata\u001b[38;5;241m.\u001b[39mhaarcascades \u001b[38;5;241m+\u001b[39m \u001b[38;5;124m'\u001b[39m\u001b[38;5;124mhaarcascade_frontalface_default.xml\u001b[39m\u001b[38;5;124m'\u001b[39m)\n",
      "\u001b[1;31mModuleNotFoundError\u001b[0m: No module named 'cv2'"
     ]
    }
   ],
   "source": [
    "import cv2\n",
    "\n",
    "# Load the pre-trained face detection model\n",
    "face_cascade = cv2.CascadeClassifier(cv2.data.haarcascades + 'haarcascade_frontalface_default.xml')\n",
    "\n",
    "# Load the image\n",
    "image = cv2.imread('https://media.gettyimages.com/id/1179420343/photo/smiling-man-outdoors-in-the-city.jpg?s=612x612&w=gi&k=20&c=n663L5A4XlwcUvNpX_eu4ur1sMmrD6dt_c1mbWjrLXk=')\n",
    "\n",
    "# Convert the image to grayscale\n",
    "gray = cv2.cvtColor(image, cv2.COLOR_BGR2GRAY)\n",
    "\n",
    "# Perform face detection\n",
    "faces = face_cascade.detectMultiScale(gray, scaleFactor=1.1, minNeighbors=5, minSize=(30, 30))\n",
    "\n",
    "# Draw rectangles around the detected faces\n",
    "for (x, y, w, h) in faces:\n",
    "    cv2.rectangle(image, (x, y), (x+w, y+h), (0, 255, 0), 2)\n",
    "\n",
    "# Display the image with detected faces\n",
    "cv2.imshow('Faces', image)\n",
    "cv2.waitKey(0)\n",
    "cv2.destroyAllWindows()"
   ]
  }
 ],
 "metadata": {
  "kernelspec": {
   "display_name": "Python 3 (ipykernel)",
   "language": "python",
   "name": "python3"
  },
  "language_info": {
   "codemirror_mode": {
    "name": "ipython",
    "version": 3
   },
   "file_extension": ".py",
   "mimetype": "text/x-python",
   "name": "python",
   "nbconvert_exporter": "python",
   "pygments_lexer": "ipython3",
   "version": "3.10.9"
  }
 },
 "nbformat": 4,
 "nbformat_minor": 5
}
