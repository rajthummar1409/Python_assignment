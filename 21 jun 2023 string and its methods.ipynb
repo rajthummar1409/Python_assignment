{
 "cells": [
  {
   "cell_type": "code",
   "execution_count": 1,
   "id": "3a9aa1ae",
   "metadata": {},
   "outputs": [],
   "source": [
    "#String is an immutable datatype \n",
    "#immutable mens ----not changable change not allowed\n",
    "#string is defined in '' , \"\" , '''''' , \"\"\"\"\"\"\n",
    "#string is orderd datatype -----\n",
    "#every element has its index number ---- start from 0"
   ]
  },
  {
   "cell_type": "code",
   "execution_count": 2,
   "id": "2fed7710",
   "metadata": {},
   "outputs": [],
   "source": [
    "#single line string\n",
    "a = \" hello worls\"\n"
   ]
  },
  {
   "cell_type": "code",
   "execution_count": 3,
   "id": "c9779036",
   "metadata": {},
   "outputs": [],
   "source": [
    "#multi line string\n",
    "\n",
    "a = \"\"\"Hello world\"\"\""
   ]
  },
  {
   "cell_type": "code",
   "execution_count": 4,
   "id": "6563aca7",
   "metadata": {},
   "outputs": [
    {
     "name": "stdout",
     "output_type": "stream",
     "text": [
      "y\n",
      "Arpit\n",
      "tiprA\n",
      "developer\n"
     ]
    }
   ],
   "source": [
    "#Methods of string\n",
    "\n",
    "#slicing\n",
    "\n",
    "str = \"My Name is Arpit Thummar, I am from surat, i have to becom a full stack developer\"\n",
    "\n",
    "print(str[1])\n",
    "print(str[11:16])\n",
    "print(str[15:10:-1])\n",
    "print(str[-9:])\n",
    "\n",
    "\n"
   ]
  },
  {
   "cell_type": "code",
   "execution_count": 5,
   "id": "6dee799b",
   "metadata": {},
   "outputs": [
    {
     "data": {
      "text/plain": [
       "'My name is arpit thummar, i am from surat, i have to becom a full stack developer'"
      ]
     },
     "execution_count": 5,
     "metadata": {},
     "output_type": "execute_result"
    }
   ],
   "source": [
    "#capitalize() ----- Capitalize first letter of string\n",
    "\n",
    "\n",
    "str.capitalize()"
   ]
  },
  {
   "cell_type": "code",
   "execution_count": 6,
   "id": "2725fa11",
   "metadata": {},
   "outputs": [
    {
     "data": {
      "text/plain": [
       "'My Name Is Arpit Thummar, I Am From Surat, I Have To Becom A Full Stack Developer'"
      ]
     },
     "execution_count": 6,
     "metadata": {},
     "output_type": "execute_result"
    }
   ],
   "source": [
    "#  title() ------ Capitalize first letter of every word in string\n",
    "\n",
    "str.title()"
   ]
  },
  {
   "cell_type": "code",
   "execution_count": 7,
   "id": "7a8b8694",
   "metadata": {},
   "outputs": [
    {
     "name": "stdout",
     "output_type": "stream",
     "text": [
      "81\n"
     ]
    }
   ],
   "source": [
    "#len() ----- for find the length of string\n",
    "\n",
    "print(len(str))"
   ]
  },
  {
   "cell_type": "code",
   "execution_count": 8,
   "id": "d4511a86",
   "metadata": {},
   "outputs": [
    {
     "data": {
      "text/plain": [
       "'my name is arpit thummar, i am from surat, i have to becom a full stack developer'"
      ]
     },
     "execution_count": 8,
     "metadata": {},
     "output_type": "execute_result"
    }
   ],
   "source": [
    "#casefold() ---- convert uppercase into lowercase include all lenguage leatter \n",
    "\n",
    "\n",
    "str.casefold()"
   ]
  },
  {
   "cell_type": "code",
   "execution_count": 9,
   "id": "649d1be2",
   "metadata": {},
   "outputs": [
    {
     "data": {
      "text/plain": [
       "'my name is arpit thummar, i am from surat, i have to becom a full stack developer'"
      ]
     },
     "execution_count": 9,
     "metadata": {},
     "output_type": "execute_result"
    }
   ],
   "source": [
    "#lower() ---- convert uppercase into lowercase only english alfabates\n",
    "\n",
    "str.lower()"
   ]
  },
  {
   "cell_type": "code",
   "execution_count": 10,
   "id": "e1a71a44",
   "metadata": {},
   "outputs": [
    {
     "data": {
      "text/plain": [
       "'---------My Name is Arpit Thummar, I am from surat, i have to becom a full stack developer----------'"
      ]
     },
     "execution_count": 10,
     "metadata": {},
     "output_type": "execute_result"
    }
   ],
   "source": [
    "# center(with,\"charecter\") ------ center the string\n",
    "\n",
    "str.center(100 , \"-\")"
   ]
  },
  {
   "cell_type": "code",
   "execution_count": 11,
   "id": "a4a03c2d",
   "metadata": {},
   "outputs": [
    {
     "data": {
      "text/plain": [
       "'My Name is Arpit Thummar, I am from surat, i have to becom a full stack developer-------------------'"
      ]
     },
     "execution_count": 11,
     "metadata": {},
     "output_type": "execute_result"
    }
   ],
   "source": [
    "#ljust(with,\"charecter\") ------ left justify the string (remover left space)\n",
    "\n",
    "str.ljust(100 , \"-\")"
   ]
  },
  {
   "cell_type": "code",
   "execution_count": 12,
   "id": "4b7846e2",
   "metadata": {},
   "outputs": [
    {
     "data": {
      "text/plain": [
       "'-------------------My Name is Arpit Thummar, I am from surat, i have to becom a full stack developer'"
      ]
     },
     "execution_count": 12,
     "metadata": {},
     "output_type": "execute_result"
    }
   ],
   "source": [
    "#rjust(with,\"charecter\") ------ right justify the string (remover right space)\n",
    "\n",
    "str.rjust(100 , \"-\")"
   ]
  },
  {
   "cell_type": "code",
   "execution_count": 13,
   "id": "9fc606d7",
   "metadata": {},
   "outputs": [
    {
     "data": {
      "text/plain": [
       "'arpit'"
      ]
     },
     "execution_count": 13,
     "metadata": {},
     "output_type": "execute_result"
    }
   ],
   "source": [
    "#strip() ----- remove extra space in string\n",
    "str = \"     arpit     \"\n",
    "str.strip()"
   ]
  },
  {
   "cell_type": "code",
   "execution_count": 14,
   "id": "9b56863b",
   "metadata": {},
   "outputs": [
    {
     "data": {
      "text/plain": [
       "'     arpit'"
      ]
     },
     "execution_count": 14,
     "metadata": {},
     "output_type": "execute_result"
    }
   ],
   "source": [
    "#rstrip() ------- remove extra space from right\n",
    "str = \"     arpit     \"\n",
    "str.rstrip()"
   ]
  },
  {
   "cell_type": "code",
   "execution_count": 15,
   "id": "100ce5fd",
   "metadata": {},
   "outputs": [
    {
     "data": {
      "text/plain": [
       "'arpit     '"
      ]
     },
     "execution_count": 15,
     "metadata": {},
     "output_type": "execute_result"
    }
   ],
   "source": [
    "#lstrip() ------- remove extra space from left\n",
    "str = \"     arpit     \"\n",
    "str.lstrip()"
   ]
  },
  {
   "cell_type": "code",
   "execution_count": 16,
   "id": "96489fe8",
   "metadata": {},
   "outputs": [
    {
     "data": {
      "text/plain": [
       "1"
      ]
     },
     "execution_count": 16,
     "metadata": {},
     "output_type": "execute_result"
    }
   ],
   "source": [
    "# count(substring,[startindex],[stopindex])--counts the substring in string\n",
    "str.count(\"arpit\")"
   ]
  },
  {
   "cell_type": "code",
   "execution_count": 1,
   "id": "8f113460",
   "metadata": {},
   "outputs": [
    {
     "ename": "TypeError",
     "evalue": "index() takes at least 1 argument (0 given)",
     "output_type": "error",
     "traceback": [
      "\u001b[1;31m---------------------------------------------------------------------------\u001b[0m",
      "\u001b[1;31mTypeError\u001b[0m                                 Traceback (most recent call last)",
      "Cell \u001b[1;32mIn[1], line 3\u001b[0m\n\u001b[0;32m      1\u001b[0m \u001b[38;5;66;03m# index(substring,[startindex],[stopindex])---give index of substring in string\u001b[39;00m\n\u001b[1;32m----> 3\u001b[0m \u001b[38;5;28;43mstr\u001b[39;49m\u001b[38;5;241;43m.\u001b[39;49m\u001b[43mindex\u001b[49m\u001b[43m(\u001b[49m\u001b[38;5;124;43m\"\u001b[39;49m\u001b[38;5;124;43marpit\u001b[39;49m\u001b[38;5;124;43m\"\u001b[39;49m\u001b[43m)\u001b[49m\n",
      "\u001b[1;31mTypeError\u001b[0m: index() takes at least 1 argument (0 given)"
     ]
    }
   ],
   "source": [
    "# index(substring,[startindex],[stopindex])---give index of substring in string\n",
    "\n",
    "str.index(\"arpit\")\n",
    "\n",
    "# --- if sunstring not found gives valueeror "
   ]
  },
  {
   "cell_type": "code",
   "execution_count": 17,
   "id": "44ec59e6",
   "metadata": {},
   "outputs": [
    {
     "name": "stdout",
     "output_type": "stream",
     "text": [
      "arpit /n\n"
     ]
    }
   ],
   "source": [
    "# r is for a row string \n",
    "str = r\"arpit /n\"\n",
    "print(str)"
   ]
  },
  {
   "cell_type": "code",
   "execution_count": 2,
   "id": "7e8289b8",
   "metadata": {},
   "outputs": [
    {
     "data": {
      "text/plain": [
       "-1"
      ]
     },
     "execution_count": 2,
     "metadata": {},
     "output_type": "execute_result"
    }
   ],
   "source": [
    "#find()\n",
    "\n",
    "str = \"My Name is Arpit Thummar, I am from surat, i have to becom a full stack developer\"\n",
    "str.find(\"a\",10,15)\n",
    "\n",
    "#when sunstring not found \n",
    "# it gives -1 but not gives error"
   ]
  },
  {
   "cell_type": "code",
   "execution_count": 4,
   "id": "9a6a8e3d",
   "metadata": {},
   "outputs": [
    {
     "data": {
      "text/plain": [
       "('My Name is Arpit Thummar, ',\n",
       " 'I am from surat',\n",
       " ', i have to becom a full stack developer')"
      ]
     },
     "execution_count": 4,
     "metadata": {},
     "output_type": "execute_result"
    }
   ],
   "source": [
    "# partition(substring)---return tuple having 3 string 1--left of substring\n",
    "# 2---substing itself\n",
    "# 3---right of substring\n",
    "\n",
    "str = \"My Name is Arpit Thummar, I am from surat, i have to becom a full stack developer\"\n",
    "str.partition(\"I am from surat\")"
   ]
  },
  {
   "cell_type": "code",
   "execution_count": 11,
   "id": "01cfd5da",
   "metadata": {},
   "outputs": [
    {
     "data": {
      "text/plain": [
       "False"
      ]
     },
     "execution_count": 11,
     "metadata": {},
     "output_type": "execute_result"
    }
   ],
   "source": [
    "# endswith(susbtring[startindex][stopindex]) ----- find string end \n",
    "\n",
    "str = \"My Name is Arpit Thummar, I am from surat, i have to becom a full stack developer\"\n",
    "str.endswith(\"Arpit\",5,12)"
   ]
  },
  {
   "cell_type": "code",
   "execution_count": 25,
   "id": "ea874391",
   "metadata": {},
   "outputs": [
    {
     "data": {
      "text/plain": [
       "True"
      ]
     },
     "execution_count": 25,
     "metadata": {},
     "output_type": "execute_result"
    }
   ],
   "source": [
    "# startswith(susbtring[startindex][stopindex]) ----- find string start \n",
    "\n",
    "str = \"My Name is Arpit Thummar, I am from surat, i have to becom a full stack developer\"\n",
    "str.startswith(\"My\")"
   ]
  },
  {
   "cell_type": "code",
   "execution_count": 18,
   "id": "30d08db9",
   "metadata": {},
   "outputs": [
    {
     "name": "stdout",
     "output_type": "stream",
     "text": [
      "My Name is Arpit Thummar, \tI am from surat, i have to becom a full stack developer\n",
      "My Name is Arpit Thummar,                         I am from surat, i have to becom a full stack developer\n"
     ]
    }
   ],
   "source": [
    "#expandtabs() ----- expand the tabe space\n",
    "\n",
    "str = \"My Name is Arpit Thummar, \\tI am from surat, i have to becom a full stack developer\"\n",
    "print(str)\n",
    "print(str.expandtabs(50))"
   ]
  },
  {
   "cell_type": "code",
   "execution_count": 19,
   "id": "c3d247bf",
   "metadata": {},
   "outputs": [
    {
     "data": {
      "text/plain": [
       "'MY NAME IS ARPIT THUMMAR, \\tI AM FROM SURAT, I HAVE TO BECOM A FULL STACK DEVELOPER'"
      ]
     },
     "execution_count": 19,
     "metadata": {},
     "output_type": "execute_result"
    }
   ],
   "source": [
    "#upper() --- convert lower case in upper case\n",
    "\n",
    "str = \"My Name is Arpit Thummar, I am from surat, i have to becom a full stack developer\"\n",
    "str.upper()"
   ]
  },
  {
   "cell_type": "code",
   "execution_count": 20,
   "id": "9ce1f024",
   "metadata": {},
   "outputs": [
    {
     "data": {
      "text/plain": [
       "'my name is arpit thummar, i am from surat, i have to becom a full stack developer'"
      ]
     },
     "execution_count": 20,
     "metadata": {},
     "output_type": "execute_result"
    }
   ],
   "source": [
    "#lower() --- convert upper case in lower case\n",
    "\n",
    "str = \"My Name is Arpit Thummar, I am from surat, i have to becom a full stack developer\"\n",
    "str.lower()"
   ]
  },
  {
   "cell_type": "code",
   "execution_count": 21,
   "id": "121b3274",
   "metadata": {},
   "outputs": [
    {
     "data": {
      "text/plain": [
       "'mY nAME IS aRPIT tHUMMAR, i AM FROM SURAT, I HAVE TO BECOM A FULL STACK DEVELOPER'"
      ]
     },
     "execution_count": 21,
     "metadata": {},
     "output_type": "execute_result"
    }
   ],
   "source": [
    "#swapcase() --- convert upper case in lower case and lower case in upper case\n",
    "\n",
    "str = \"My Name is Arpit Thummar, I am from surat, i have to becom a full stack developer\"\n",
    "str.swapcase()"
   ]
  },
  {
   "cell_type": "code",
   "execution_count": 3,
   "id": "02277389",
   "metadata": {},
   "outputs": [
    {
     "data": {
      "text/plain": [
       "['My',\n",
       " 'Name',\n",
       " 'is',\n",
       " 'Arpit',\n",
       " 'Thummar,',\n",
       " 'I',\n",
       " 'am',\n",
       " 'from',\n",
       " 'surat,',\n",
       " 'i',\n",
       " 'have',\n",
       " 'to',\n",
       " 'becom',\n",
       " 'a',\n",
       " 'full',\n",
       " 'stack',\n",
       " 'developer']"
      ]
     },
     "execution_count": 3,
     "metadata": {},
     "output_type": "execute_result"
    }
   ],
   "source": [
    "# spilt(\"substring\")---gives list of string from given separator\n",
    "str = \"My Name is Arpit Thummar, I am from surat, i have to becom a full stack developer\"\n",
    "str.split(\" \")"
   ]
  },
  {
   "cell_type": "code",
   "execution_count": 34,
   "id": "8c9c51ef",
   "metadata": {},
   "outputs": [
    {
     "name": "stdout",
     "output_type": "stream",
     "text": [
      "['My Name is Arpit Thummar,', ' I am from surat,', ' i have to becom a full stack developer']\n",
      "['My Name is Arpit Thummar, ', 'I am from surat, ', 'I have to becom a full stack developer']\n"
     ]
    }
   ],
   "source": [
    "#splitlines()\n",
    "\n",
    "str = \"My Name is Arpit Thummar,\\n I am from surat,\\n i have to becom a full stack developer\"\n",
    "\n",
    "str1 = \"\"\"My Name is Arpit Thummar, \n",
    "I am from surat, \n",
    "I have to becom a full stack developer\"\"\"\n",
    "\n",
    "print(str.splitlines())\n",
    "print(str1.splitlines())"
   ]
  },
  {
   "cell_type": "code",
   "execution_count": 35,
   "id": "897a71fe",
   "metadata": {},
   "outputs": [
    {
     "data": {
      "text/plain": [
       "'00000000000000000000000000000000000000000000000000000000000000ergbfh ehvberjhver'"
      ]
     },
     "execution_count": 35,
     "metadata": {},
     "output_type": "execute_result"
    }
   ],
   "source": [
    "#zfill()------ fill the 0 to left of the string \n",
    "str1=\"ergbfh ehvberjhver\"\n",
    "str1.zfill(80)"
   ]
  },
  {
   "cell_type": "code",
   "execution_count": 2,
   "id": "e07d86de",
   "metadata": {},
   "outputs": [
    {
     "name": "stdout",
     "output_type": "stream",
     "text": [
      "Heoot Sam!\n"
     ]
    }
   ],
   "source": [
    "txt = \"Hello Sam!\"\n",
    "mytable = str.maketrans(\"rtyluiop\", \"opeoirty\")\n",
    "print(txt.translate(mytable))"
   ]
  },
  {
   "cell_type": "code",
   "execution_count": null,
   "id": "51dc9691",
   "metadata": {},
   "outputs": [],
   "source": [
    "txt = \"Hello Sam!\"\n",
    "txt.replace(\"ergr\",\"P\")"
   ]
  },
  {
   "cell_type": "code",
   "execution_count": 1,
   "id": "99d7747a",
   "metadata": {},
   "outputs": [
    {
     "data": {
      "text/plain": [
       "True"
      ]
     },
     "execution_count": 1,
     "metadata": {},
     "output_type": "execute_result"
    }
   ],
   "source": [
    "str1=\"erre78897brg\"\n",
    "str1.isalnum()"
   ]
  },
  {
   "cell_type": "code",
   "execution_count": null,
   "id": "50390ff4",
   "metadata": {},
   "outputs": [],
   "source": [
    "str1=\"errervgfer\"\n",
    "str1.isalpha()"
   ]
  },
  {
   "cell_type": "code",
   "execution_count": null,
   "id": "52f004f3",
   "metadata": {},
   "outputs": [],
   "source": [
    "str1=\"Rf ß 3rgf3r\"\n",
    "str1.isascii() \n",
    "#che3ck every csharacter in stri ng has its ascii value"
   ]
  },
  {
   "cell_type": "code",
   "execution_count": null,
   "id": "7c36d61b",
   "metadata": {},
   "outputs": [],
   "source": [
    "str1=\"6854.685874\"\n",
    "print(str1.isnumeric())\n",
    "print(str1.isdigit())\n",
    "print(str1.isdecimal())"
   ]
  },
  {
   "cell_type": "code",
   "execution_count": null,
   "id": "1139fbf9",
   "metadata": {},
   "outputs": [],
   "source": [
    " str1=\"_8eerer-gerg\"\n",
    "str1.isidentifier()"
   ]
  },
  {
   "cell_type": "code",
   "execution_count": null,
   "id": "394549c9",
   "metadata": {},
   "outputs": [],
   "source": [
    "str1=\"g rgertg\"\n",
    "str1.islower()"
   ]
  },
  {
   "cell_type": "code",
   "execution_count": null,
   "id": "0c271bf1",
   "metadata": {},
   "outputs": [],
   "source": [
    "str1=\"R HIFKLIOWSF\"\n",
    "str1.isupper()"
   ]
  },
  {
   "cell_type": "code",
   "execution_count": null,
   "id": "c04b9b33",
   "metadata": {},
   "outputs": [],
   "source": [
    "str1=r\"jetgc \\n nerjbr\"\n",
    "print(str1)\n",
    "str1.isprintable()"
   ]
  },
  {
   "cell_type": "code",
   "execution_count": null,
   "id": "83f3c1a3",
   "metadata": {},
   "outputs": [],
   "source": [
    "str1=\" \"\n",
    "str1.isspace()"
   ]
  },
  {
   "cell_type": "code",
   "execution_count": null,
   "id": "5c5599fc",
   "metadata": {},
   "outputs": [],
   "source": [
    "str1=\"erer tur eegve\"\n",
    "str1.removeprefix(\"tur\")\n",
    "str1.removesuffix(\"tur\")"
   ]
  },
  {
   "cell_type": "code",
   "execution_count": null,
   "id": "bcda65fa",
   "metadata": {},
   "outputs": [],
   "source": [
    "str1=\"wrfer rvgerd\"\n",
    "str1.replace(\"rvg\",\"\")"
   ]
  }
 ],
 "metadata": {
  "kernelspec": {
   "display_name": "Python 3 (ipykernel)",
   "language": "python",
   "name": "python3"
  },
  "language_info": {
   "codemirror_mode": {
    "name": "ipython",
    "version": 3
   },
   "file_extension": ".py",
   "mimetype": "text/x-python",
   "name": "python",
   "nbconvert_exporter": "python",
   "pygments_lexer": "ipython3",
   "version": "3.10.9"
  }
 },
 "nbformat": 4,
 "nbformat_minor": 5
}
