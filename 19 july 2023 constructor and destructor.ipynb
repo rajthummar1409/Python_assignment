{
 "cells": [
  {
   "cell_type": "code",
   "execution_count": null,
   "id": "3f02e463",
   "metadata": {},
   "outputs": [],
   "source": [
    "#  Constructor"
   ]
  },
  {
   "cell_type": "code",
   "execution_count": null,
   "id": "6e0dfe48",
   "metadata": {},
   "outputs": [],
   "source": [
    "constructor----\n",
    "it is a special method\n",
    "\n",
    "constructor name is __init__(self)\n",
    "constrcutor will be called automatically when object is defined\n",
    "constructor never return anything\n",
    "\n",
    "constructor is used for initialization\n",
    "when we have to do any task compulsorily then we use constructor"
   ]
  },
  {
   "cell_type": "code",
   "execution_count": null,
   "id": "28c6d346",
   "metadata": {},
   "outputs": [],
   "source": [
    "destructor __del__"
   ]
  },
  {
   "cell_type": "code",
   "execution_count": null,
   "id": "befb62bf",
   "metadata": {},
   "outputs": [],
   "source": []
  },
  {
   "cell_type": "code",
   "execution_count": null,
   "id": "9ec8726d",
   "metadata": {},
   "outputs": [],
   "source": []
  },
  {
   "cell_type": "code",
   "execution_count": null,
   "id": "d5af58a2",
   "metadata": {},
   "outputs": [],
   "source": []
  }
 ],
 "metadata": {
  "kernelspec": {
   "display_name": "Python 3 (ipykernel)",
   "language": "python",
   "name": "python3"
  },
  "language_info": {
   "codemirror_mode": {
    "name": "ipython",
    "version": 3
   },
   "file_extension": ".py",
   "mimetype": "text/x-python",
   "name": "python",
   "nbconvert_exporter": "python",
   "pygments_lexer": "ipython3",
   "version": "3.10.9"
  }
 },
 "nbformat": 4,
 "nbformat_minor": 5
}
