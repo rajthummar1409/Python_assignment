{
 "cells": [
  {
   "cell_type": "code",
   "execution_count": null,
   "id": "521e24bd",
   "metadata": {},
   "outputs": [],
   "source": [
    "# loop \n",
    "# For loop iterables---collection\n",
    "# While Loop ---condition"
   ]
  },
  {
   "cell_type": "code",
   "execution_count": null,
   "id": "79f9d16b",
   "metadata": {},
   "outputs": [],
   "source": [
    "# range([start],stop[,step])\n",
    "by default start point is 0\n",
    "by deafult step point is 1\n",
    "range(1,6,2)"
   ]
  },
  {
   "cell_type": "code",
   "execution_count": null,
   "id": "68512cb3",
   "metadata": {},
   "outputs": [],
   "source": [
    "print(range(1,10))"
   ]
  },
  {
   "cell_type": "code",
   "execution_count": null,
   "id": "54678919",
   "metadata": {},
   "outputs": [],
   "source": [
    "for i in \"Hello\":\n",
    "    print(i)"
   ]
  },
  {
   "cell_type": "code",
   "execution_count": null,
   "id": "71ef043b",
   "metadata": {},
   "outputs": [],
   "source": [
    "for i in range(200,221):\n",
    "    print(\"Hello\",i)"
   ]
  },
  {
   "cell_type": "code",
   "execution_count": null,
   "id": "d557e1f4",
   "metadata": {},
   "outputs": [],
   "source": [
    "# for i in range(-9,3):\n",
    "#     print(i)\n",
    "range(1,5,1)"
   ]
  },
  {
   "cell_type": "code",
   "execution_count": null,
   "id": "aaf0701d",
   "metadata": {},
   "outputs": [],
   "source": [
    "-8 -7 -6 -5 -4 -3 -2 -1 0 1 2 3 4 5 6 7 8 9 \n",
    "step positive direction left to right\n",
    "step negative direction right to left"
   ]
  },
  {
   "cell_type": "code",
   "execution_count": null,
   "id": "07b72b84",
   "metadata": {},
   "outputs": [],
   "source": [
    "for i in range(6,-6,-1):\n",
    "    print(i)"
   ]
  },
  {
   "cell_type": "code",
   "execution_count": null,
   "id": "3ef15e9b",
   "metadata": {},
   "outputs": [],
   "source": [
    "# while loop\n",
    "while condition:\n",
    "    code"
   ]
  },
  {
   "cell_type": "code",
   "execution_count": null,
   "id": "317b1b93",
   "metadata": {},
   "outputs": [],
   "source": [
    "a=10\n",
    "while a>5:\n",
    "    print(\"WOW\",a)\n",
    "    a-=1"
   ]
  },
  {
   "cell_type": "code",
   "execution_count": null,
   "id": "a7d89d2d",
   "metadata": {},
   "outputs": [],
   "source": [
    "for j in range(1,5):\n",
    "    for i in range(1,11):\n",
    "        print(\"hello World\")\n",
    "        \n",
    "0 1 1 2 3 5 8 13"
   ]
  },
  {
   "cell_type": "code",
   "execution_count": 5,
   "id": "07abadba",
   "metadata": {
    "scrolled": true
   },
   "outputs": [
    {
     "name": "stdout",
     "output_type": "stream",
     "text": [
      "1 * 1 = 1\n",
      "1 * 2 = 2\n",
      "1 * 3 = 3\n",
      "1 * 4 = 4\n",
      "1 * 5 = 5\n",
      "1 * 6 = 6\n",
      "1 * 7 = 7\n",
      "1 * 8 = 8\n",
      "1 * 9 = 9\n",
      "1 * 10 = 10\n"
     ]
    }
   ],
   "source": [
    "n = 1\n",
    "for i in range(1,11):\n",
    "    \n",
    "    print(f\"{n} * {i} = {n*i}\")"
   ]
  },
  {
   "cell_type": "code",
   "execution_count": 7,
   "id": "6217c117",
   "metadata": {},
   "outputs": [
    {
     "name": "stdout",
     "output_type": "stream",
     "text": [
      "Enter number9\n",
      "9 * 1 = 9\n",
      "9 * 2 = 18\n",
      "9 * 3 = 27\n",
      "9 * 4 = 36\n",
      "9 * 5 = 45\n",
      "9 * 6 = 54\n",
      "9 * 7 = 63\n",
      "9 * 8 = 72\n",
      "9 * 9 = 81\n",
      "9 * 10 = 90\n"
     ]
    }
   ],
   "source": [
    "user = int(input(\"Enter number : \"))\n",
    "for i in range(1,11):\n",
    "    print(f\"{user} * {i} = {user*i}\")"
   ]
  },
  {
   "cell_type": "code",
   "execution_count": 32,
   "id": "4db44cb2",
   "metadata": {},
   "outputs": [
    {
     "name": "stdout",
     "output_type": "stream",
     "text": [
      "Enter number :6\n",
      "factorial of 6 is 720\n"
     ]
    }
   ],
   "source": [
    "num = int(input(\"Enter number :\"))\n",
    "fact = 1\n",
    "for i in range(fact,num + 1):\n",
    "    fact=fact*i\n",
    "    \n",
    "print(f\"factorial of {num} is {fact}\")\n",
    "\n",
    "    \n",
    "    \n"
   ]
  },
  {
   "cell_type": "code",
   "execution_count": null,
   "id": "6c3ecf77",
   "metadata": {},
   "outputs": [],
   "source": []
  }
 ],
 "metadata": {
  "kernelspec": {
   "display_name": "Python 3 (ipykernel)",
   "language": "python",
   "name": "python3"
  },
  "language_info": {
   "codemirror_mode": {
    "name": "ipython",
    "version": 3
   },
   "file_extension": ".py",
   "mimetype": "text/x-python",
   "name": "python",
   "nbconvert_exporter": "python",
   "pygments_lexer": "ipython3",
   "version": "3.10.9"
  }
 },
 "nbformat": 4,
 "nbformat_minor": 5
}
