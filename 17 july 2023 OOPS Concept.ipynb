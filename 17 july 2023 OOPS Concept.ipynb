{
 "cells": [
  {
   "cell_type": "code",
   "execution_count": 1,
   "id": "dc3a1175",
   "metadata": {},
   "outputs": [
    {
     "name": "stdout",
     "output_type": "stream",
     "text": [
      "Requirement already satisfied: requests in c:\\programdata\\anaconda3\\lib\\site-packages (2.28.1)\n",
      "Requirement already satisfied: certifi>=2017.4.17 in c:\\programdata\\anaconda3\\lib\\site-packages (from requests) (2023.5.7)\n",
      "Requirement already satisfied: urllib3<1.27,>=1.21.1 in c:\\programdata\\anaconda3\\lib\\site-packages (from requests) (1.26.14)\n",
      "Requirement already satisfied: charset-normalizer<3,>=2 in c:\\programdata\\anaconda3\\lib\\site-packages (from requests) (2.0.4)\n",
      "Requirement already satisfied: idna<4,>=2.5 in c:\\programdata\\anaconda3\\lib\\site-packages (from requests) (3.4)\n",
      "Note: you may need to restart the kernel to use updated packages.\n"
     ]
    }
   ],
   "source": [
    "pip install requests"
   ]
  },
  {
   "cell_type": "code",
   "execution_count": null,
   "id": "5825709b",
   "metadata": {},
   "outputs": [],
   "source": [
    "# OOPS\n",
    "# Object Orineted Programming"
   ]
  },
  {
   "cell_type": "code",
   "execution_count": null,
   "id": "c943b0fc",
   "metadata": {},
   "outputs": [],
   "source": [
    "class\n",
    "object\n",
    "constructor ----- function \n",
    "destructor\n",
    "encapsulation\n",
    "inheritance\n",
    "polymorphism"
   ]
  },
  {
   "cell_type": "code",
   "execution_count": null,
   "id": "6cde1a69",
   "metadata": {},
   "outputs": [],
   "source": [
    "class\n",
    "\n",
    "variables---data mebers---attribute of class\n",
    "function---methods--behvaiour of class----member function\n",
    "len()\n",
    "\n",
    "stringname.methods"
   ]
  },
  {
   "cell_type": "code",
   "execution_count": null,
   "id": "8cb308d4",
   "metadata": {},
   "outputs": [],
   "source": [
    "class classname:\n",
    "    data members\n",
    "    methods"
   ]
  },
  {
   "cell_type": "code",
   "execution_count": null,
   "id": "befa0d12",
   "metadata": {},
   "outputs": [],
   "source": [
    "# object"
   ]
  },
  {
   "cell_type": "code",
   "execution_count": null,
   "id": "c9f9e6ab",
   "metadata": {},
   "outputs": [],
   "source": [
    "a=\"rthrth\"\n",
    "b=98\n",
    "print(type(a))\n",
    "a@b"
   ]
  },
  {
   "cell_type": "code",
   "execution_count": null,
   "id": "05e574ea",
   "metadata": {},
   "outputs": [],
   "source": [
    "len(list1)\n",
    "list1=[45,36,58]\n",
    "list1.append()"
   ]
  },
  {
   "cell_type": "code",
   "execution_count": null,
   "id": "e5c3f4b5",
   "metadata": {},
   "outputs": [],
   "source": [
    "class student:\n",
    "    def __init__(self): #constructor\n",
    "        self.name=None\n",
    "        self.age=None\n",
    "        \n",
    "    def getdata(self):\n",
    "        self.name=input(\"Enter NAme: \")\n",
    "        self.age=int(input(\"Enter Age: \"))\n",
    "        print(id(self))\n",
    "    def showdata(self):\n",
    "        print(f\"name={self.name},age={self.age}\")\n",
    "        \n",
    "s1=student()\n",
    "s2=student()\n",
    "s3=student()\n",
    "s1.getdata()\n",
    "print(id(s1))\n",
    "s2.getdata()\n",
    "print(id(s2))\n",
    "# s2.showdata()\n",
    "# s1.showdata()"
   ]
  },
  {
   "cell_type": "code",
   "execution_count": null,
   "id": "7f554ae5",
   "metadata": {},
   "outputs": [],
   "source": [
    "str1=\"rfgvnjv\"\n",
    "str1.append()"
   ]
  },
  {
   "cell_type": "code",
   "execution_count": null,
   "id": "4b32a4be",
   "metadata": {},
   "outputs": [],
   "source": []
  },
  {
   "cell_type": "code",
   "execution_count": null,
   "id": "6c1c63cf",
   "metadata": {},
   "outputs": [],
   "source": []
  },
  {
   "cell_type": "code",
   "execution_count": null,
   "id": "96694778",
   "metadata": {},
   "outputs": [],
   "source": []
  }
 ],
 "metadata": {
  "kernelspec": {
   "display_name": "Python 3 (ipykernel)",
   "language": "python",
   "name": "python3"
  },
  "language_info": {
   "codemirror_mode": {
    "name": "ipython",
    "version": 3
   },
   "file_extension": ".py",
   "mimetype": "text/x-python",
   "name": "python",
   "nbconvert_exporter": "python",
   "pygments_lexer": "ipython3",
   "version": "3.10.9"
  }
 },
 "nbformat": 4,
 "nbformat_minor": 5
}
