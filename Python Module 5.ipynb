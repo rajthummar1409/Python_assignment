{
 "cells": [
  {
   "cell_type": "code",
   "execution_count": null,
   "id": "09a76143",
   "metadata": {},
   "outputs": [],
   "source": [
    "# Q-1:Why Django should be used for web-development? Explain how you can create a project in Django?\n",
    "\n",
    "# ans:\n",
    "\n",
    "# Python is a powerful high-level programming language that can be possibly used in a lot of fields. \n",
    "# Django is a full-stack web framework that is open-sourced and follows an MVT (Model View Template) type of architecture.\n",
    "\n",
    "# It allows you to divide code modules into logical groups to make it flexible to change\n",
    "# To ease the website administration, it provides auto-generated web admin\n",
    "# It provides pre-packaged API for common user tasks\n",
    "# It gives you template system to define HTML template for your web page to avoid code duplication\n",
    "# It enables you to define what URL be for a given function\n",
    "# It enables you to separate business logic from the HTML\n",
    "# Everything is in python\n",
    "\n",
    "\n",
    "# Create a Project in Django:\n",
    "\n",
    "# To start a project in Django, you use command $ django-admin.py and then use the command\n",
    "\n",
    "# Project\n",
    "# _init_.py\n",
    "# manage.py\n",
    "# settings.py\n",
    "# urls.py"
   ]
  },
  {
   "cell_type": "code",
   "execution_count": null,
   "id": "a2e0095b",
   "metadata": {},
   "outputs": [],
   "source": [
    "\n",
    "# Q-2: How to check installed version of django?\n",
    "\n",
    "# ans:\n",
    "\n",
    "# 1. To check the Django version for python3 open the terminal and write the command in your terminal:\n",
    "# python -m django --version\n",
    "\n",
    "# 2. Another way to check Django version for python3 is by using the below command.\n",
    "# django-admin - -version\n",
    "\n",
    "# 3. You can also check django version while running the project.\n",
    "# python manage.py runserver\n",
    "\n",
    "# 4.Check Django Version using the pip\n",
    "# pip freeze  or  pip list\n",
    "\n",
    "# 5.Checking Django Version from Within a Python Script\n",
    "# print(django.get_version())"
   ]
  },
  {
   "cell_type": "code",
   "execution_count": null,
   "id": "ab6843fa",
   "metadata": {},
   "outputs": [],
   "source": [
    "\n",
    "# Q-3 : Explain what does django-admin.py make messages command is used for?\n",
    "\n",
    "# ans:\n",
    "\n",
    "# This command line executes over the entire source tree of the current directory and abstracts all the strings marked for translation.  It makes a message file in the locale directory.\n",
    "\n",
    "# The django-admin.py make messages command is used to collect all the translation strings from the Django  project and create or update the language files for translation.\n",
    "\n",
    "# This command searches through the project's sourse code and templates, extracts all the translatable strings, and creates or updates the .po files for each language specified in the project settings.\n",
    "\n",
    "# These .po files contain the original strings and their corresponding translations, and they are used by the Django internalization(i18n) framework to provide multilingual support for the project.\n",
    "\n",
    "# Once the .po files are created or updated, translators can use tools like,\n",
    "\n",
    "# django-admin.py comilemessages\n",
    "\n",
    "# to compile them into .mo files, which are then used by Django to display the translated content to users based on their language preferences."
   ]
  },
  {
   "cell_type": "code",
   "execution_count": null,
   "id": "0ec1ad30",
   "metadata": {},
   "outputs": [],
   "source": [
    "\n",
    "# Q-4: What is Django URLs? make program to create django urls.\n",
    "\n",
    "# ans:\n",
    "\n",
    "# Django URLs is:\n",
    "\n",
    "# Django also provides a way to navigate around the different pages in a website.\n",
    "# When a user requests a URL, Django decides which view it will send it to.\n",
    "# This is done in a file called urls.py.\n",
    "\n",
    "# make program to create django urls:\n",
    "\n",
    "from django.urls import path\n",
    "from . import views\n",
    "\n",
    "urlpatterns = [\n",
    "    path('', views.index, name='index'),\n",
    "    path('about/', views.about, name='about'),\n",
    "    # add more URL patterns as needed\n",
    "]"
   ]
  },
  {
   "cell_type": "code",
   "execution_count": null,
   "id": "35793bd2",
   "metadata": {},
   "outputs": [],
   "source": [
    "\n",
    "# Q-5 : What is a QuerySet? Write program to create a new Post object in database:\n",
    "\n",
    "# ans:\n",
    "\n",
    "# A QuerySet is a collection of data from a database.\n",
    "# A QuerySet is built up as a list of objects.\n",
    "# QuerySets makes it easier to get the data you actually need, by allowing you to filter and order the data at an early stage.\n",
    "\n",
    "# Create object:\n",
    "\n",
    "# create a new Post object in database:\n",
    "# Post.objects.create(author=User, title='Sample title', text='Test')\n",
    "\n",
    "# import User model first:\n",
    "# from django.contrib.auth.models import User\n",
    "\n",
    "# User.objects.all()\n",
    "# User = User.objects.get(username='username')\n",
    "# Post.objects.filter(title__contains='title')"
   ]
  },
  {
   "cell_type": "code",
   "execution_count": null,
   "id": "21b1aa67",
   "metadata": {},
   "outputs": [],
   "source": [
    "\n",
    "# Q-6 : Mention what command line can be used to load data into Django?\n",
    "\n",
    "# ans:\n",
    "\n",
    "# To load data into Django you have to use the command line Django-admin.py loaddata.\n",
    "\n",
    "# The command line will searches the data and loads the contents of the named fixtures into the database."
   ]
  },
  {
   "cell_type": "code",
   "execution_count": null,
   "id": "d636e03b",
   "metadata": {},
   "outputs": [],
   "source": [
    "\n",
    "# Q-7 : Explain what does django-admin.py make messages command is used for?\n",
    "\n",
    "# ans:\n",
    "\n",
    "# This command line executes over the entire source tree of the current directory and abstracts all the strings marked for translation.  It makes a message file in the locale directory.\n",
    "\n",
    "# The django-admin.py make messages command is used to collect all the translation strings from the Django  project and create or update the language files for translation.\n",
    "\n",
    "# This command searches through the project's sourse code and templates, extracts all the translatable strings, and creates or updates the .po files for each language specified in the project settings.\n",
    "\n",
    "# These .po files contain the original strings and their corresponding translations, and they are used by the Django internalization(i18n) framework to provide multilingual support for the project.\n",
    "\n",
    "# Once the .po files are created or updated, translators can use tools like,\n",
    "\n",
    "# django-admin.py comilemessages\n",
    "\n",
    "# to compile them into .mo files, which are then used by Django to display the translated content to users based on their language preferences."
   ]
  },
  {
   "cell_type": "code",
   "execution_count": null,
   "id": "16ff9c9c",
   "metadata": {},
   "outputs": [],
   "source": []
  },
  {
   "cell_type": "code",
   "execution_count": null,
   "id": "ebbe26e0",
   "metadata": {},
   "outputs": [],
   "source": []
  },
  {
   "cell_type": "code",
   "execution_count": null,
   "id": "3673ebe4",
   "metadata": {},
   "outputs": [],
   "source": []
  },
  {
   "cell_type": "code",
   "execution_count": null,
   "id": "ba46f110",
   "metadata": {},
   "outputs": [],
   "source": []
  },
  {
   "cell_type": "code",
   "execution_count": null,
   "id": "90d9f27d",
   "metadata": {},
   "outputs": [],
   "source": []
  },
  {
   "cell_type": "code",
   "execution_count": null,
   "id": "43e699df",
   "metadata": {},
   "outputs": [],
   "source": []
  }
 ],
 "metadata": {
  "kernelspec": {
   "display_name": "Python 3 (ipykernel)",
   "language": "python",
   "name": "python3"
  },
  "language_info": {
   "codemirror_mode": {
    "name": "ipython",
    "version": 3
   },
   "file_extension": ".py",
   "mimetype": "text/x-python",
   "name": "python",
   "nbconvert_exporter": "python",
   "pygments_lexer": "ipython3",
   "version": "3.10.9"
  }
 },
 "nbformat": 4,
 "nbformat_minor": 5
}
