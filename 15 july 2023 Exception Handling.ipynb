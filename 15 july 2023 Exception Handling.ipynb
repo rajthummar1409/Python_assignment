{
 "cells": [
  {
   "cell_type": "code",
   "execution_count": null,
   "id": "ea4185a4",
   "metadata": {},
   "outputs": [],
   "source": [
    "# exception handling"
   ]
  },
  {
   "cell_type": "code",
   "execution_count": 1,
   "id": "e4b15fa6",
   "metadata": {},
   "outputs": [],
   "source": [
    "a=int(input(\"Enter Numvber1: \"))\n",
    "b=int(input(\"Enter Numvber2: \"))\n",
    "print(a/b)"
   ]
  },
  {
   "cell_type": "code",
   "execution_count": null,
   "id": "7fd8af88",
   "metadata": {},
   "outputs": [],
   "source": [
    "# try\n",
    "# except\n",
    "# finally\n",
    "# else\n",
    "\n",
    "\n",
    "# raise"
   ]
  },
  {
   "cell_type": "code",
   "execution_count": null,
   "id": "8bc33963",
   "metadata": {},
   "outputs": [],
   "source": [
    "try:\n",
    "    a=int(input(\"Enter Numvber1: \"))\n",
    "    b=int(input(\"Enter Numvber2: \"))\n",
    "    print(a/b)\n",
    "except:\n",
    "    print(\"Unknown Error\")"
   ]
  },
  {
   "cell_type": "code",
   "execution_count": null,
   "id": "a5af4186",
   "metadata": {},
   "outputs": [],
   "source": [
    "try:\n",
    "    a=int(input(\"Enter Numvber1: \"))\n",
    "    b=int(input(\"Enter Numvber2: \"))\n",
    "    print(a/b)\n",
    "except ValueError as v:\n",
    "    print(\"Integers allowed\",v)\n",
    "except ZeroDivisionError as z:\n",
    "    print(\"Not allowed to divide by zero\",z)\n",
    "except:\n",
    "    print(\"Unknoewn Erro\")"
   ]
  },
  {
   "cell_type": "code",
   "execution_count": null,
   "id": "553fdcde",
   "metadata": {},
   "outputs": [],
   "source": [
    "try:\n",
    "    a=int(input(\"Enter Numvber1: \"))\n",
    "    b=int(input(\"Enter Numvber2: \"))\n",
    "    print(a/b)\n",
    "except ValueError as v:\n",
    "    print(\"Integers allowed\",v)\n",
    "except ZeroDivisionError as z:\n",
    "    print(\"Not allowed to divide by zero\",z)\n",
    "except:\n",
    "    print(\"Unknoewn Erro\")\n",
    "finally:\n",
    "    del a\n",
    "    del b\n",
    "    print(\"I will execute always\")"
   ]
  },
  {
   "cell_type": "code",
   "execution_count": null,
   "id": "369bbdbb",
   "metadata": {},
   "outputs": [],
   "source": [
    "print(a)"
   ]
  },
  {
   "cell_type": "code",
   "execution_count": null,
   "id": "02c5ab42",
   "metadata": {},
   "outputs": [],
   "source": [
    "# else\n",
    "try:\n",
    "    print(\"hello world\")\n",
    "except:\n",
    "    print(\"error in try block\")\n",
    "else:\n",
    "    print(\"i am else block\")"
   ]
  },
  {
   "cell_type": "code",
   "execution_count": null,
   "id": "f27bfecb",
   "metadata": {},
   "outputs": [],
   "source": [
    "print(\"hello I am good\")\n",
    "raise\n",
    "print(\"hello i am python\")"
   ]
  },
  {
   "cell_type": "code",
   "execution_count": null,
   "id": "5cd0dd02",
   "metadata": {},
   "outputs": [],
   "source": [
    "a=int(input(\"Enter Number1: \"))\n",
    "b=int(input(\"Enter number2: \"))\n",
    "# if a>10:\n",
    "#     print(\"not allowed\")\n",
    "# else:\n",
    "#     print(a+b)\n",
    "try:\n",
    "    if a>10:\n",
    "        raise\n",
    "    else:\n",
    "        print(a+b)\n",
    "except:\n",
    "    print(\"Not a biiger value than 10 allowed\")"
   ]
  },
  {
   "cell_type": "code",
   "execution_count": null,
   "id": "5dc90d4b",
   "metadata": {},
   "outputs": [],
   "source": [
    "list1=[1,2]\n",
    "print(list1[5])"
   ]
  },
  {
   "cell_type": "code",
   "execution_count": null,
   "id": "4be138c8",
   "metadata": {},
   "outputs": [],
   "source": [
    "import jhgfjkrdrb"
   ]
  },
  {
   "cell_type": "code",
   "execution_count": null,
   "id": "70703827",
   "metadata": {},
   "outputs": [],
   "source": [
    "dict1={1:\"hello\",2:\"Wow\"}\n",
    "print(dict1[3])"
   ]
  },
  {
   "cell_type": "code",
   "execution_count": null,
   "id": "b9ee8066",
   "metadata": {},
   "outputs": [],
   "source": [
    "from random import jhfdjkghrfkjg\n",
    "# from jkdhgkjrgb import dklgfkl"
   ]
  },
  {
   "cell_type": "code",
   "execution_count": null,
   "id": "e5b734c4",
   "metadata": {},
   "outputs": [],
   "source": [
    "list1=[1,2,3]\n",
    "iterable=iter(list1)\n",
    "next(iterable)\n",
    "for i in list1:\n",
    "    print(i)\n",
    "# next(iterable)\n",
    "# next(iterable)\n",
    "# next(iterable)"
   ]
  },
  {
   "cell_type": "code",
   "execution_count": null,
   "id": "739fe1c9",
   "metadata": {},
   "outputs": [],
   "source": [
    "print(\"hello\"+9)"
   ]
  },
  {
   "cell_type": "code",
   "execution_count": null,
   "id": "1ceb91e9",
   "metadata": {},
   "outputs": [],
   "source": [
    "a=int(input(\"Enter\"))"
   ]
  },
  {
   "cell_type": "code",
   "execution_count": null,
   "id": "59751bd0",
   "metadata": {},
   "outputs": [],
   "source": [
    "print(op)"
   ]
  },
  {
   "cell_type": "code",
   "execution_count": null,
   "id": "daf09873",
   "metadata": {},
   "outputs": [],
   "source": [
    "def fun1(a):\n",
    "    print(a)"
   ]
  },
  {
   "cell_type": "code",
   "execution_count": null,
   "id": "a13d76cd",
   "metadata": {},
   "outputs": [],
   "source": [
    "fun1(\"hello\")"
   ]
  },
  {
   "cell_type": "code",
   "execution_count": null,
   "id": "840dcb95",
   "metadata": {},
   "outputs": [],
   "source": [
    "def make_pretty(func):\n",
    "    # define the inner function \n",
    "    def inner():\n",
    "        # add some additional behavior to decorated function\n",
    "        print(\"I got decorated\")\n",
    "\n",
    "        # call original function\n",
    "        func()\n",
    "    # return the inner function\n",
    "    return inner\n",
    "\n",
    "# define ordinary function\n",
    "def ordinary():\n",
    "    print(\"I am ordinary\")\n",
    "    \n",
    "# decorate the ordinary function\n",
    "decorated_func = make_pretty(ordinary)\n",
    "\n",
    "# call the decorated function\n",
    "decorated_func()"
   ]
  },
  {
   "cell_type": "code",
   "execution_count": null,
   "id": "c1cdf278",
   "metadata": {},
   "outputs": [],
   "source": [
    "def make_pretty(func):\n",
    "    # define the inner function \n",
    "    def inner():\n",
    "        # add some additional behavior to decorated function\n",
    "        print(\"I got decorated\")\n",
    "\n",
    "        # call original function\n",
    "        func()\n",
    "    # return the inner function\n",
    "    return inner\n",
    "\n",
    "# define ordinary function\n",
    "@make_pretty\n",
    "def ordinary():\n",
    "    print(\"I am ordinary\")\n",
    "    \n",
    "# decorate the ordinary function\n",
    "decorated_func = ordinary()\n",
    "\n",
    "# call the decorated function\n",
    "print(decorated_func)"
   ]
  },
  {
   "cell_type": "code",
   "execution_count": null,
   "id": "358df20c",
   "metadata": {},
   "outputs": [],
   "source": [
    "def check_even(func):\n",
    "    def inner():\n",
    "        print(\"Hey kaise ho app????\")\n",
    "        func()\n",
    "    return inner\n",
    "\n",
    "\n",
    "@check_even\n",
    "def addition():\n",
    "    print(\"hello How are you\")\n",
    "    \n",
    "ans=addition()"
   ]
  },
  {
   "cell_type": "code",
   "execution_count": null,
   "id": "fb665ba3",
   "metadata": {},
   "outputs": [],
   "source": [
    "str1=\"fjhgjk\""
   ]
  }
 ],
 "metadata": {
  "kernelspec": {
   "display_name": "Python 3 (ipykernel)",
   "language": "python",
   "name": "python3"
  },
  "language_info": {
   "codemirror_mode": {
    "name": "ipython",
    "version": 3
   },
   "file_extension": ".py",
   "mimetype": "text/x-python",
   "name": "python",
   "nbconvert_exporter": "python",
   "pygments_lexer": "ipython3",
   "version": "3.12.2"
  }
 },
 "nbformat": 4,
 "nbformat_minor": 5
}
